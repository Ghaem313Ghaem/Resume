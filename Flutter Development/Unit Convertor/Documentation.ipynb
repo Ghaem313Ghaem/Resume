{
 "cells": [
  {
   "attachments": {},
   "cell_type": "markdown",
   "metadata": {},
   "source": [
    "# <span style=\"color:orange;\">**Unit Convertor**</span>"
   ]
  },
  {
   "attachments": {},
   "cell_type": "markdown",
   "metadata": {},
   "source": [
    "Spent Times:\n",
    "- Wednesday: 13th December 2023, 22nd Azar 1402 | **00:30:00.00** | Wireframing\n",
    "- Thursday: 14th December 2023, 23rd Azar 1402 | **01:02:00.00** | Logo Designing & Applying"
   ]
  }
 ],
 "metadata": {
  "language_info": {
   "name": "python"
  },
  "orig_nbformat": 4
 },
 "nbformat": 4,
 "nbformat_minor": 2
}
