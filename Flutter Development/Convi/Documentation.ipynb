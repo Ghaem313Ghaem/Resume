{
 "cells": [
  {
   "attachments": {},
   "cell_type": "markdown",
   "metadata": {},
   "source": [
    "# <span style=\"color:orange;\">**Unit Convertor**</span>"
   ]
  },
  {
   "attachments": {},
   "cell_type": "markdown",
   "metadata": {},
   "source": [
    "Spent Times:\n",
    "- Wednesday: 13th December 2023, 22nd Azar 1402 | **00:30:00.00** | Wireframing\n",
    "- Thursday: 14th December 2023, 23rd Azar 1402 | **01:02:00.00** | Logo Designing & Applying\n",
    "- Saturday: 16th December 2023, 25th Azar 1402 | **01:05:00.00** | Loading Spinner Designing\n",
    "- Sunday: 17th December 2023, 26th Azar 1402 | **00:37:00.00** | Finishing Designing"
   ]
  },
  {
   "attachments": {},
   "cell_type": "markdown",
   "metadata": {},
   "source": [
    "<span style=\"color:orange\">**Next duty:**</span>\n",
    "\n",
    "Working on the using the formulaitons to conversions."
   ]
  }
 ],
 "metadata": {
  "language_info": {
   "name": "python"
  },
  "orig_nbformat": 4
 },
 "nbformat": 4,
 "nbformat_minor": 2
}
