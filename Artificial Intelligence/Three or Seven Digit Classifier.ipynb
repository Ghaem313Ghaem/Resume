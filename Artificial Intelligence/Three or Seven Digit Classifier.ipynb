{
 "cells": [
  {
   "cell_type": "markdown",
   "metadata": {},
   "source": [
    "# <span style=\"color:orange;\">**Three or Seven Digit Classifier**</span>"
   ]
  },
  {
   "cell_type": "markdown",
   "metadata": {},
   "source": [
    "First of all, I should import all necessary libraries:"
   ]
  },
  {
   "cell_type": "code",
   "execution_count": 1,
   "metadata": {},
   "outputs": [],
   "source": [
    "from fastai.vision.all import *\n",
    "from utils import *\n",
    "from fastbook import *"
   ]
  },
  {
   "cell_type": "markdown",
   "metadata": {},
   "source": [
    "In the next line, I download a sample of MNIST that contains images of just these digits:"
   ]
  },
  {
   "cell_type": "code",
   "execution_count": 2,
   "metadata": {},
   "outputs": [],
   "source": [
    "path = untar_data(URLs.MNIST_SAMPLE)"
   ]
  },
  {
   "cell_type": "markdown",
   "metadata": {},
   "source": [
    "In the next line, I show what is there in this directory:"
   ]
  },
  {
   "cell_type": "code",
   "execution_count": 3,
   "metadata": {},
   "outputs": [
    {
     "data": {
      "text/plain": [
       "(#3) [Path('C:/Users/Nafis Rayaneh/.fastai/data/mnist_sample/labels.csv'),Path('C:/Users/Nafis Rayaneh/.fastai/data/mnist_sample/train'),Path('C:/Users/Nafis Rayaneh/.fastai/data/mnist_sample/valid')]"
      ]
     },
     "execution_count": 3,
     "metadata": {},
     "output_type": "execute_result"
    }
   ],
   "source": [
    "path.ls()"
   ]
  },
  {
   "cell_type": "markdown",
   "metadata": {},
   "source": [
    "As the downloaded data set seprated by three data sets called \"training set\", \"validation set\" and \"test set\", in the next line, I show what is there in the training set:"
   ]
  },
  {
   "cell_type": "code",
   "execution_count": 4,
   "metadata": {},
   "outputs": [
    {
     "data": {
      "text/plain": [
       "(#2) [Path('C:/Users/Nafis Rayaneh/.fastai/data/mnist_sample/train/3'),Path('C:/Users/Nafis Rayaneh/.fastai/data/mnist_sample/train/7')]"
      ]
     },
     "execution_count": 4,
     "metadata": {},
     "output_type": "execute_result"
    }
   ],
   "source": [
    "(path/'train').ls()"
   ]
  },
  {
   "cell_type": "markdown",
   "metadata": {},
   "source": [
    "As you could see, there is a folder called 3 for 3 digit pictures and another one for 7 digit pictures."
   ]
  },
  {
   "cell_type": "markdown",
   "metadata": {},
   "source": [
    "In the next line, I show what is there in each folder (I sort to get the same order files):"
   ]
  },
  {
   "cell_type": "code",
   "execution_count": 5,
   "metadata": {},
   "outputs": [],
   "source": [
    "threes = (path/'train'/'3').ls().sorted()\n",
    "sevens = (path/'train'/'7').ls().sorted()"
   ]
  },
  {
   "cell_type": "code",
   "execution_count": 6,
   "metadata": {},
   "outputs": [
    {
     "data": {
      "text/plain": [
       "(#6131) [Path('C:/Users/Nafis Rayaneh/.fastai/data/mnist_sample/train/3/10.png'),Path('C:/Users/Nafis Rayaneh/.fastai/data/mnist_sample/train/3/10000.png'),Path('C:/Users/Nafis Rayaneh/.fastai/data/mnist_sample/train/3/10011.png'),Path('C:/Users/Nafis Rayaneh/.fastai/data/mnist_sample/train/3/10031.png'),Path('C:/Users/Nafis Rayaneh/.fastai/data/mnist_sample/train/3/10034.png'),Path('C:/Users/Nafis Rayaneh/.fastai/data/mnist_sample/train/3/10042.png'),Path('C:/Users/Nafis Rayaneh/.fastai/data/mnist_sample/train/3/10052.png'),Path('C:/Users/Nafis Rayaneh/.fastai/data/mnist_sample/train/3/1007.png'),Path('C:/Users/Nafis Rayaneh/.fastai/data/mnist_sample/train/3/10074.png'),Path('C:/Users/Nafis Rayaneh/.fastai/data/mnist_sample/train/3/10091.png')...]"
      ]
     },
     "execution_count": 6,
     "metadata": {},
     "output_type": "execute_result"
    }
   ],
   "source": [
    "threes"
   ]
  },
  {
   "cell_type": "code",
   "execution_count": 7,
   "metadata": {},
   "outputs": [
    {
     "data": {
      "text/plain": [
       "(#6265) [Path('C:/Users/Nafis Rayaneh/.fastai/data/mnist_sample/train/7/10002.png'),Path('C:/Users/Nafis Rayaneh/.fastai/data/mnist_sample/train/7/1001.png'),Path('C:/Users/Nafis Rayaneh/.fastai/data/mnist_sample/train/7/10014.png'),Path('C:/Users/Nafis Rayaneh/.fastai/data/mnist_sample/train/7/10019.png'),Path('C:/Users/Nafis Rayaneh/.fastai/data/mnist_sample/train/7/10039.png'),Path('C:/Users/Nafis Rayaneh/.fastai/data/mnist_sample/train/7/10046.png'),Path('C:/Users/Nafis Rayaneh/.fastai/data/mnist_sample/train/7/10050.png'),Path('C:/Users/Nafis Rayaneh/.fastai/data/mnist_sample/train/7/10063.png'),Path('C:/Users/Nafis Rayaneh/.fastai/data/mnist_sample/train/7/10077.png'),Path('C:/Users/Nafis Rayaneh/.fastai/data/mnist_sample/train/7/10086.png')...]"
      ]
     },
     "execution_count": 7,
     "metadata": {},
     "output_type": "execute_result"
    }
   ],
   "source": [
    "sevens"
   ]
  },
  {
   "cell_type": "markdown",
   "metadata": {},
   "source": [
    "As it is seen, there are a lot of pictures of 3 and 7 in the mentioned folder."
   ]
  },
  {
   "cell_type": "markdown",
   "metadata": {},
   "source": [
    "In the next lines, I want show one of the pictures of 3 and 7:"
   ]
  },
  {
   "cell_type": "code",
   "execution_count": 8,
   "metadata": {},
   "outputs": [
    {
     "data": {
      "image/png": "[encoded data removed]",
      "text/plain": [
       "<PIL.PngImagePlugin.PngImageFile image mode=L size=28x28>"
      ]
     },
     "execution_count": 8,
     "metadata": {},
     "output_type": "execute_result"
    }
   ],
   "source": [
    "im3_path = threes[1]\n",
    "im3 = Image.open(im3_path)\n",
    "im3"
   ]
  },
  {
   "cell_type": "code",
   "execution_count": 9,
   "metadata": {},
   "outputs": [
    {
     "data": {
      "image/png": "[encoded data removed]",
      "text/plain": [
       "<PIL.PngImagePlugin.PngImageFile image mode=L size=28x28>"
      ]
     },
     "execution_count": 9,
     "metadata": {},
     "output_type": "execute_result"
    }
   ],
   "source": [
    "im7_path = sevens[1]\n",
    "im7 = Image.open(im7_path)\n",
    "im7"
   ]
  },
  {
   "cell_type": "markdown",
   "metadata": {},
   "source": [
    "In the next line, as the computer just understand the number, these images should convert into the numpy array or PyTorch tensor as follows (I request the numbers from 4th index in rows - inclusive - to 10th index in rows - noninclusive - and the same reason for columns):"
   ]
  },
  {
   "cell_type": "markdown",
   "metadata": {},
   "source": [
    "↓ Numpy array ↓"
   ]
  },
  {
   "cell_type": "code",
   "execution_count": 10,
   "metadata": {},
   "outputs": [
    {
     "data": {
      "text/plain": [
       "array([[  0,   0,   0,   0,   0,   0],\n",
       "       [  0,   0,   0,   0,   0,  29],\n",
       "       [  0,   0,   0,  48, 166, 224],\n",
       "       [  0,  93, 244, 249, 253, 187],\n",
       "       [  0, 107, 253, 253, 230,  48],\n",
       "       [  0,   3,  20,  20,  15,   0]], dtype=uint8)"
      ]
     },
     "execution_count": 10,
     "metadata": {},
     "output_type": "execute_result"
    }
   ],
   "source": [
    "array(im3)[4:10, 4:10]"
   ]
  },
  {
   "cell_type": "code",
   "execution_count": 11,
   "metadata": {},
   "outputs": [
    {
     "data": {
      "text/plain": [
       "array([[  0,   0,   0,   0,   0,   0],\n",
       "       [  0,   0,   0,   0,   0,   0],\n",
       "       [  0,   0,   0,   0,   0,   0],\n",
       "       [  0,   0,   0,   0,   0,   0],\n",
       "       [  0,   0,   0,   0,   0,   9],\n",
       "       [  0,   0,   0,   0,   0, 169]], dtype=uint8)"
      ]
     },
     "execution_count": 11,
     "metadata": {},
     "output_type": "execute_result"
    }
   ],
   "source": [
    "array(im7)[4:10, 4:10]"
   ]
  },
  {
   "cell_type": "markdown",
   "metadata": {},
   "source": [
    "↓ PyTorch Tensor ↓"
   ]
  },
  {
   "cell_type": "code",
   "execution_count": 12,
   "metadata": {},
   "outputs": [
    {
     "data": {
      "text/plain": [
       "tensor([[  0,   0,   0,   0,   0,   0],\n",
       "        [  0,   0,   0,   0,   0,  29],\n",
       "        [  0,   0,   0,  48, 166, 224],\n",
       "        [  0,  93, 244, 249, 253, 187],\n",
       "        [  0, 107, 253, 253, 230,  48],\n",
       "        [  0,   3,  20,  20,  15,   0]], dtype=torch.uint8)"
      ]
     },
     "execution_count": 12,
     "metadata": {},
     "output_type": "execute_result"
    }
   ],
   "source": [
    "tensor(im3)[4:10, 4:10]"
   ]
  },
  {
   "cell_type": "code",
   "execution_count": 13,
   "metadata": {},
   "outputs": [
    {
     "data": {
      "text/plain": [
       "tensor([[  0,   0,   0,   0,   0,   0],\n",
       "        [  0,   0,   0,   0,   0,   0],\n",
       "        [  0,   0,   0,   0,   0,   0],\n",
       "        [  0,   0,   0,   0,   0,   0],\n",
       "        [  0,   0,   0,   0,   0,   9],\n",
       "        [  0,   0,   0,   0,   0, 169]], dtype=torch.uint8)"
      ]
     },
     "execution_count": 13,
     "metadata": {},
     "output_type": "execute_result"
    }
   ],
   "source": [
    "tensor(im7)[4:10, 4:10]"
   ]
  },
  {
   "cell_type": "markdown",
   "metadata": {},
   "source": [
    "In the next lines, I can slice the array to pick just the part with the top of the digit in it, and then use a Pandas DataFrame to color-code the values using a gradient, which shows clearly how the image is created from the pixel values for both 3 picture and 7:"
   ]
  },
  {
   "cell_type": "code",
   "execution_count": 14,
   "metadata": {
    "scrolled": false
   },
   "outputs": [
    {
     "data": {
      "text/html": [
       "<style type=\"text/css\">\n",
       "#T_64cfc_row0_col0, #T_64cfc_row0_col1, #T_64cfc_row0_col2, #T_64cfc_row0_col3, #T_64cfc_row0_col4, #T_64cfc_row0_col5, #T_64cfc_row0_col6, #T_64cfc_row0_col7, #T_64cfc_row0_col8, #T_64cfc_row0_col9, #T_64cfc_row0_col10, #T_64cfc_row0_col11, #T_64cfc_row0_col12, #T_64cfc_row0_col13, #T_64cfc_row0_col14, #T_64cfc_row0_col15, #T_64cfc_row0_col16, #T_64cfc_row0_col17, #T_64cfc_row1_col0, #T_64cfc_row1_col1, #T_64cfc_row1_col2, #T_64cfc_row1_col3, #T_64cfc_row1_col4, #T_64cfc_row1_col15, #T_64cfc_row1_col16, #T_64cfc_row1_col17, #T_64cfc_row2_col0, #T_64cfc_row2_col1, #T_64cfc_row2_col2, #T_64cfc_row2_col15, #T_64cfc_row2_col16, #T_64cfc_row2_col17, #T_64cfc_row3_col0, #T_64cfc_row3_col15, #T_64cfc_row3_col16, #T_64cfc_row3_col17, #T_64cfc_row4_col0, #T_64cfc_row4_col6, #T_64cfc_row4_col7, #T_64cfc_row4_col8, #T_64cfc_row4_col9, #T_64cfc_row4_col10, #T_64cfc_row4_col15, #T_64cfc_row4_col16, #T_64cfc_row4_col17, #T_64cfc_row5_col0, #T_64cfc_row5_col5, #T_64cfc_row5_col6, #T_64cfc_row5_col7, #T_64cfc_row5_col8, #T_64cfc_row5_col9, #T_64cfc_row5_col15, #T_64cfc_row5_col16, #T_64cfc_row5_col17, #T_64cfc_row6_col0, #T_64cfc_row6_col1, #T_64cfc_row6_col2, #T_64cfc_row6_col3, #T_64cfc_row6_col4, #T_64cfc_row6_col5, #T_64cfc_row6_col6, #T_64cfc_row6_col7, #T_64cfc_row6_col8, #T_64cfc_row6_col9, #T_64cfc_row6_col14, #T_64cfc_row6_col15, #T_64cfc_row6_col16, #T_64cfc_row6_col17, #T_64cfc_row7_col0, #T_64cfc_row7_col1, #T_64cfc_row7_col2, #T_64cfc_row7_col3, #T_64cfc_row7_col4, #T_64cfc_row7_col5, #T_64cfc_row7_col6, #T_64cfc_row7_col13, #T_64cfc_row7_col14, #T_64cfc_row7_col15, #T_64cfc_row7_col16, #T_64cfc_row7_col17, #T_64cfc_row8_col0, #T_64cfc_row8_col1, #T_64cfc_row8_col2, #T_64cfc_row8_col3, #T_64cfc_row8_col4, #T_64cfc_row8_col13, #T_64cfc_row8_col14, #T_64cfc_row8_col15, #T_64cfc_row8_col16, #T_64cfc_row8_col17, #T_64cfc_row9_col0, #T_64cfc_row9_col1, #T_64cfc_row9_col2, #T_64cfc_row9_col3, #T_64cfc_row9_col4, #T_64cfc_row9_col16, #T_64cfc_row9_col17, #T_64cfc_row10_col0, #T_64cfc_row10_col1, #T_64cfc_row10_col2, #T_64cfc_row10_col3, #T_64cfc_row10_col4, #T_64cfc_row10_col5, #T_64cfc_row10_col6, #T_64cfc_row10_col17, #T_64cfc_row11_col0, #T_64cfc_row11_col1, #T_64cfc_row11_col2, #T_64cfc_row11_col3, #T_64cfc_row11_col4, #T_64cfc_row11_col5, #T_64cfc_row11_col6, #T_64cfc_row11_col7, #T_64cfc_row11_col8, #T_64cfc_row11_col9, #T_64cfc_row11_col17, #T_64cfc_row12_col0, #T_64cfc_row12_col1, #T_64cfc_row12_col2, #T_64cfc_row12_col3, #T_64cfc_row12_col4, #T_64cfc_row12_col5, #T_64cfc_row12_col6, #T_64cfc_row12_col7, #T_64cfc_row12_col8, #T_64cfc_row12_col9, #T_64cfc_row12_col10, #T_64cfc_row12_col11, #T_64cfc_row12_col12, #T_64cfc_row12_col17, #T_64cfc_row13_col0, #T_64cfc_row13_col1, #T_64cfc_row13_col2, #T_64cfc_row13_col3, #T_64cfc_row13_col4, #T_64cfc_row13_col5, #T_64cfc_row13_col6, #T_64cfc_row13_col7, #T_64cfc_row13_col8, #T_64cfc_row13_col9, #T_64cfc_row13_col10, #T_64cfc_row13_col11, #T_64cfc_row13_col12, #T_64cfc_row13_col17, #T_64cfc_row14_col0, #T_64cfc_row14_col1, #T_64cfc_row14_col2, #T_64cfc_row14_col3, #T_64cfc_row14_col4, #T_64cfc_row14_col5, #T_64cfc_row14_col6, #T_64cfc_row14_col7, #T_64cfc_row14_col8, #T_64cfc_row14_col9, #T_64cfc_row14_col10, #T_64cfc_row14_col11, #T_64cfc_row14_col17, #T_64cfc_row15_col0, #T_64cfc_row15_col1, #T_64cfc_row15_col2, #T_64cfc_row15_col3, #T_64cfc_row15_col4, #T_64cfc_row15_col5, #T_64cfc_row15_col6, #T_64cfc_row15_col7, #T_64cfc_row15_col8, #T_64cfc_row15_col9, #T_64cfc_row15_col10, #T_64cfc_row15_col17, #T_64cfc_row16_col0, #T_64cfc_row16_col1, #T_64cfc_row16_col2, #T_64cfc_row16_col3, #T_64cfc_row16_col4, #T_64cfc_row16_col5, #T_64cfc_row16_col6, #T_64cfc_row16_col7, #T_64cfc_row16_col8, #T_64cfc_row16_col9, #T_64cfc_row16_col16, #T_64cfc_row16_col17, #T_64cfc_row17_col0, #T_64cfc_row17_col1, #T_64cfc_row17_col2, #T_64cfc_row17_col3, #T_64cfc_row17_col4, #T_64cfc_row17_col5, #T_64cfc_row17_col6, #T_64cfc_row17_col7, #T_64cfc_row17_col15, #T_64cfc_row17_col16, #T_64cfc_row17_col17, #T_64cfc_row18_col0, #T_64cfc_row18_col1, #T_64cfc_row18_col14, #T_64cfc_row18_col15, #T_64cfc_row18_col16, #T_64cfc_row18_col17, #T_64cfc_row19_col0, #T_64cfc_row19_col1, #T_64cfc_row19_col12, #T_64cfc_row19_col13, #T_64cfc_row19_col14, #T_64cfc_row19_col15, #T_64cfc_row19_col16, #T_64cfc_row19_col17, #T_64cfc_row20_col0, #T_64cfc_row20_col1, #T_64cfc_row20_col10, #T_64cfc_row20_col11, #T_64cfc_row20_col12, #T_64cfc_row20_col13, #T_64cfc_row20_col14, #T_64cfc_row20_col15, #T_64cfc_row20_col16, #T_64cfc_row20_col17, #T_64cfc_row21_col0, #T_64cfc_row21_col1, #T_64cfc_row21_col2, #T_64cfc_row21_col3, #T_64cfc_row21_col4, #T_64cfc_row21_col5, #T_64cfc_row21_col6, #T_64cfc_row21_col7, #T_64cfc_row21_col8, #T_64cfc_row21_col9, #T_64cfc_row21_col10, #T_64cfc_row21_col11, #T_64cfc_row21_col12, #T_64cfc_row21_col13, #T_64cfc_row21_col14, #T_64cfc_row21_col15, #T_64cfc_row21_col16, #T_64cfc_row21_col17 {\n",
       "  font-siz: 6pt;\n",
       "  background-color: #ffffff;\n",
       "  color: #000000;\n",
       "}\n",
       "#T_64cfc_row1_col5, #T_64cfc_row8_col12 {\n",
       "  font-siz: 6pt;\n",
       "  background-color: #f1f1f1;\n",
       "  color: #000000;\n",
       "}\n",
       "#T_64cfc_row1_col6, #T_64cfc_row1_col13 {\n",
       "  font-siz: 6pt;\n",
       "  background-color: #7c7c7c;\n",
       "  color: #f1f1f1;\n",
       "}\n",
       "#T_64cfc_row1_col7 {\n",
       "  font-siz: 6pt;\n",
       "  background-color: #4a4a4a;\n",
       "  color: #f1f1f1;\n",
       "}\n",
       "#T_64cfc_row1_col8, #T_64cfc_row1_col9, #T_64cfc_row1_col10, #T_64cfc_row2_col6, #T_64cfc_row2_col7, #T_64cfc_row2_col11, #T_64cfc_row2_col12, #T_64cfc_row2_col13, #T_64cfc_row3_col4, #T_64cfc_row3_col12, #T_64cfc_row3_col13, #T_64cfc_row4_col1, #T_64cfc_row4_col2, #T_64cfc_row4_col3, #T_64cfc_row4_col12, #T_64cfc_row4_col13, #T_64cfc_row5_col12, #T_64cfc_row6_col11, #T_64cfc_row9_col11, #T_64cfc_row10_col11, #T_64cfc_row10_col12, #T_64cfc_row10_col13, #T_64cfc_row10_col14, #T_64cfc_row11_col13, #T_64cfc_row11_col14, #T_64cfc_row11_col15, #T_64cfc_row12_col14, #T_64cfc_row12_col15, #T_64cfc_row12_col16, #T_64cfc_row13_col14, #T_64cfc_row13_col15, #T_64cfc_row14_col14, #T_64cfc_row14_col15, #T_64cfc_row15_col13, #T_64cfc_row15_col14, #T_64cfc_row16_col12, #T_64cfc_row16_col13, #T_64cfc_row17_col11, #T_64cfc_row17_col12, #T_64cfc_row19_col3, #T_64cfc_row19_col4, #T_64cfc_row19_col5, #T_64cfc_row19_col6, #T_64cfc_row19_col7, #T_64cfc_row20_col3, #T_64cfc_row20_col4, #T_64cfc_row20_col5, #T_64cfc_row20_col6, #T_64cfc_row20_col7 {\n",
       "  font-siz: 6pt;\n",
       "  background-color: #000000;\n",
       "  color: #f1f1f1;\n",
       "}\n",
       "#T_64cfc_row1_col11 {\n",
       "  font-siz: 6pt;\n",
       "  background-color: #606060;\n",
       "  color: #f1f1f1;\n",
       "}\n",
       "#T_64cfc_row1_col12 {\n",
       "  font-siz: 6pt;\n",
       "  background-color: #4d4d4d;\n",
       "  color: #f1f1f1;\n",
       "}\n",
       "#T_64cfc_row1_col14 {\n",
       "  font-siz: 6pt;\n",
       "  background-color: #bbbbbb;\n",
       "  color: #000000;\n",
       "}\n",
       "#T_64cfc_row2_col3, #T_64cfc_row4_col5 {\n",
       "  font-siz: 6pt;\n",
       "  background-color: #e4e4e4;\n",
       "  color: #000000;\n",
       "}\n",
       "#T_64cfc_row2_col4, #T_64cfc_row8_col6 {\n",
       "  font-siz: 6pt;\n",
       "  background-color: #6b6b6b;\n",
       "  color: #f1f1f1;\n",
       "}\n",
       "#T_64cfc_row2_col5, #T_64cfc_row5_col11 {\n",
       "  font-siz: 6pt;\n",
       "  background-color: #222222;\n",
       "  color: #f1f1f1;\n",
       "}\n",
       "#T_64cfc_row2_col8, #T_64cfc_row2_col14, #T_64cfc_row3_col14, #T_64cfc_row17_col13 {\n",
       "  font-siz: 6pt;\n",
       "  background-color: #171717;\n",
       "  color: #f1f1f1;\n",
       "}\n",
       "#T_64cfc_row2_col9, #T_64cfc_row3_col11 {\n",
       "  font-siz: 6pt;\n",
       "  background-color: #4b4b4b;\n",
       "  color: #f1f1f1;\n",
       "}\n",
       "#T_64cfc_row2_col10, #T_64cfc_row7_col10, #T_64cfc_row8_col8, #T_64cfc_row8_col10, #T_64cfc_row9_col8, #T_64cfc_row9_col10, #T_64cfc_row18_col10, #T_64cfc_row19_col8 {\n",
       "  font-siz: 6pt;\n",
       "  background-color: #010101;\n",
       "  color: #f1f1f1;\n",
       "}\n",
       "#T_64cfc_row3_col1 {\n",
       "  font-siz: 6pt;\n",
       "  background-color: #272727;\n",
       "  color: #f1f1f1;\n",
       "}\n",
       "#T_64cfc_row3_col2 {\n",
       "  font-siz: 6pt;\n",
       "  background-color: #0a0a0a;\n",
       "  color: #f1f1f1;\n",
       "}\n",
       "#T_64cfc_row3_col3, #T_64cfc_row14_col13 {\n",
       "  font-siz: 6pt;\n",
       "  background-color: #050505;\n",
       "  color: #f1f1f1;\n",
       "}\n",
       "#T_64cfc_row3_col5, #T_64cfc_row8_col11, #T_64cfc_row10_col15, #T_64cfc_row19_col2 {\n",
       "  font-siz: 6pt;\n",
       "  background-color: #545454;\n",
       "  color: #f1f1f1;\n",
       "}\n",
       "#T_64cfc_row3_col6 {\n",
       "  font-siz: 6pt;\n",
       "  background-color: #e6e6e6;\n",
       "  color: #000000;\n",
       "}\n",
       "#T_64cfc_row3_col7, #T_64cfc_row3_col10, #T_64cfc_row8_col5 {\n",
       "  font-siz: 6pt;\n",
       "  background-color: #fafafa;\n",
       "  color: #000000;\n",
       "}\n",
       "#T_64cfc_row3_col8, #T_64cfc_row11_col10, #T_64cfc_row16_col15 {\n",
       "  font-siz: 6pt;\n",
       "  background-color: #fbfbfb;\n",
       "  color: #000000;\n",
       "}\n",
       "#T_64cfc_row3_col9 {\n",
       "  font-siz: 6pt;\n",
       "  background-color: #fdfdfd;\n",
       "  color: #000000;\n",
       "}\n",
       "#T_64cfc_row4_col4 {\n",
       "  font-siz: 6pt;\n",
       "  background-color: #1b1b1b;\n",
       "  color: #f1f1f1;\n",
       "}\n",
       "#T_64cfc_row4_col11 {\n",
       "  font-siz: 6pt;\n",
       "  background-color: #4e4e4e;\n",
       "  color: #f1f1f1;\n",
       "}\n",
       "#T_64cfc_row4_col14 {\n",
       "  font-siz: 6pt;\n",
       "  background-color: #767676;\n",
       "  color: #f1f1f1;\n",
       "}\n",
       "#T_64cfc_row5_col1 {\n",
       "  font-siz: 6pt;\n",
       "  background-color: #fcfcfc;\n",
       "  color: #000000;\n",
       "}\n",
       "#T_64cfc_row5_col2, #T_64cfc_row5_col3, #T_64cfc_row15_col16 {\n",
       "  font-siz: 6pt;\n",
       "  background-color: #f6f6f6;\n",
       "  color: #000000;\n",
       "}\n",
       "#T_64cfc_row5_col4, #T_64cfc_row7_col7 {\n",
       "  font-siz: 6pt;\n",
       "  background-color: #f8f8f8;\n",
       "  color: #000000;\n",
       "}\n",
       "#T_64cfc_row5_col10, #T_64cfc_row10_col7 {\n",
       "  font-siz: 6pt;\n",
       "  background-color: #e8e8e8;\n",
       "  color: #000000;\n",
       "}\n",
       "#T_64cfc_row5_col13, #T_64cfc_row6_col12 {\n",
       "  font-siz: 6pt;\n",
       "  background-color: #090909;\n",
       "  color: #f1f1f1;\n",
       "}\n",
       "#T_64cfc_row5_col14 {\n",
       "  font-siz: 6pt;\n",
       "  background-color: #d0d0d0;\n",
       "  color: #000000;\n",
       "}\n",
       "#T_64cfc_row6_col10, #T_64cfc_row7_col11, #T_64cfc_row9_col6 {\n",
       "  font-siz: 6pt;\n",
       "  background-color: #060606;\n",
       "  color: #f1f1f1;\n",
       "}\n",
       "#T_64cfc_row6_col13 {\n",
       "  font-siz: 6pt;\n",
       "  background-color: #979797;\n",
       "  color: #f1f1f1;\n",
       "}\n",
       "#T_64cfc_row7_col8 {\n",
       "  font-siz: 6pt;\n",
       "  background-color: #b6b6b6;\n",
       "  color: #000000;\n",
       "}\n",
       "#T_64cfc_row7_col9 {\n",
       "  font-siz: 6pt;\n",
       "  background-color: #252525;\n",
       "  color: #f1f1f1;\n",
       "}\n",
       "#T_64cfc_row7_col12 {\n",
       "  font-siz: 6pt;\n",
       "  background-color: #999999;\n",
       "  color: #f1f1f1;\n",
       "}\n",
       "#T_64cfc_row8_col7, #T_64cfc_row18_col8 {\n",
       "  font-siz: 6pt;\n",
       "  background-color: #101010;\n",
       "  color: #f1f1f1;\n",
       "}\n",
       "#T_64cfc_row8_col9, #T_64cfc_row9_col9, #T_64cfc_row17_col10, #T_64cfc_row18_col9, #T_64cfc_row19_col9 {\n",
       "  font-siz: 6pt;\n",
       "  background-color: #020202;\n",
       "  color: #f1f1f1;\n",
       "}\n",
       "#T_64cfc_row9_col5 {\n",
       "  font-siz: 6pt;\n",
       "  background-color: #f7f7f7;\n",
       "  color: #000000;\n",
       "}\n",
       "#T_64cfc_row9_col7, #T_64cfc_row18_col11 {\n",
       "  font-siz: 6pt;\n",
       "  background-color: #030303;\n",
       "  color: #f1f1f1;\n",
       "}\n",
       "#T_64cfc_row9_col12 {\n",
       "  font-siz: 6pt;\n",
       "  background-color: #181818;\n",
       "  color: #f1f1f1;\n",
       "}\n",
       "#T_64cfc_row9_col13 {\n",
       "  font-siz: 6pt;\n",
       "  background-color: #303030;\n",
       "  color: #f1f1f1;\n",
       "}\n",
       "#T_64cfc_row9_col14 {\n",
       "  font-siz: 6pt;\n",
       "  background-color: #a9a9a9;\n",
       "  color: #f1f1f1;\n",
       "}\n",
       "#T_64cfc_row9_col15 {\n",
       "  font-siz: 6pt;\n",
       "  background-color: #fefefe;\n",
       "  color: #000000;\n",
       "}\n",
       "#T_64cfc_row10_col8, #T_64cfc_row10_col9, #T_64cfc_row16_col10 {\n",
       "  font-siz: 6pt;\n",
       "  background-color: #bababa;\n",
       "  color: #000000;\n",
       "}\n",
       "#T_64cfc_row10_col10 {\n",
       "  font-siz: 6pt;\n",
       "  background-color: #393939;\n",
       "  color: #f1f1f1;\n",
       "}\n",
       "#T_64cfc_row10_col16 {\n",
       "  font-siz: 6pt;\n",
       "  background-color: #eaeaea;\n",
       "  color: #000000;\n",
       "}\n",
       "#T_64cfc_row11_col11 {\n",
       "  font-siz: 6pt;\n",
       "  background-color: #e2e2e2;\n",
       "  color: #000000;\n",
       "}\n",
       "#T_64cfc_row11_col12 {\n",
       "  font-siz: 6pt;\n",
       "  background-color: #9f9f9f;\n",
       "  color: #f1f1f1;\n",
       "}\n",
       "#T_64cfc_row11_col16 {\n",
       "  font-siz: 6pt;\n",
       "  background-color: #898989;\n",
       "  color: #f1f1f1;\n",
       "}\n",
       "#T_64cfc_row12_col13 {\n",
       "  font-siz: 6pt;\n",
       "  background-color: #585858;\n",
       "  color: #f1f1f1;\n",
       "}\n",
       "#T_64cfc_row13_col13 {\n",
       "  font-siz: 6pt;\n",
       "  background-color: #5a5a5a;\n",
       "  color: #f1f1f1;\n",
       "}\n",
       "#T_64cfc_row13_col16 {\n",
       "  font-siz: 6pt;\n",
       "  background-color: #525252;\n",
       "  color: #f1f1f1;\n",
       "}\n",
       "#T_64cfc_row14_col12, #T_64cfc_row19_col11 {\n",
       "  font-siz: 6pt;\n",
       "  background-color: #c5c5c5;\n",
       "  color: #000000;\n",
       "}\n",
       "#T_64cfc_row14_col16 {\n",
       "  font-siz: 6pt;\n",
       "  background-color: #d7d7d7;\n",
       "  color: #000000;\n",
       "}\n",
       "#T_64cfc_row15_col11, #T_64cfc_row18_col5 {\n",
       "  font-siz: 6pt;\n",
       "  background-color: #dcdcdc;\n",
       "  color: #000000;\n",
       "}\n",
       "#T_64cfc_row15_col12 {\n",
       "  font-siz: 6pt;\n",
       "  background-color: #2f2f2f;\n",
       "  color: #f1f1f1;\n",
       "}\n",
       "#T_64cfc_row15_col15 {\n",
       "  font-siz: 6pt;\n",
       "  background-color: #636363;\n",
       "  color: #f1f1f1;\n",
       "}\n",
       "#T_64cfc_row16_col11 {\n",
       "  font-siz: 6pt;\n",
       "  background-color: #070707;\n",
       "  color: #f1f1f1;\n",
       "}\n",
       "#T_64cfc_row16_col14 {\n",
       "  font-siz: 6pt;\n",
       "  background-color: #1f1f1f;\n",
       "  color: #f1f1f1;\n",
       "}\n",
       "#T_64cfc_row17_col8, #T_64cfc_row18_col2, #T_64cfc_row18_col4 {\n",
       "  font-siz: 6pt;\n",
       "  background-color: #e9e9e9;\n",
       "  color: #000000;\n",
       "}\n",
       "#T_64cfc_row17_col9 {\n",
       "  font-siz: 6pt;\n",
       "  background-color: #7d7d7d;\n",
       "  color: #f1f1f1;\n",
       "}\n",
       "#T_64cfc_row17_col14 {\n",
       "  font-siz: 6pt;\n",
       "  background-color: #e1e1e1;\n",
       "  color: #000000;\n",
       "}\n",
       "#T_64cfc_row18_col3, #T_64cfc_row18_col6 {\n",
       "  font-siz: 6pt;\n",
       "  background-color: #a4a4a4;\n",
       "  color: #f1f1f1;\n",
       "}\n",
       "#T_64cfc_row18_col7 {\n",
       "  font-siz: 6pt;\n",
       "  background-color: #727272;\n",
       "  color: #f1f1f1;\n",
       "}\n",
       "#T_64cfc_row18_col12 {\n",
       "  font-siz: 6pt;\n",
       "  background-color: #616161;\n",
       "  color: #f1f1f1;\n",
       "}\n",
       "#T_64cfc_row18_col13 {\n",
       "  font-siz: 6pt;\n",
       "  background-color: #f3f3f3;\n",
       "  color: #000000;\n",
       "}\n",
       "#T_64cfc_row19_col10 {\n",
       "  font-siz: 6pt;\n",
       "  background-color: #484848;\n",
       "  color: #f1f1f1;\n",
       "}\n",
       "#T_64cfc_row20_col2 {\n",
       "  font-siz: 6pt;\n",
       "  background-color: #b3b3b3;\n",
       "  color: #000000;\n",
       "}\n",
       "#T_64cfc_row20_col8 {\n",
       "  font-siz: 6pt;\n",
       "  background-color: #1a1a1a;\n",
       "  color: #f1f1f1;\n",
       "}\n",
       "#T_64cfc_row20_col9 {\n",
       "  font-siz: 6pt;\n",
       "  background-color: #d6d6d6;\n",
       "  color: #000000;\n",
       "}\n",
       "</style>\n",
       "<table id=\"T_64cfc\">\n",
       "  <thead>\n",
       "    <tr>\n",
       "      <th class=\"blank level0\" >&nbsp;</th>\n",
       "      <th id=\"T_64cfc_level0_col0\" class=\"col_heading level0 col0\" >0</th>\n",
       "      <th id=\"T_64cfc_level0_col1\" class=\"col_heading level0 col1\" >1</th>\n",
       "      <th id=\"T_64cfc_level0_col2\" class=\"col_heading level0 col2\" >2</th>\n",
       "      <th id=\"T_64cfc_level0_col3\" class=\"col_heading level0 col3\" >3</th>\n",
       "      <th id=\"T_64cfc_level0_col4\" class=\"col_heading level0 col4\" >4</th>\n",
       "      <th id=\"T_64cfc_level0_col5\" class=\"col_heading level0 col5\" >5</th>\n",
       "      <th id=\"T_64cfc_level0_col6\" class=\"col_heading level0 col6\" >6</th>\n",
       "      <th id=\"T_64cfc_level0_col7\" class=\"col_heading level0 col7\" >7</th>\n",
       "      <th id=\"T_64cfc_level0_col8\" class=\"col_heading level0 col8\" >8</th>\n",
       "      <th id=\"T_64cfc_level0_col9\" class=\"col_heading level0 col9\" >9</th>\n",
       "      <th id=\"T_64cfc_level0_col10\" class=\"col_heading level0 col10\" >10</th>\n",
       "      <th id=\"T_64cfc_level0_col11\" class=\"col_heading level0 col11\" >11</th>\n",
       "      <th id=\"T_64cfc_level0_col12\" class=\"col_heading level0 col12\" >12</th>\n",
       "      <th id=\"T_64cfc_level0_col13\" class=\"col_heading level0 col13\" >13</th>\n",
       "      <th id=\"T_64cfc_level0_col14\" class=\"col_heading level0 col14\" >14</th>\n",
       "      <th id=\"T_64cfc_level0_col15\" class=\"col_heading level0 col15\" >15</th>\n",
       "      <th id=\"T_64cfc_level0_col16\" class=\"col_heading level0 col16\" >16</th>\n",
       "      <th id=\"T_64cfc_level0_col17\" class=\"col_heading level0 col17\" >17</th>\n",
       "    </tr>\n",
       "  </thead>\n",
       "  <tbody>\n",
       "    <tr>\n",
       "      <th id=\"T_64cfc_level0_row0\" class=\"row_heading level0 row0\" >0</th>\n",
       "      <td id=\"T_64cfc_row0_col0\" class=\"data row0 col0\" >0</td>\n",
       "      <td id=\"T_64cfc_row0_col1\" class=\"data row0 col1\" >0</td>\n",
       "      <td id=\"T_64cfc_row0_col2\" class=\"data row0 col2\" >0</td>\n",
       "      <td id=\"T_64cfc_row0_col3\" class=\"data row0 col3\" >0</td>\n",
       "      <td id=\"T_64cfc_row0_col4\" class=\"data row0 col4\" >0</td>\n",
       "      <td id=\"T_64cfc_row0_col5\" class=\"data row0 col5\" >0</td>\n",
       "      <td id=\"T_64cfc_row0_col6\" class=\"data row0 col6\" >0</td>\n",
       "      <td id=\"T_64cfc_row0_col7\" class=\"data row0 col7\" >0</td>\n",
       "      <td id=\"T_64cfc_row0_col8\" class=\"data row0 col8\" >0</td>\n",
       "      <td id=\"T_64cfc_row0_col9\" class=\"data row0 col9\" >0</td>\n",
       "      <td id=\"T_64cfc_row0_col10\" class=\"data row0 col10\" >0</td>\n",
       "      <td id=\"T_64cfc_row0_col11\" class=\"data row0 col11\" >0</td>\n",
       "      <td id=\"T_64cfc_row0_col12\" class=\"data row0 col12\" >0</td>\n",
       "      <td id=\"T_64cfc_row0_col13\" class=\"data row0 col13\" >0</td>\n",
       "      <td id=\"T_64cfc_row0_col14\" class=\"data row0 col14\" >0</td>\n",
       "      <td id=\"T_64cfc_row0_col15\" class=\"data row0 col15\" >0</td>\n",
       "      <td id=\"T_64cfc_row0_col16\" class=\"data row0 col16\" >0</td>\n",
       "      <td id=\"T_64cfc_row0_col17\" class=\"data row0 col17\" >0</td>\n",
       "    </tr>\n",
       "    <tr>\n",
       "      <th id=\"T_64cfc_level0_row1\" class=\"row_heading level0 row1\" >1</th>\n",
       "      <td id=\"T_64cfc_row1_col0\" class=\"data row1 col0\" >0</td>\n",
       "      <td id=\"T_64cfc_row1_col1\" class=\"data row1 col1\" >0</td>\n",
       "      <td id=\"T_64cfc_row1_col2\" class=\"data row1 col2\" >0</td>\n",
       "      <td id=\"T_64cfc_row1_col3\" class=\"data row1 col3\" >0</td>\n",
       "      <td id=\"T_64cfc_row1_col4\" class=\"data row1 col4\" >0</td>\n",
       "      <td id=\"T_64cfc_row1_col5\" class=\"data row1 col5\" >29</td>\n",
       "      <td id=\"T_64cfc_row1_col6\" class=\"data row1 col6\" >150</td>\n",
       "      <td id=\"T_64cfc_row1_col7\" class=\"data row1 col7\" >195</td>\n",
       "      <td id=\"T_64cfc_row1_col8\" class=\"data row1 col8\" >254</td>\n",
       "      <td id=\"T_64cfc_row1_col9\" class=\"data row1 col9\" >255</td>\n",
       "      <td id=\"T_64cfc_row1_col10\" class=\"data row1 col10\" >254</td>\n",
       "      <td id=\"T_64cfc_row1_col11\" class=\"data row1 col11\" >176</td>\n",
       "      <td id=\"T_64cfc_row1_col12\" class=\"data row1 col12\" >193</td>\n",
       "      <td id=\"T_64cfc_row1_col13\" class=\"data row1 col13\" >150</td>\n",
       "      <td id=\"T_64cfc_row1_col14\" class=\"data row1 col14\" >96</td>\n",
       "      <td id=\"T_64cfc_row1_col15\" class=\"data row1 col15\" >0</td>\n",
       "      <td id=\"T_64cfc_row1_col16\" class=\"data row1 col16\" >0</td>\n",
       "      <td id=\"T_64cfc_row1_col17\" class=\"data row1 col17\" >0</td>\n",
       "    </tr>\n",
       "    <tr>\n",
       "      <th id=\"T_64cfc_level0_row2\" class=\"row_heading level0 row2\" >2</th>\n",
       "      <td id=\"T_64cfc_row2_col0\" class=\"data row2 col0\" >0</td>\n",
       "      <td id=\"T_64cfc_row2_col1\" class=\"data row2 col1\" >0</td>\n",
       "      <td id=\"T_64cfc_row2_col2\" class=\"data row2 col2\" >0</td>\n",
       "      <td id=\"T_64cfc_row2_col3\" class=\"data row2 col3\" >48</td>\n",
       "      <td id=\"T_64cfc_row2_col4\" class=\"data row2 col4\" >166</td>\n",
       "      <td id=\"T_64cfc_row2_col5\" class=\"data row2 col5\" >224</td>\n",
       "      <td id=\"T_64cfc_row2_col6\" class=\"data row2 col6\" >253</td>\n",
       "      <td id=\"T_64cfc_row2_col7\" class=\"data row2 col7\" >253</td>\n",
       "      <td id=\"T_64cfc_row2_col8\" class=\"data row2 col8\" >234</td>\n",
       "      <td id=\"T_64cfc_row2_col9\" class=\"data row2 col9\" >196</td>\n",
       "      <td id=\"T_64cfc_row2_col10\" class=\"data row2 col10\" >253</td>\n",
       "      <td id=\"T_64cfc_row2_col11\" class=\"data row2 col11\" >253</td>\n",
       "      <td id=\"T_64cfc_row2_col12\" class=\"data row2 col12\" >253</td>\n",
       "      <td id=\"T_64cfc_row2_col13\" class=\"data row2 col13\" >253</td>\n",
       "      <td id=\"T_64cfc_row2_col14\" class=\"data row2 col14\" >233</td>\n",
       "      <td id=\"T_64cfc_row2_col15\" class=\"data row2 col15\" >0</td>\n",
       "      <td id=\"T_64cfc_row2_col16\" class=\"data row2 col16\" >0</td>\n",
       "      <td id=\"T_64cfc_row2_col17\" class=\"data row2 col17\" >0</td>\n",
       "    </tr>\n",
       "    <tr>\n",
       "      <th id=\"T_64cfc_level0_row3\" class=\"row_heading level0 row3\" >3</th>\n",
       "      <td id=\"T_64cfc_row3_col0\" class=\"data row3 col0\" >0</td>\n",
       "      <td id=\"T_64cfc_row3_col1\" class=\"data row3 col1\" >93</td>\n",
       "      <td id=\"T_64cfc_row3_col2\" class=\"data row3 col2\" >244</td>\n",
       "      <td id=\"T_64cfc_row3_col3\" class=\"data row3 col3\" >249</td>\n",
       "      <td id=\"T_64cfc_row3_col4\" class=\"data row3 col4\" >253</td>\n",
       "      <td id=\"T_64cfc_row3_col5\" class=\"data row3 col5\" >187</td>\n",
       "      <td id=\"T_64cfc_row3_col6\" class=\"data row3 col6\" >46</td>\n",
       "      <td id=\"T_64cfc_row3_col7\" class=\"data row3 col7\" >10</td>\n",
       "      <td id=\"T_64cfc_row3_col8\" class=\"data row3 col8\" >8</td>\n",
       "      <td id=\"T_64cfc_row3_col9\" class=\"data row3 col9\" >4</td>\n",
       "      <td id=\"T_64cfc_row3_col10\" class=\"data row3 col10\" >10</td>\n",
       "      <td id=\"T_64cfc_row3_col11\" class=\"data row3 col11\" >194</td>\n",
       "      <td id=\"T_64cfc_row3_col12\" class=\"data row3 col12\" >253</td>\n",
       "      <td id=\"T_64cfc_row3_col13\" class=\"data row3 col13\" >253</td>\n",
       "      <td id=\"T_64cfc_row3_col14\" class=\"data row3 col14\" >233</td>\n",
       "      <td id=\"T_64cfc_row3_col15\" class=\"data row3 col15\" >0</td>\n",
       "      <td id=\"T_64cfc_row3_col16\" class=\"data row3 col16\" >0</td>\n",
       "      <td id=\"T_64cfc_row3_col17\" class=\"data row3 col17\" >0</td>\n",
       "    </tr>\n",
       "    <tr>\n",
       "      <th id=\"T_64cfc_level0_row4\" class=\"row_heading level0 row4\" >4</th>\n",
       "      <td id=\"T_64cfc_row4_col0\" class=\"data row4 col0\" >0</td>\n",
       "      <td id=\"T_64cfc_row4_col1\" class=\"data row4 col1\" >107</td>\n",
       "      <td id=\"T_64cfc_row4_col2\" class=\"data row4 col2\" >253</td>\n",
       "      <td id=\"T_64cfc_row4_col3\" class=\"data row4 col3\" >253</td>\n",
       "      <td id=\"T_64cfc_row4_col4\" class=\"data row4 col4\" >230</td>\n",
       "      <td id=\"T_64cfc_row4_col5\" class=\"data row4 col5\" >48</td>\n",
       "      <td id=\"T_64cfc_row4_col6\" class=\"data row4 col6\" >0</td>\n",
       "      <td id=\"T_64cfc_row4_col7\" class=\"data row4 col7\" >0</td>\n",
       "      <td id=\"T_64cfc_row4_col8\" class=\"data row4 col8\" >0</td>\n",
       "      <td id=\"T_64cfc_row4_col9\" class=\"data row4 col9\" >0</td>\n",
       "      <td id=\"T_64cfc_row4_col10\" class=\"data row4 col10\" >0</td>\n",
       "      <td id=\"T_64cfc_row4_col11\" class=\"data row4 col11\" >192</td>\n",
       "      <td id=\"T_64cfc_row4_col12\" class=\"data row4 col12\" >253</td>\n",
       "      <td id=\"T_64cfc_row4_col13\" class=\"data row4 col13\" >253</td>\n",
       "      <td id=\"T_64cfc_row4_col14\" class=\"data row4 col14\" >156</td>\n",
       "      <td id=\"T_64cfc_row4_col15\" class=\"data row4 col15\" >0</td>\n",
       "      <td id=\"T_64cfc_row4_col16\" class=\"data row4 col16\" >0</td>\n",
       "      <td id=\"T_64cfc_row4_col17\" class=\"data row4 col17\" >0</td>\n",
       "    </tr>\n",
       "    <tr>\n",
       "      <th id=\"T_64cfc_level0_row5\" class=\"row_heading level0 row5\" >5</th>\n",
       "      <td id=\"T_64cfc_row5_col0\" class=\"data row5 col0\" >0</td>\n",
       "      <td id=\"T_64cfc_row5_col1\" class=\"data row5 col1\" >3</td>\n",
       "      <td id=\"T_64cfc_row5_col2\" class=\"data row5 col2\" >20</td>\n",
       "      <td id=\"T_64cfc_row5_col3\" class=\"data row5 col3\" >20</td>\n",
       "      <td id=\"T_64cfc_row5_col4\" class=\"data row5 col4\" >15</td>\n",
       "      <td id=\"T_64cfc_row5_col5\" class=\"data row5 col5\" >0</td>\n",
       "      <td id=\"T_64cfc_row5_col6\" class=\"data row5 col6\" >0</td>\n",
       "      <td id=\"T_64cfc_row5_col7\" class=\"data row5 col7\" >0</td>\n",
       "      <td id=\"T_64cfc_row5_col8\" class=\"data row5 col8\" >0</td>\n",
       "      <td id=\"T_64cfc_row5_col9\" class=\"data row5 col9\" >0</td>\n",
       "      <td id=\"T_64cfc_row5_col10\" class=\"data row5 col10\" >43</td>\n",
       "      <td id=\"T_64cfc_row5_col11\" class=\"data row5 col11\" >224</td>\n",
       "      <td id=\"T_64cfc_row5_col12\" class=\"data row5 col12\" >253</td>\n",
       "      <td id=\"T_64cfc_row5_col13\" class=\"data row5 col13\" >245</td>\n",
       "      <td id=\"T_64cfc_row5_col14\" class=\"data row5 col14\" >74</td>\n",
       "      <td id=\"T_64cfc_row5_col15\" class=\"data row5 col15\" >0</td>\n",
       "      <td id=\"T_64cfc_row5_col16\" class=\"data row5 col16\" >0</td>\n",
       "      <td id=\"T_64cfc_row5_col17\" class=\"data row5 col17\" >0</td>\n",
       "    </tr>\n",
       "    <tr>\n",
       "      <th id=\"T_64cfc_level0_row6\" class=\"row_heading level0 row6\" >6</th>\n",
       "      <td id=\"T_64cfc_row6_col0\" class=\"data row6 col0\" >0</td>\n",
       "      <td id=\"T_64cfc_row6_col1\" class=\"data row6 col1\" >0</td>\n",
       "      <td id=\"T_64cfc_row6_col2\" class=\"data row6 col2\" >0</td>\n",
       "      <td id=\"T_64cfc_row6_col3\" class=\"data row6 col3\" >0</td>\n",
       "      <td id=\"T_64cfc_row6_col4\" class=\"data row6 col4\" >0</td>\n",
       "      <td id=\"T_64cfc_row6_col5\" class=\"data row6 col5\" >0</td>\n",
       "      <td id=\"T_64cfc_row6_col6\" class=\"data row6 col6\" >0</td>\n",
       "      <td id=\"T_64cfc_row6_col7\" class=\"data row6 col7\" >0</td>\n",
       "      <td id=\"T_64cfc_row6_col8\" class=\"data row6 col8\" >0</td>\n",
       "      <td id=\"T_64cfc_row6_col9\" class=\"data row6 col9\" >0</td>\n",
       "      <td id=\"T_64cfc_row6_col10\" class=\"data row6 col10\" >249</td>\n",
       "      <td id=\"T_64cfc_row6_col11\" class=\"data row6 col11\" >253</td>\n",
       "      <td id=\"T_64cfc_row6_col12\" class=\"data row6 col12\" >245</td>\n",
       "      <td id=\"T_64cfc_row6_col13\" class=\"data row6 col13\" >126</td>\n",
       "      <td id=\"T_64cfc_row6_col14\" class=\"data row6 col14\" >0</td>\n",
       "      <td id=\"T_64cfc_row6_col15\" class=\"data row6 col15\" >0</td>\n",
       "      <td id=\"T_64cfc_row6_col16\" class=\"data row6 col16\" >0</td>\n",
       "      <td id=\"T_64cfc_row6_col17\" class=\"data row6 col17\" >0</td>\n",
       "    </tr>\n",
       "    <tr>\n",
       "      <th id=\"T_64cfc_level0_row7\" class=\"row_heading level0 row7\" >7</th>\n",
       "      <td id=\"T_64cfc_row7_col0\" class=\"data row7 col0\" >0</td>\n",
       "      <td id=\"T_64cfc_row7_col1\" class=\"data row7 col1\" >0</td>\n",
       "      <td id=\"T_64cfc_row7_col2\" class=\"data row7 col2\" >0</td>\n",
       "      <td id=\"T_64cfc_row7_col3\" class=\"data row7 col3\" >0</td>\n",
       "      <td id=\"T_64cfc_row7_col4\" class=\"data row7 col4\" >0</td>\n",
       "      <td id=\"T_64cfc_row7_col5\" class=\"data row7 col5\" >0</td>\n",
       "      <td id=\"T_64cfc_row7_col6\" class=\"data row7 col6\" >0</td>\n",
       "      <td id=\"T_64cfc_row7_col7\" class=\"data row7 col7\" >14</td>\n",
       "      <td id=\"T_64cfc_row7_col8\" class=\"data row7 col8\" >101</td>\n",
       "      <td id=\"T_64cfc_row7_col9\" class=\"data row7 col9\" >223</td>\n",
       "      <td id=\"T_64cfc_row7_col10\" class=\"data row7 col10\" >253</td>\n",
       "      <td id=\"T_64cfc_row7_col11\" class=\"data row7 col11\" >248</td>\n",
       "      <td id=\"T_64cfc_row7_col12\" class=\"data row7 col12\" >124</td>\n",
       "      <td id=\"T_64cfc_row7_col13\" class=\"data row7 col13\" >0</td>\n",
       "      <td id=\"T_64cfc_row7_col14\" class=\"data row7 col14\" >0</td>\n",
       "      <td id=\"T_64cfc_row7_col15\" class=\"data row7 col15\" >0</td>\n",
       "      <td id=\"T_64cfc_row7_col16\" class=\"data row7 col16\" >0</td>\n",
       "      <td id=\"T_64cfc_row7_col17\" class=\"data row7 col17\" >0</td>\n",
       "    </tr>\n",
       "    <tr>\n",
       "      <th id=\"T_64cfc_level0_row8\" class=\"row_heading level0 row8\" >8</th>\n",
       "      <td id=\"T_64cfc_row8_col0\" class=\"data row8 col0\" >0</td>\n",
       "      <td id=\"T_64cfc_row8_col1\" class=\"data row8 col1\" >0</td>\n",
       "      <td id=\"T_64cfc_row8_col2\" class=\"data row8 col2\" >0</td>\n",
       "      <td id=\"T_64cfc_row8_col3\" class=\"data row8 col3\" >0</td>\n",
       "      <td id=\"T_64cfc_row8_col4\" class=\"data row8 col4\" >0</td>\n",
       "      <td id=\"T_64cfc_row8_col5\" class=\"data row8 col5\" >11</td>\n",
       "      <td id=\"T_64cfc_row8_col6\" class=\"data row8 col6\" >166</td>\n",
       "      <td id=\"T_64cfc_row8_col7\" class=\"data row8 col7\" >239</td>\n",
       "      <td id=\"T_64cfc_row8_col8\" class=\"data row8 col8\" >253</td>\n",
       "      <td id=\"T_64cfc_row8_col9\" class=\"data row8 col9\" >253</td>\n",
       "      <td id=\"T_64cfc_row8_col10\" class=\"data row8 col10\" >253</td>\n",
       "      <td id=\"T_64cfc_row8_col11\" class=\"data row8 col11\" >187</td>\n",
       "      <td id=\"T_64cfc_row8_col12\" class=\"data row8 col12\" >30</td>\n",
       "      <td id=\"T_64cfc_row8_col13\" class=\"data row8 col13\" >0</td>\n",
       "      <td id=\"T_64cfc_row8_col14\" class=\"data row8 col14\" >0</td>\n",
       "      <td id=\"T_64cfc_row8_col15\" class=\"data row8 col15\" >0</td>\n",
       "      <td id=\"T_64cfc_row8_col16\" class=\"data row8 col16\" >0</td>\n",
       "      <td id=\"T_64cfc_row8_col17\" class=\"data row8 col17\" >0</td>\n",
       "    </tr>\n",
       "    <tr>\n",
       "      <th id=\"T_64cfc_level0_row9\" class=\"row_heading level0 row9\" >9</th>\n",
       "      <td id=\"T_64cfc_row9_col0\" class=\"data row9 col0\" >0</td>\n",
       "      <td id=\"T_64cfc_row9_col1\" class=\"data row9 col1\" >0</td>\n",
       "      <td id=\"T_64cfc_row9_col2\" class=\"data row9 col2\" >0</td>\n",
       "      <td id=\"T_64cfc_row9_col3\" class=\"data row9 col3\" >0</td>\n",
       "      <td id=\"T_64cfc_row9_col4\" class=\"data row9 col4\" >0</td>\n",
       "      <td id=\"T_64cfc_row9_col5\" class=\"data row9 col5\" >16</td>\n",
       "      <td id=\"T_64cfc_row9_col6\" class=\"data row9 col6\" >248</td>\n",
       "      <td id=\"T_64cfc_row9_col7\" class=\"data row9 col7\" >250</td>\n",
       "      <td id=\"T_64cfc_row9_col8\" class=\"data row9 col8\" >253</td>\n",
       "      <td id=\"T_64cfc_row9_col9\" class=\"data row9 col9\" >253</td>\n",
       "      <td id=\"T_64cfc_row9_col10\" class=\"data row9 col10\" >253</td>\n",
       "      <td id=\"T_64cfc_row9_col11\" class=\"data row9 col11\" >253</td>\n",
       "      <td id=\"T_64cfc_row9_col12\" class=\"data row9 col12\" >232</td>\n",
       "      <td id=\"T_64cfc_row9_col13\" class=\"data row9 col13\" >213</td>\n",
       "      <td id=\"T_64cfc_row9_col14\" class=\"data row9 col14\" >111</td>\n",
       "      <td id=\"T_64cfc_row9_col15\" class=\"data row9 col15\" >2</td>\n",
       "      <td id=\"T_64cfc_row9_col16\" class=\"data row9 col16\" >0</td>\n",
       "      <td id=\"T_64cfc_row9_col17\" class=\"data row9 col17\" >0</td>\n",
       "    </tr>\n",
       "    <tr>\n",
       "      <th id=\"T_64cfc_level0_row10\" class=\"row_heading level0 row10\" >10</th>\n",
       "      <td id=\"T_64cfc_row10_col0\" class=\"data row10 col0\" >0</td>\n",
       "      <td id=\"T_64cfc_row10_col1\" class=\"data row10 col1\" >0</td>\n",
       "      <td id=\"T_64cfc_row10_col2\" class=\"data row10 col2\" >0</td>\n",
       "      <td id=\"T_64cfc_row10_col3\" class=\"data row10 col3\" >0</td>\n",
       "      <td id=\"T_64cfc_row10_col4\" class=\"data row10 col4\" >0</td>\n",
       "      <td id=\"T_64cfc_row10_col5\" class=\"data row10 col5\" >0</td>\n",
       "      <td id=\"T_64cfc_row10_col6\" class=\"data row10 col6\" >0</td>\n",
       "      <td id=\"T_64cfc_row10_col7\" class=\"data row10 col7\" >43</td>\n",
       "      <td id=\"T_64cfc_row10_col8\" class=\"data row10 col8\" >98</td>\n",
       "      <td id=\"T_64cfc_row10_col9\" class=\"data row10 col9\" >98</td>\n",
       "      <td id=\"T_64cfc_row10_col10\" class=\"data row10 col10\" >208</td>\n",
       "      <td id=\"T_64cfc_row10_col11\" class=\"data row10 col11\" >253</td>\n",
       "      <td id=\"T_64cfc_row10_col12\" class=\"data row10 col12\" >253</td>\n",
       "      <td id=\"T_64cfc_row10_col13\" class=\"data row10 col13\" >253</td>\n",
       "      <td id=\"T_64cfc_row10_col14\" class=\"data row10 col14\" >253</td>\n",
       "      <td id=\"T_64cfc_row10_col15\" class=\"data row10 col15\" >187</td>\n",
       "      <td id=\"T_64cfc_row10_col16\" class=\"data row10 col16\" >22</td>\n",
       "      <td id=\"T_64cfc_row10_col17\" class=\"data row10 col17\" >0</td>\n",
       "    </tr>\n",
       "    <tr>\n",
       "      <th id=\"T_64cfc_level0_row11\" class=\"row_heading level0 row11\" >11</th>\n",
       "      <td id=\"T_64cfc_row11_col0\" class=\"data row11 col0\" >0</td>\n",
       "      <td id=\"T_64cfc_row11_col1\" class=\"data row11 col1\" >0</td>\n",
       "      <td id=\"T_64cfc_row11_col2\" class=\"data row11 col2\" >0</td>\n",
       "      <td id=\"T_64cfc_row11_col3\" class=\"data row11 col3\" >0</td>\n",
       "      <td id=\"T_64cfc_row11_col4\" class=\"data row11 col4\" >0</td>\n",
       "      <td id=\"T_64cfc_row11_col5\" class=\"data row11 col5\" >0</td>\n",
       "      <td id=\"T_64cfc_row11_col6\" class=\"data row11 col6\" >0</td>\n",
       "      <td id=\"T_64cfc_row11_col7\" class=\"data row11 col7\" >0</td>\n",
       "      <td id=\"T_64cfc_row11_col8\" class=\"data row11 col8\" >0</td>\n",
       "      <td id=\"T_64cfc_row11_col9\" class=\"data row11 col9\" >0</td>\n",
       "      <td id=\"T_64cfc_row11_col10\" class=\"data row11 col10\" >9</td>\n",
       "      <td id=\"T_64cfc_row11_col11\" class=\"data row11 col11\" >51</td>\n",
       "      <td id=\"T_64cfc_row11_col12\" class=\"data row11 col12\" >119</td>\n",
       "      <td id=\"T_64cfc_row11_col13\" class=\"data row11 col13\" >253</td>\n",
       "      <td id=\"T_64cfc_row11_col14\" class=\"data row11 col14\" >253</td>\n",
       "      <td id=\"T_64cfc_row11_col15\" class=\"data row11 col15\" >253</td>\n",
       "      <td id=\"T_64cfc_row11_col16\" class=\"data row11 col16\" >76</td>\n",
       "      <td id=\"T_64cfc_row11_col17\" class=\"data row11 col17\" >0</td>\n",
       "    </tr>\n",
       "    <tr>\n",
       "      <th id=\"T_64cfc_level0_row12\" class=\"row_heading level0 row12\" >12</th>\n",
       "      <td id=\"T_64cfc_row12_col0\" class=\"data row12 col0\" >0</td>\n",
       "      <td id=\"T_64cfc_row12_col1\" class=\"data row12 col1\" >0</td>\n",
       "      <td id=\"T_64cfc_row12_col2\" class=\"data row12 col2\" >0</td>\n",
       "      <td id=\"T_64cfc_row12_col3\" class=\"data row12 col3\" >0</td>\n",
       "      <td id=\"T_64cfc_row12_col4\" class=\"data row12 col4\" >0</td>\n",
       "      <td id=\"T_64cfc_row12_col5\" class=\"data row12 col5\" >0</td>\n",
       "      <td id=\"T_64cfc_row12_col6\" class=\"data row12 col6\" >0</td>\n",
       "      <td id=\"T_64cfc_row12_col7\" class=\"data row12 col7\" >0</td>\n",
       "      <td id=\"T_64cfc_row12_col8\" class=\"data row12 col8\" >0</td>\n",
       "      <td id=\"T_64cfc_row12_col9\" class=\"data row12 col9\" >0</td>\n",
       "      <td id=\"T_64cfc_row12_col10\" class=\"data row12 col10\" >0</td>\n",
       "      <td id=\"T_64cfc_row12_col11\" class=\"data row12 col11\" >0</td>\n",
       "      <td id=\"T_64cfc_row12_col12\" class=\"data row12 col12\" >1</td>\n",
       "      <td id=\"T_64cfc_row12_col13\" class=\"data row12 col13\" >183</td>\n",
       "      <td id=\"T_64cfc_row12_col14\" class=\"data row12 col14\" >253</td>\n",
       "      <td id=\"T_64cfc_row12_col15\" class=\"data row12 col15\" >253</td>\n",
       "      <td id=\"T_64cfc_row12_col16\" class=\"data row12 col16\" >139</td>\n",
       "      <td id=\"T_64cfc_row12_col17\" class=\"data row12 col17\" >0</td>\n",
       "    </tr>\n",
       "    <tr>\n",
       "      <th id=\"T_64cfc_level0_row13\" class=\"row_heading level0 row13\" >13</th>\n",
       "      <td id=\"T_64cfc_row13_col0\" class=\"data row13 col0\" >0</td>\n",
       "      <td id=\"T_64cfc_row13_col1\" class=\"data row13 col1\" >0</td>\n",
       "      <td id=\"T_64cfc_row13_col2\" class=\"data row13 col2\" >0</td>\n",
       "      <td id=\"T_64cfc_row13_col3\" class=\"data row13 col3\" >0</td>\n",
       "      <td id=\"T_64cfc_row13_col4\" class=\"data row13 col4\" >0</td>\n",
       "      <td id=\"T_64cfc_row13_col5\" class=\"data row13 col5\" >0</td>\n",
       "      <td id=\"T_64cfc_row13_col6\" class=\"data row13 col6\" >0</td>\n",
       "      <td id=\"T_64cfc_row13_col7\" class=\"data row13 col7\" >0</td>\n",
       "      <td id=\"T_64cfc_row13_col8\" class=\"data row13 col8\" >0</td>\n",
       "      <td id=\"T_64cfc_row13_col9\" class=\"data row13 col9\" >0</td>\n",
       "      <td id=\"T_64cfc_row13_col10\" class=\"data row13 col10\" >0</td>\n",
       "      <td id=\"T_64cfc_row13_col11\" class=\"data row13 col11\" >0</td>\n",
       "      <td id=\"T_64cfc_row13_col12\" class=\"data row13 col12\" >0</td>\n",
       "      <td id=\"T_64cfc_row13_col13\" class=\"data row13 col13\" >182</td>\n",
       "      <td id=\"T_64cfc_row13_col14\" class=\"data row13 col14\" >253</td>\n",
       "      <td id=\"T_64cfc_row13_col15\" class=\"data row13 col15\" >253</td>\n",
       "      <td id=\"T_64cfc_row13_col16\" class=\"data row13 col16\" >104</td>\n",
       "      <td id=\"T_64cfc_row13_col17\" class=\"data row13 col17\" >0</td>\n",
       "    </tr>\n",
       "    <tr>\n",
       "      <th id=\"T_64cfc_level0_row14\" class=\"row_heading level0 row14\" >14</th>\n",
       "      <td id=\"T_64cfc_row14_col0\" class=\"data row14 col0\" >0</td>\n",
       "      <td id=\"T_64cfc_row14_col1\" class=\"data row14 col1\" >0</td>\n",
       "      <td id=\"T_64cfc_row14_col2\" class=\"data row14 col2\" >0</td>\n",
       "      <td id=\"T_64cfc_row14_col3\" class=\"data row14 col3\" >0</td>\n",
       "      <td id=\"T_64cfc_row14_col4\" class=\"data row14 col4\" >0</td>\n",
       "      <td id=\"T_64cfc_row14_col5\" class=\"data row14 col5\" >0</td>\n",
       "      <td id=\"T_64cfc_row14_col6\" class=\"data row14 col6\" >0</td>\n",
       "      <td id=\"T_64cfc_row14_col7\" class=\"data row14 col7\" >0</td>\n",
       "      <td id=\"T_64cfc_row14_col8\" class=\"data row14 col8\" >0</td>\n",
       "      <td id=\"T_64cfc_row14_col9\" class=\"data row14 col9\" >0</td>\n",
       "      <td id=\"T_64cfc_row14_col10\" class=\"data row14 col10\" >0</td>\n",
       "      <td id=\"T_64cfc_row14_col11\" class=\"data row14 col11\" >0</td>\n",
       "      <td id=\"T_64cfc_row14_col12\" class=\"data row14 col12\" >85</td>\n",
       "      <td id=\"T_64cfc_row14_col13\" class=\"data row14 col13\" >249</td>\n",
       "      <td id=\"T_64cfc_row14_col14\" class=\"data row14 col14\" >253</td>\n",
       "      <td id=\"T_64cfc_row14_col15\" class=\"data row14 col15\" >253</td>\n",
       "      <td id=\"T_64cfc_row14_col16\" class=\"data row14 col16\" >36</td>\n",
       "      <td id=\"T_64cfc_row14_col17\" class=\"data row14 col17\" >0</td>\n",
       "    </tr>\n",
       "    <tr>\n",
       "      <th id=\"T_64cfc_level0_row15\" class=\"row_heading level0 row15\" >15</th>\n",
       "      <td id=\"T_64cfc_row15_col0\" class=\"data row15 col0\" >0</td>\n",
       "      <td id=\"T_64cfc_row15_col1\" class=\"data row15 col1\" >0</td>\n",
       "      <td id=\"T_64cfc_row15_col2\" class=\"data row15 col2\" >0</td>\n",
       "      <td id=\"T_64cfc_row15_col3\" class=\"data row15 col3\" >0</td>\n",
       "      <td id=\"T_64cfc_row15_col4\" class=\"data row15 col4\" >0</td>\n",
       "      <td id=\"T_64cfc_row15_col5\" class=\"data row15 col5\" >0</td>\n",
       "      <td id=\"T_64cfc_row15_col6\" class=\"data row15 col6\" >0</td>\n",
       "      <td id=\"T_64cfc_row15_col7\" class=\"data row15 col7\" >0</td>\n",
       "      <td id=\"T_64cfc_row15_col8\" class=\"data row15 col8\" >0</td>\n",
       "      <td id=\"T_64cfc_row15_col9\" class=\"data row15 col9\" >0</td>\n",
       "      <td id=\"T_64cfc_row15_col10\" class=\"data row15 col10\" >0</td>\n",
       "      <td id=\"T_64cfc_row15_col11\" class=\"data row15 col11\" >60</td>\n",
       "      <td id=\"T_64cfc_row15_col12\" class=\"data row15 col12\" >214</td>\n",
       "      <td id=\"T_64cfc_row15_col13\" class=\"data row15 col13\" >253</td>\n",
       "      <td id=\"T_64cfc_row15_col14\" class=\"data row15 col14\" >253</td>\n",
       "      <td id=\"T_64cfc_row15_col15\" class=\"data row15 col15\" >173</td>\n",
       "      <td id=\"T_64cfc_row15_col16\" class=\"data row15 col16\" >11</td>\n",
       "      <td id=\"T_64cfc_row15_col17\" class=\"data row15 col17\" >0</td>\n",
       "    </tr>\n",
       "    <tr>\n",
       "      <th id=\"T_64cfc_level0_row16\" class=\"row_heading level0 row16\" >16</th>\n",
       "      <td id=\"T_64cfc_row16_col0\" class=\"data row16 col0\" >0</td>\n",
       "      <td id=\"T_64cfc_row16_col1\" class=\"data row16 col1\" >0</td>\n",
       "      <td id=\"T_64cfc_row16_col2\" class=\"data row16 col2\" >0</td>\n",
       "      <td id=\"T_64cfc_row16_col3\" class=\"data row16 col3\" >0</td>\n",
       "      <td id=\"T_64cfc_row16_col4\" class=\"data row16 col4\" >0</td>\n",
       "      <td id=\"T_64cfc_row16_col5\" class=\"data row16 col5\" >0</td>\n",
       "      <td id=\"T_64cfc_row16_col6\" class=\"data row16 col6\" >0</td>\n",
       "      <td id=\"T_64cfc_row16_col7\" class=\"data row16 col7\" >0</td>\n",
       "      <td id=\"T_64cfc_row16_col8\" class=\"data row16 col8\" >0</td>\n",
       "      <td id=\"T_64cfc_row16_col9\" class=\"data row16 col9\" >0</td>\n",
       "      <td id=\"T_64cfc_row16_col10\" class=\"data row16 col10\" >98</td>\n",
       "      <td id=\"T_64cfc_row16_col11\" class=\"data row16 col11\" >247</td>\n",
       "      <td id=\"T_64cfc_row16_col12\" class=\"data row16 col12\" >253</td>\n",
       "      <td id=\"T_64cfc_row16_col13\" class=\"data row16 col13\" >253</td>\n",
       "      <td id=\"T_64cfc_row16_col14\" class=\"data row16 col14\" >226</td>\n",
       "      <td id=\"T_64cfc_row16_col15\" class=\"data row16 col15\" >9</td>\n",
       "      <td id=\"T_64cfc_row16_col16\" class=\"data row16 col16\" >0</td>\n",
       "      <td id=\"T_64cfc_row16_col17\" class=\"data row16 col17\" >0</td>\n",
       "    </tr>\n",
       "    <tr>\n",
       "      <th id=\"T_64cfc_level0_row17\" class=\"row_heading level0 row17\" >17</th>\n",
       "      <td id=\"T_64cfc_row17_col0\" class=\"data row17 col0\" >0</td>\n",
       "      <td id=\"T_64cfc_row17_col1\" class=\"data row17 col1\" >0</td>\n",
       "      <td id=\"T_64cfc_row17_col2\" class=\"data row17 col2\" >0</td>\n",
       "      <td id=\"T_64cfc_row17_col3\" class=\"data row17 col3\" >0</td>\n",
       "      <td id=\"T_64cfc_row17_col4\" class=\"data row17 col4\" >0</td>\n",
       "      <td id=\"T_64cfc_row17_col5\" class=\"data row17 col5\" >0</td>\n",
       "      <td id=\"T_64cfc_row17_col6\" class=\"data row17 col6\" >0</td>\n",
       "      <td id=\"T_64cfc_row17_col7\" class=\"data row17 col7\" >0</td>\n",
       "      <td id=\"T_64cfc_row17_col8\" class=\"data row17 col8\" >42</td>\n",
       "      <td id=\"T_64cfc_row17_col9\" class=\"data row17 col9\" >150</td>\n",
       "      <td id=\"T_64cfc_row17_col10\" class=\"data row17 col10\" >252</td>\n",
       "      <td id=\"T_64cfc_row17_col11\" class=\"data row17 col11\" >253</td>\n",
       "      <td id=\"T_64cfc_row17_col12\" class=\"data row17 col12\" >253</td>\n",
       "      <td id=\"T_64cfc_row17_col13\" class=\"data row17 col13\" >233</td>\n",
       "      <td id=\"T_64cfc_row17_col14\" class=\"data row17 col14\" >53</td>\n",
       "      <td id=\"T_64cfc_row17_col15\" class=\"data row17 col15\" >0</td>\n",
       "      <td id=\"T_64cfc_row17_col16\" class=\"data row17 col16\" >0</td>\n",
       "      <td id=\"T_64cfc_row17_col17\" class=\"data row17 col17\" >0</td>\n",
       "    </tr>\n",
       "    <tr>\n",
       "      <th id=\"T_64cfc_level0_row18\" class=\"row_heading level0 row18\" >18</th>\n",
       "      <td id=\"T_64cfc_row18_col0\" class=\"data row18 col0\" >0</td>\n",
       "      <td id=\"T_64cfc_row18_col1\" class=\"data row18 col1\" >0</td>\n",
       "      <td id=\"T_64cfc_row18_col2\" class=\"data row18 col2\" >42</td>\n",
       "      <td id=\"T_64cfc_row18_col3\" class=\"data row18 col3\" >115</td>\n",
       "      <td id=\"T_64cfc_row18_col4\" class=\"data row18 col4\" >42</td>\n",
       "      <td id=\"T_64cfc_row18_col5\" class=\"data row18 col5\" >60</td>\n",
       "      <td id=\"T_64cfc_row18_col6\" class=\"data row18 col6\" >115</td>\n",
       "      <td id=\"T_64cfc_row18_col7\" class=\"data row18 col7\" >159</td>\n",
       "      <td id=\"T_64cfc_row18_col8\" class=\"data row18 col8\" >240</td>\n",
       "      <td id=\"T_64cfc_row18_col9\" class=\"data row18 col9\" >253</td>\n",
       "      <td id=\"T_64cfc_row18_col10\" class=\"data row18 col10\" >253</td>\n",
       "      <td id=\"T_64cfc_row18_col11\" class=\"data row18 col11\" >250</td>\n",
       "      <td id=\"T_64cfc_row18_col12\" class=\"data row18 col12\" >175</td>\n",
       "      <td id=\"T_64cfc_row18_col13\" class=\"data row18 col13\" >25</td>\n",
       "      <td id=\"T_64cfc_row18_col14\" class=\"data row18 col14\" >0</td>\n",
       "      <td id=\"T_64cfc_row18_col15\" class=\"data row18 col15\" >0</td>\n",
       "      <td id=\"T_64cfc_row18_col16\" class=\"data row18 col16\" >0</td>\n",
       "      <td id=\"T_64cfc_row18_col17\" class=\"data row18 col17\" >0</td>\n",
       "    </tr>\n",
       "    <tr>\n",
       "      <th id=\"T_64cfc_level0_row19\" class=\"row_heading level0 row19\" >19</th>\n",
       "      <td id=\"T_64cfc_row19_col0\" class=\"data row19 col0\" >0</td>\n",
       "      <td id=\"T_64cfc_row19_col1\" class=\"data row19 col1\" >0</td>\n",
       "      <td id=\"T_64cfc_row19_col2\" class=\"data row19 col2\" >187</td>\n",
       "      <td id=\"T_64cfc_row19_col3\" class=\"data row19 col3\" >253</td>\n",
       "      <td id=\"T_64cfc_row19_col4\" class=\"data row19 col4\" >253</td>\n",
       "      <td id=\"T_64cfc_row19_col5\" class=\"data row19 col5\" >253</td>\n",
       "      <td id=\"T_64cfc_row19_col6\" class=\"data row19 col6\" >253</td>\n",
       "      <td id=\"T_64cfc_row19_col7\" class=\"data row19 col7\" >253</td>\n",
       "      <td id=\"T_64cfc_row19_col8\" class=\"data row19 col8\" >253</td>\n",
       "      <td id=\"T_64cfc_row19_col9\" class=\"data row19 col9\" >253</td>\n",
       "      <td id=\"T_64cfc_row19_col10\" class=\"data row19 col10\" >197</td>\n",
       "      <td id=\"T_64cfc_row19_col11\" class=\"data row19 col11\" >86</td>\n",
       "      <td id=\"T_64cfc_row19_col12\" class=\"data row19 col12\" >0</td>\n",
       "      <td id=\"T_64cfc_row19_col13\" class=\"data row19 col13\" >0</td>\n",
       "      <td id=\"T_64cfc_row19_col14\" class=\"data row19 col14\" >0</td>\n",
       "      <td id=\"T_64cfc_row19_col15\" class=\"data row19 col15\" >0</td>\n",
       "      <td id=\"T_64cfc_row19_col16\" class=\"data row19 col16\" >0</td>\n",
       "      <td id=\"T_64cfc_row19_col17\" class=\"data row19 col17\" >0</td>\n",
       "    </tr>\n",
       "    <tr>\n",
       "      <th id=\"T_64cfc_level0_row20\" class=\"row_heading level0 row20\" >20</th>\n",
       "      <td id=\"T_64cfc_row20_col0\" class=\"data row20 col0\" >0</td>\n",
       "      <td id=\"T_64cfc_row20_col1\" class=\"data row20 col1\" >0</td>\n",
       "      <td id=\"T_64cfc_row20_col2\" class=\"data row20 col2\" >103</td>\n",
       "      <td id=\"T_64cfc_row20_col3\" class=\"data row20 col3\" >253</td>\n",
       "      <td id=\"T_64cfc_row20_col4\" class=\"data row20 col4\" >253</td>\n",
       "      <td id=\"T_64cfc_row20_col5\" class=\"data row20 col5\" >253</td>\n",
       "      <td id=\"T_64cfc_row20_col6\" class=\"data row20 col6\" >253</td>\n",
       "      <td id=\"T_64cfc_row20_col7\" class=\"data row20 col7\" >253</td>\n",
       "      <td id=\"T_64cfc_row20_col8\" class=\"data row20 col8\" >232</td>\n",
       "      <td id=\"T_64cfc_row20_col9\" class=\"data row20 col9\" >67</td>\n",
       "      <td id=\"T_64cfc_row20_col10\" class=\"data row20 col10\" >1</td>\n",
       "      <td id=\"T_64cfc_row20_col11\" class=\"data row20 col11\" >0</td>\n",
       "      <td id=\"T_64cfc_row20_col12\" class=\"data row20 col12\" >0</td>\n",
       "      <td id=\"T_64cfc_row20_col13\" class=\"data row20 col13\" >0</td>\n",
       "      <td id=\"T_64cfc_row20_col14\" class=\"data row20 col14\" >0</td>\n",
       "      <td id=\"T_64cfc_row20_col15\" class=\"data row20 col15\" >0</td>\n",
       "      <td id=\"T_64cfc_row20_col16\" class=\"data row20 col16\" >0</td>\n",
       "      <td id=\"T_64cfc_row20_col17\" class=\"data row20 col17\" >0</td>\n",
       "    </tr>\n",
       "    <tr>\n",
       "      <th id=\"T_64cfc_level0_row21\" class=\"row_heading level0 row21\" >21</th>\n",
       "      <td id=\"T_64cfc_row21_col0\" class=\"data row21 col0\" >0</td>\n",
       "      <td id=\"T_64cfc_row21_col1\" class=\"data row21 col1\" >0</td>\n",
       "      <td id=\"T_64cfc_row21_col2\" class=\"data row21 col2\" >0</td>\n",
       "      <td id=\"T_64cfc_row21_col3\" class=\"data row21 col3\" >0</td>\n",
       "      <td id=\"T_64cfc_row21_col4\" class=\"data row21 col4\" >0</td>\n",
       "      <td id=\"T_64cfc_row21_col5\" class=\"data row21 col5\" >0</td>\n",
       "      <td id=\"T_64cfc_row21_col6\" class=\"data row21 col6\" >0</td>\n",
       "      <td id=\"T_64cfc_row21_col7\" class=\"data row21 col7\" >0</td>\n",
       "      <td id=\"T_64cfc_row21_col8\" class=\"data row21 col8\" >0</td>\n",
       "      <td id=\"T_64cfc_row21_col9\" class=\"data row21 col9\" >0</td>\n",
       "      <td id=\"T_64cfc_row21_col10\" class=\"data row21 col10\" >0</td>\n",
       "      <td id=\"T_64cfc_row21_col11\" class=\"data row21 col11\" >0</td>\n",
       "      <td id=\"T_64cfc_row21_col12\" class=\"data row21 col12\" >0</td>\n",
       "      <td id=\"T_64cfc_row21_col13\" class=\"data row21 col13\" >0</td>\n",
       "      <td id=\"T_64cfc_row21_col14\" class=\"data row21 col14\" >0</td>\n",
       "      <td id=\"T_64cfc_row21_col15\" class=\"data row21 col15\" >0</td>\n",
       "      <td id=\"T_64cfc_row21_col16\" class=\"data row21 col16\" >0</td>\n",
       "      <td id=\"T_64cfc_row21_col17\" class=\"data row21 col17\" >0</td>\n",
       "    </tr>\n",
       "  </tbody>\n",
       "</table>\n"
      ],
      "text/plain": [
       "<pandas.io.formats.style.Styler at 0x160f46c8d00>"
      ]
     },
     "execution_count": 14,
     "metadata": {},
     "output_type": "execute_result"
    }
   ],
   "source": [
    "im3_t = tensor(im3)\n",
    "df_3 = pd.DataFrame(im3_t[4:26, 4:22])\n",
    "df_3.style.set_properties(**{'font-siz': '6pt'}).background_gradient('Greys')"
   ]
  },
  {
   "cell_type": "code",
   "execution_count": 15,
   "metadata": {},
   "outputs": [
    {
     "data": {
      "text/html": [
       "<style type=\"text/css\">\n",
       "#T_69727_row0_col0, #T_69727_row0_col1, #T_69727_row0_col2, #T_69727_row0_col3, #T_69727_row0_col4, #T_69727_row0_col5, #T_69727_row0_col6, #T_69727_row0_col7, #T_69727_row0_col8, #T_69727_row0_col9, #T_69727_row0_col10, #T_69727_row0_col11, #T_69727_row0_col12, #T_69727_row0_col13, #T_69727_row0_col14, #T_69727_row0_col15, #T_69727_row0_col16, #T_69727_row0_col17, #T_69727_row0_col18, #T_69727_row0_col19, #T_69727_row0_col20, #T_69727_row0_col21, #T_69727_row1_col0, #T_69727_row1_col1, #T_69727_row1_col2, #T_69727_row1_col3, #T_69727_row1_col4, #T_69727_row1_col5, #T_69727_row1_col6, #T_69727_row1_col7, #T_69727_row1_col8, #T_69727_row1_col9, #T_69727_row1_col10, #T_69727_row1_col11, #T_69727_row1_col12, #T_69727_row1_col13, #T_69727_row1_col14, #T_69727_row1_col15, #T_69727_row1_col16, #T_69727_row1_col17, #T_69727_row1_col18, #T_69727_row1_col19, #T_69727_row1_col20, #T_69727_row1_col21, #T_69727_row2_col0, #T_69727_row2_col1, #T_69727_row2_col2, #T_69727_row2_col3, #T_69727_row2_col4, #T_69727_row2_col5, #T_69727_row2_col6, #T_69727_row2_col7, #T_69727_row2_col10, #T_69727_row2_col11, #T_69727_row2_col12, #T_69727_row2_col13, #T_69727_row2_col14, #T_69727_row2_col15, #T_69727_row2_col21, #T_69727_row3_col0, #T_69727_row3_col1, #T_69727_row3_col2, #T_69727_row3_col3, #T_69727_row3_col4, #T_69727_row3_col5, #T_69727_row3_col10, #T_69727_row3_col11, #T_69727_row3_col12, #T_69727_row3_col13, #T_69727_row3_col14, #T_69727_row3_col21, #T_69727_row4_col0, #T_69727_row4_col1, #T_69727_row4_col2, #T_69727_row4_col3, #T_69727_row4_col4, #T_69727_row4_col11, #T_69727_row4_col12, #T_69727_row4_col13, #T_69727_row4_col21, #T_69727_row5_col0, #T_69727_row5_col1, #T_69727_row5_col2, #T_69727_row5_col3, #T_69727_row5_col4, #T_69727_row5_col20, #T_69727_row5_col21, #T_69727_row6_col0, #T_69727_row6_col1, #T_69727_row6_col2, #T_69727_row6_col20, #T_69727_row6_col21, #T_69727_row7_col0, #T_69727_row7_col1, #T_69727_row7_col19, #T_69727_row7_col20, #T_69727_row7_col21, #T_69727_row8_col0, #T_69727_row8_col1, #T_69727_row8_col18, #T_69727_row8_col19, #T_69727_row8_col20, #T_69727_row8_col21, #T_69727_row9_col0, #T_69727_row9_col1, #T_69727_row9_col9, #T_69727_row9_col10, #T_69727_row9_col11, #T_69727_row9_col17, #T_69727_row9_col18, #T_69727_row9_col19, #T_69727_row9_col20, #T_69727_row9_col21, #T_69727_row10_col0, #T_69727_row10_col1, #T_69727_row10_col6, #T_69727_row10_col7, #T_69727_row10_col8, #T_69727_row10_col9, #T_69727_row10_col10, #T_69727_row10_col16, #T_69727_row10_col17, #T_69727_row10_col18, #T_69727_row10_col19, #T_69727_row10_col20, #T_69727_row10_col21, #T_69727_row11_col0, #T_69727_row11_col1, #T_69727_row11_col2, #T_69727_row11_col3, #T_69727_row11_col4, #T_69727_row11_col5, #T_69727_row11_col6, #T_69727_row11_col7, #T_69727_row11_col8, #T_69727_row11_col9, #T_69727_row11_col16, #T_69727_row11_col17, #T_69727_row11_col18, #T_69727_row11_col19, #T_69727_row11_col20, #T_69727_row11_col21, #T_69727_row12_col0, #T_69727_row12_col1, #T_69727_row12_col2, #T_69727_row12_col3, #T_69727_row12_col4, #T_69727_row12_col5, #T_69727_row12_col6, #T_69727_row12_col7, #T_69727_row12_col8, #T_69727_row12_col15, #T_69727_row12_col16, #T_69727_row12_col17, #T_69727_row12_col18, #T_69727_row12_col19, #T_69727_row12_col20, #T_69727_row12_col21, #T_69727_row13_col0, #T_69727_row13_col1, #T_69727_row13_col2, #T_69727_row13_col3, #T_69727_row13_col4, #T_69727_row13_col5, #T_69727_row13_col6, #T_69727_row13_col7, #T_69727_row13_col14, #T_69727_row13_col15, #T_69727_row13_col16, #T_69727_row13_col17, #T_69727_row13_col18, #T_69727_row13_col19, #T_69727_row13_col20, #T_69727_row13_col21, #T_69727_row14_col0, #T_69727_row14_col1, #T_69727_row14_col2, #T_69727_row14_col3, #T_69727_row14_col4, #T_69727_row14_col5, #T_69727_row14_col6, #T_69727_row14_col13, #T_69727_row14_col14, #T_69727_row14_col15, #T_69727_row14_col16, #T_69727_row14_col17, #T_69727_row14_col18, #T_69727_row14_col19, #T_69727_row14_col20, #T_69727_row14_col21, #T_69727_row15_col0, #T_69727_row15_col1, #T_69727_row15_col2, #T_69727_row15_col3, #T_69727_row15_col4, #T_69727_row15_col5, #T_69727_row15_col6, #T_69727_row15_col12, #T_69727_row15_col13, #T_69727_row15_col14, #T_69727_row15_col15, #T_69727_row15_col16, #T_69727_row15_col17, #T_69727_row15_col18, #T_69727_row15_col19, #T_69727_row15_col20, #T_69727_row15_col21, #T_69727_row16_col0, #T_69727_row16_col1, #T_69727_row16_col2, #T_69727_row16_col3, #T_69727_row16_col4, #T_69727_row16_col5, #T_69727_row16_col11, #T_69727_row16_col12, #T_69727_row16_col13, #T_69727_row16_col14, #T_69727_row16_col15, #T_69727_row16_col16, #T_69727_row16_col17, #T_69727_row16_col18, #T_69727_row16_col19, #T_69727_row16_col20, #T_69727_row16_col21, #T_69727_row17_col0, #T_69727_row17_col1, #T_69727_row17_col2, #T_69727_row17_col3, #T_69727_row17_col4, #T_69727_row17_col10, #T_69727_row17_col11, #T_69727_row17_col12, #T_69727_row17_col13, #T_69727_row17_col14, #T_69727_row17_col15, #T_69727_row17_col16, #T_69727_row17_col17, #T_69727_row17_col18, #T_69727_row17_col19, #T_69727_row17_col20, #T_69727_row17_col21, #T_69727_row18_col0, #T_69727_row18_col1, #T_69727_row18_col2, #T_69727_row18_col3, #T_69727_row18_col9, #T_69727_row18_col10, #T_69727_row18_col11, #T_69727_row18_col12, #T_69727_row18_col13, #T_69727_row18_col14, #T_69727_row18_col15, #T_69727_row18_col16, #T_69727_row18_col17, #T_69727_row18_col18, #T_69727_row18_col19, #T_69727_row18_col20, #T_69727_row18_col21, #T_69727_row19_col0, #T_69727_row19_col1, #T_69727_row19_col2, #T_69727_row19_col9, #T_69727_row19_col10, #T_69727_row19_col11, #T_69727_row19_col12, #T_69727_row19_col13, #T_69727_row19_col14, #T_69727_row19_col15, #T_69727_row19_col16, #T_69727_row19_col17, #T_69727_row19_col18, #T_69727_row19_col19, #T_69727_row19_col20, #T_69727_row19_col21, #T_69727_row20_col0, #T_69727_row20_col1, #T_69727_row20_col8, #T_69727_row20_col9, #T_69727_row20_col10, #T_69727_row20_col11, #T_69727_row20_col12, #T_69727_row20_col13, #T_69727_row20_col14, #T_69727_row20_col15, #T_69727_row20_col16, #T_69727_row20_col17, #T_69727_row20_col18, #T_69727_row20_col19, #T_69727_row20_col20, #T_69727_row20_col21, #T_69727_row21_col0, #T_69727_row21_col7, #T_69727_row21_col8, #T_69727_row21_col9, #T_69727_row21_col10, #T_69727_row21_col11, #T_69727_row21_col12, #T_69727_row21_col13, #T_69727_row21_col14, #T_69727_row21_col15, #T_69727_row21_col16, #T_69727_row21_col17, #T_69727_row21_col18, #T_69727_row21_col19, #T_69727_row21_col20, #T_69727_row21_col21, #T_69727_row22_col0, #T_69727_row22_col1, #T_69727_row22_col2, #T_69727_row22_col3, #T_69727_row22_col4, #T_69727_row22_col5, #T_69727_row22_col6, #T_69727_row22_col7, #T_69727_row22_col8, #T_69727_row22_col9, #T_69727_row22_col10, #T_69727_row22_col11, #T_69727_row22_col12, #T_69727_row22_col13, #T_69727_row22_col14, #T_69727_row22_col15, #T_69727_row22_col16, #T_69727_row22_col17, #T_69727_row22_col18, #T_69727_row22_col19, #T_69727_row22_col20, #T_69727_row22_col21 {\n",
       "  font-siz: 6pt;\n",
       "  background-color: #ffffff;\n",
       "  color: #000000;\n",
       "}\n",
       "#T_69727_row2_col8 {\n",
       "  font-siz: 6pt;\n",
       "  background-color: #f9f9f9;\n",
       "  color: #000000;\n",
       "}\n",
       "#T_69727_row2_col9, #T_69727_row7_col2 {\n",
       "  font-siz: 6pt;\n",
       "  background-color: #fcfcfc;\n",
       "  color: #000000;\n",
       "}\n",
       "#T_69727_row2_col16, #T_69727_row6_col19, #T_69727_row7_col18, #T_69727_row14_col7 {\n",
       "  font-siz: 6pt;\n",
       "  background-color: #fefefe;\n",
       "  color: #000000;\n",
       "}\n",
       "#T_69727_row2_col17 {\n",
       "  font-siz: 6pt;\n",
       "  background-color: #bfbfbf;\n",
       "  color: #000000;\n",
       "}\n",
       "#T_69727_row2_col18 {\n",
       "  font-siz: 6pt;\n",
       "  background-color: #0c0c0c;\n",
       "  color: #f1f1f1;\n",
       "}\n",
       "#T_69727_row2_col19 {\n",
       "  font-siz: 6pt;\n",
       "  background-color: #333333;\n",
       "  color: #f1f1f1;\n",
       "}\n",
       "#T_69727_row2_col20, #T_69727_row4_col20 {\n",
       "  font-siz: 6pt;\n",
       "  background-color: #575757;\n",
       "  color: #f1f1f1;\n",
       "}\n",
       "#T_69727_row3_col6, #T_69727_row10_col2, #T_69727_row11_col15, #T_69727_row12_col9, #T_69727_row12_col14 {\n",
       "  font-siz: 6pt;\n",
       "  background-color: #f8f8f8;\n",
       "  color: #000000;\n",
       "}\n",
       "#T_69727_row3_col7, #T_69727_row10_col3 {\n",
       "  font-siz: 6pt;\n",
       "  background-color: #757575;\n",
       "  color: #f1f1f1;\n",
       "}\n",
       "#T_69727_row3_col8, #T_69727_row3_col17, #T_69727_row3_col18, #T_69727_row3_col19, #T_69727_row3_col20, #T_69727_row4_col7, #T_69727_row4_col8, #T_69727_row4_col16, #T_69727_row4_col17, #T_69727_row4_col18, #T_69727_row5_col7, #T_69727_row5_col14, #T_69727_row5_col15, #T_69727_row5_col16, #T_69727_row5_col17, #T_69727_row5_col18, #T_69727_row6_col12, #T_69727_row6_col13, #T_69727_row6_col14, #T_69727_row6_col15, #T_69727_row6_col16, #T_69727_row6_col17, #T_69727_row7_col4, #T_69727_row7_col5, #T_69727_row7_col6, #T_69727_row7_col7, #T_69727_row7_col8, #T_69727_row7_col9, #T_69727_row7_col10, #T_69727_row7_col11, #T_69727_row7_col12, #T_69727_row7_col13, #T_69727_row7_col14, #T_69727_row7_col15, #T_69727_row7_col16, #T_69727_row8_col3, #T_69727_row8_col4, #T_69727_row8_col5, #T_69727_row8_col7, #T_69727_row8_col14, #T_69727_row8_col15, #T_69727_row9_col3, #T_69727_row9_col4, #T_69727_row9_col13, #T_69727_row9_col14, #T_69727_row10_col13, #T_69727_row10_col14, #T_69727_row11_col12, #T_69727_row11_col13, #T_69727_row12_col11, #T_69727_row12_col12, #T_69727_row13_col11, #T_69727_row14_col9, #T_69727_row15_col8, #T_69727_row15_col9, #T_69727_row16_col8, #T_69727_row17_col7, #T_69727_row18_col7, #T_69727_row19_col5, #T_69727_row20_col4, #T_69727_row20_col5, #T_69727_row21_col1, #T_69727_row21_col2, #T_69727_row21_col3, #T_69727_row21_col4 {\n",
       "  font-siz: 6pt;\n",
       "  background-color: #000000;\n",
       "  color: #f1f1f1;\n",
       "}\n",
       "#T_69727_row3_col9 {\n",
       "  font-siz: 6pt;\n",
       "  background-color: #484848;\n",
       "  color: #f1f1f1;\n",
       "}\n",
       "#T_69727_row3_col15 {\n",
       "  font-siz: 6pt;\n",
       "  background-color: #f7f7f7;\n",
       "  color: #000000;\n",
       "}\n",
       "#T_69727_row3_col16 {\n",
       "  font-siz: 6pt;\n",
       "  background-color: #919191;\n",
       "  color: #f1f1f1;\n",
       "}\n",
       "#T_69727_row4_col5 {\n",
       "  font-siz: 6pt;\n",
       "  background-color: #fbfbfb;\n",
       "  color: #000000;\n",
       "}\n",
       "#T_69727_row4_col6 {\n",
       "  font-siz: 6pt;\n",
       "  background-color: #292929;\n",
       "  color: #f1f1f1;\n",
       "}\n",
       "#T_69727_row4_col9 {\n",
       "  font-siz: 6pt;\n",
       "  background-color: #1c1c1c;\n",
       "  color: #f1f1f1;\n",
       "}\n",
       "#T_69727_row4_col10 {\n",
       "  font-siz: 6pt;\n",
       "  background-color: #b3b3b3;\n",
       "  color: #000000;\n",
       "}\n",
       "#T_69727_row4_col14 {\n",
       "  font-siz: 6pt;\n",
       "  background-color: #d8d8d8;\n",
       "  color: #000000;\n",
       "}\n",
       "#T_69727_row4_col15, #T_69727_row12_col10 {\n",
       "  font-siz: 6pt;\n",
       "  background-color: #2e2e2e;\n",
       "  color: #f1f1f1;\n",
       "}\n",
       "#T_69727_row4_col19 {\n",
       "  font-siz: 6pt;\n",
       "  background-color: #232323;\n",
       "  color: #f1f1f1;\n",
       "}\n",
       "#T_69727_row5_col5, #T_69727_row8_col11 {\n",
       "  font-siz: 6pt;\n",
       "  background-color: #686868;\n",
       "  color: #f1f1f1;\n",
       "}\n",
       "#T_69727_row5_col6, #T_69727_row6_col6, #T_69727_row8_col6, #T_69727_row8_col8, #T_69727_row9_col15, #T_69727_row13_col10, #T_69727_row14_col10, #T_69727_row18_col6, #T_69727_row19_col6 {\n",
       "  font-siz: 6pt;\n",
       "  background-color: #010101;\n",
       "  color: #f1f1f1;\n",
       "}\n",
       "#T_69727_row5_col8, #T_69727_row20_col3 {\n",
       "  font-siz: 6pt;\n",
       "  background-color: #1b1b1b;\n",
       "  color: #f1f1f1;\n",
       "}\n",
       "#T_69727_row5_col9 {\n",
       "  font-siz: 6pt;\n",
       "  background-color: #989898;\n",
       "  color: #f1f1f1;\n",
       "}\n",
       "#T_69727_row5_col10, #T_69727_row6_col3 {\n",
       "  font-siz: 6pt;\n",
       "  background-color: #eaeaea;\n",
       "  color: #000000;\n",
       "}\n",
       "#T_69727_row5_col11, #T_69727_row19_col8, #T_69727_row20_col7 {\n",
       "  font-siz: 6pt;\n",
       "  background-color: #fafafa;\n",
       "  color: #000000;\n",
       "}\n",
       "#T_69727_row5_col12, #T_69727_row6_col9 {\n",
       "  font-siz: 6pt;\n",
       "  background-color: #d4d4d4;\n",
       "  color: #000000;\n",
       "}\n",
       "#T_69727_row5_col13 {\n",
       "  font-siz: 6pt;\n",
       "  background-color: #5d5d5d;\n",
       "  color: #f1f1f1;\n",
       "}\n",
       "#T_69727_row5_col19 {\n",
       "  font-siz: 6pt;\n",
       "  background-color: #c0c0c0;\n",
       "  color: #000000;\n",
       "}\n",
       "#T_69727_row6_col4 {\n",
       "  font-siz: 6pt;\n",
       "  background-color: #5a5a5a;\n",
       "  color: #f1f1f1;\n",
       "}\n",
       "#T_69727_row6_col5 {\n",
       "  font-siz: 6pt;\n",
       "  background-color: #030303;\n",
       "  color: #f1f1f1;\n",
       "}\n",
       "#T_69727_row6_col7 {\n",
       "  font-siz: 6pt;\n",
       "  background-color: #212121;\n",
       "  color: #f1f1f1;\n",
       "}\n",
       "#T_69727_row6_col8, #T_69727_row14_col12 {\n",
       "  font-siz: 6pt;\n",
       "  background-color: #cacaca;\n",
       "  color: #000000;\n",
       "}\n",
       "#T_69727_row6_col10 {\n",
       "  font-siz: 6pt;\n",
       "  background-color: #5e5e5e;\n",
       "  color: #f1f1f1;\n",
       "}\n",
       "#T_69727_row6_col11 {\n",
       "  font-siz: 6pt;\n",
       "  background-color: #1d1d1d;\n",
       "  color: #f1f1f1;\n",
       "}\n",
       "#T_69727_row6_col18 {\n",
       "  font-siz: 6pt;\n",
       "  background-color: #a5a5a5;\n",
       "  color: #f1f1f1;\n",
       "}\n",
       "#T_69727_row7_col3 {\n",
       "  font-siz: 6pt;\n",
       "  background-color: #393939;\n",
       "  color: #f1f1f1;\n",
       "}\n",
       "#T_69727_row7_col17 {\n",
       "  font-siz: 6pt;\n",
       "  background-color: #525252;\n",
       "  color: #f1f1f1;\n",
       "}\n",
       "#T_69727_row8_col2, #T_69727_row11_col10 {\n",
       "  font-siz: 6pt;\n",
       "  background-color: #dcdcdc;\n",
       "  color: #000000;\n",
       "}\n",
       "#T_69727_row8_col9 {\n",
       "  font-siz: 6pt;\n",
       "  background-color: #050505;\n",
       "  color: #f1f1f1;\n",
       "}\n",
       "#T_69727_row8_col10 {\n",
       "  font-siz: 6pt;\n",
       "  background-color: #353535;\n",
       "  color: #f1f1f1;\n",
       "}\n",
       "#T_69727_row8_col12 {\n",
       "  font-siz: 6pt;\n",
       "  background-color: #999999;\n",
       "  color: #f1f1f1;\n",
       "}\n",
       "#T_69727_row8_col13 {\n",
       "  font-siz: 6pt;\n",
       "  background-color: #6a6a6a;\n",
       "  color: #f1f1f1;\n",
       "}\n",
       "#T_69727_row8_col16 {\n",
       "  font-siz: 6pt;\n",
       "  background-color: #0f0f0f;\n",
       "  color: #f1f1f1;\n",
       "}\n",
       "#T_69727_row8_col17 {\n",
       "  font-siz: 6pt;\n",
       "  background-color: #eeeeee;\n",
       "  color: #000000;\n",
       "}\n",
       "#T_69727_row9_col2 {\n",
       "  font-siz: 6pt;\n",
       "  background-color: #696969;\n",
       "  color: #f1f1f1;\n",
       "}\n",
       "#T_69727_row9_col5 {\n",
       "  font-siz: 6pt;\n",
       "  background-color: #5c5c5c;\n",
       "  color: #f1f1f1;\n",
       "}\n",
       "#T_69727_row9_col6, #T_69727_row9_col7 {\n",
       "  font-siz: 6pt;\n",
       "  background-color: #cdcdcd;\n",
       "  color: #000000;\n",
       "}\n",
       "#T_69727_row9_col8 {\n",
       "  font-siz: 6pt;\n",
       "  background-color: #e4e4e4;\n",
       "  color: #000000;\n",
       "}\n",
       "#T_69727_row9_col12 {\n",
       "  font-siz: 6pt;\n",
       "  background-color: #949494;\n",
       "  color: #f1f1f1;\n",
       "}\n",
       "#T_69727_row9_col16 {\n",
       "  font-siz: 6pt;\n",
       "  background-color: #dedede;\n",
       "  color: #000000;\n",
       "}\n",
       "#T_69727_row10_col4 {\n",
       "  font-siz: 6pt;\n",
       "  background-color: #4b4b4b;\n",
       "  color: #f1f1f1;\n",
       "}\n",
       "#T_69727_row10_col5 {\n",
       "  font-siz: 6pt;\n",
       "  background-color: #f1f1f1;\n",
       "  color: #000000;\n",
       "}\n",
       "#T_69727_row10_col11 {\n",
       "  font-siz: 6pt;\n",
       "  background-color: #cfcfcf;\n",
       "  color: #000000;\n",
       "}\n",
       "#T_69727_row10_col12 {\n",
       "  font-siz: 6pt;\n",
       "  background-color: #070707;\n",
       "  color: #f1f1f1;\n",
       "}\n",
       "#T_69727_row10_col15 {\n",
       "  font-siz: 6pt;\n",
       "  background-color: #888888;\n",
       "  color: #f1f1f1;\n",
       "}\n",
       "#T_69727_row11_col11 {\n",
       "  font-siz: 6pt;\n",
       "  background-color: #2c2c2c;\n",
       "  color: #f1f1f1;\n",
       "}\n",
       "#T_69727_row11_col14 {\n",
       "  font-siz: 6pt;\n",
       "  background-color: #676767;\n",
       "  color: #f1f1f1;\n",
       "}\n",
       "#T_69727_row12_col13 {\n",
       "  font-siz: 6pt;\n",
       "  background-color: #303030;\n",
       "  color: #f1f1f1;\n",
       "}\n",
       "#T_69727_row13_col8 {\n",
       "  font-siz: 6pt;\n",
       "  background-color: #fdfdfd;\n",
       "  color: #000000;\n",
       "}\n",
       "#T_69727_row13_col9 {\n",
       "  font-siz: 6pt;\n",
       "  background-color: #a8a8a8;\n",
       "  color: #f1f1f1;\n",
       "}\n",
       "#T_69727_row13_col12 {\n",
       "  font-siz: 6pt;\n",
       "  background-color: #131313;\n",
       "  color: #f1f1f1;\n",
       "}\n",
       "#T_69727_row13_col13, #T_69727_row19_col3 {\n",
       "  font-siz: 6pt;\n",
       "  background-color: #dfdfdf;\n",
       "  color: #000000;\n",
       "}\n",
       "#T_69727_row14_col8 {\n",
       "  font-siz: 6pt;\n",
       "  background-color: #c3c3c3;\n",
       "  color: #000000;\n",
       "}\n",
       "#T_69727_row14_col11, #T_69727_row15_col10 {\n",
       "  font-siz: 6pt;\n",
       "  background-color: #111111;\n",
       "  color: #f1f1f1;\n",
       "}\n",
       "#T_69727_row15_col7 {\n",
       "  font-siz: 6pt;\n",
       "  background-color: #868686;\n",
       "  color: #f1f1f1;\n",
       "}\n",
       "#T_69727_row15_col11 {\n",
       "  font-siz: 6pt;\n",
       "  background-color: #b0b0b0;\n",
       "  color: #000000;\n",
       "}\n",
       "#T_69727_row16_col6 {\n",
       "  font-siz: 6pt;\n",
       "  background-color: #d7d7d7;\n",
       "  color: #000000;\n",
       "}\n",
       "#T_69727_row16_col7, #T_69727_row16_col9, #T_69727_row17_col8 {\n",
       "  font-siz: 6pt;\n",
       "  background-color: #020202;\n",
       "  color: #f1f1f1;\n",
       "}\n",
       "#T_69727_row16_col10 {\n",
       "  font-siz: 6pt;\n",
       "  background-color: #838383;\n",
       "  color: #f1f1f1;\n",
       "}\n",
       "#T_69727_row17_col5 {\n",
       "  font-siz: 6pt;\n",
       "  background-color: #d5d5d5;\n",
       "  color: #000000;\n",
       "}\n",
       "#T_69727_row17_col6, #T_69727_row18_col5 {\n",
       "  font-siz: 6pt;\n",
       "  background-color: #060606;\n",
       "  color: #f1f1f1;\n",
       "}\n",
       "#T_69727_row17_col9 {\n",
       "  font-siz: 6pt;\n",
       "  background-color: #666666;\n",
       "  color: #f1f1f1;\n",
       "}\n",
       "#T_69727_row18_col4 {\n",
       "  font-siz: 6pt;\n",
       "  background-color: #e0e0e0;\n",
       "  color: #000000;\n",
       "}\n",
       "#T_69727_row18_col8, #T_69727_row20_col6 {\n",
       "  font-siz: 6pt;\n",
       "  background-color: #363636;\n",
       "  color: #f1f1f1;\n",
       "}\n",
       "#T_69727_row19_col4 {\n",
       "  font-siz: 6pt;\n",
       "  background-color: #242424;\n",
       "  color: #f1f1f1;\n",
       "}\n",
       "#T_69727_row19_col7 {\n",
       "  font-siz: 6pt;\n",
       "  background-color: #535353;\n",
       "  color: #f1f1f1;\n",
       "}\n",
       "#T_69727_row20_col2 {\n",
       "  font-siz: 6pt;\n",
       "  background-color: #d3d3d3;\n",
       "  color: #000000;\n",
       "}\n",
       "#T_69727_row21_col5 {\n",
       "  font-siz: 6pt;\n",
       "  background-color: #383838;\n",
       "  color: #f1f1f1;\n",
       "}\n",
       "#T_69727_row21_col6 {\n",
       "  font-siz: 6pt;\n",
       "  background-color: #f5f5f5;\n",
       "  color: #000000;\n",
       "}\n",
       "</style>\n",
       "<table id=\"T_69727\">\n",
       "  <thead>\n",
       "    <tr>\n",
       "      <th class=\"blank level0\" >&nbsp;</th>\n",
       "      <th id=\"T_69727_level0_col0\" class=\"col_heading level0 col0\" >0</th>\n",
       "      <th id=\"T_69727_level0_col1\" class=\"col_heading level0 col1\" >1</th>\n",
       "      <th id=\"T_69727_level0_col2\" class=\"col_heading level0 col2\" >2</th>\n",
       "      <th id=\"T_69727_level0_col3\" class=\"col_heading level0 col3\" >3</th>\n",
       "      <th id=\"T_69727_level0_col4\" class=\"col_heading level0 col4\" >4</th>\n",
       "      <th id=\"T_69727_level0_col5\" class=\"col_heading level0 col5\" >5</th>\n",
       "      <th id=\"T_69727_level0_col6\" class=\"col_heading level0 col6\" >6</th>\n",
       "      <th id=\"T_69727_level0_col7\" class=\"col_heading level0 col7\" >7</th>\n",
       "      <th id=\"T_69727_level0_col8\" class=\"col_heading level0 col8\" >8</th>\n",
       "      <th id=\"T_69727_level0_col9\" class=\"col_heading level0 col9\" >9</th>\n",
       "      <th id=\"T_69727_level0_col10\" class=\"col_heading level0 col10\" >10</th>\n",
       "      <th id=\"T_69727_level0_col11\" class=\"col_heading level0 col11\" >11</th>\n",
       "      <th id=\"T_69727_level0_col12\" class=\"col_heading level0 col12\" >12</th>\n",
       "      <th id=\"T_69727_level0_col13\" class=\"col_heading level0 col13\" >13</th>\n",
       "      <th id=\"T_69727_level0_col14\" class=\"col_heading level0 col14\" >14</th>\n",
       "      <th id=\"T_69727_level0_col15\" class=\"col_heading level0 col15\" >15</th>\n",
       "      <th id=\"T_69727_level0_col16\" class=\"col_heading level0 col16\" >16</th>\n",
       "      <th id=\"T_69727_level0_col17\" class=\"col_heading level0 col17\" >17</th>\n",
       "      <th id=\"T_69727_level0_col18\" class=\"col_heading level0 col18\" >18</th>\n",
       "      <th id=\"T_69727_level0_col19\" class=\"col_heading level0 col19\" >19</th>\n",
       "      <th id=\"T_69727_level0_col20\" class=\"col_heading level0 col20\" >20</th>\n",
       "      <th id=\"T_69727_level0_col21\" class=\"col_heading level0 col21\" >21</th>\n",
       "    </tr>\n",
       "  </thead>\n",
       "  <tbody>\n",
       "    <tr>\n",
       "      <th id=\"T_69727_level0_row0\" class=\"row_heading level0 row0\" >0</th>\n",
       "      <td id=\"T_69727_row0_col0\" class=\"data row0 col0\" >0</td>\n",
       "      <td id=\"T_69727_row0_col1\" class=\"data row0 col1\" >0</td>\n",
       "      <td id=\"T_69727_row0_col2\" class=\"data row0 col2\" >0</td>\n",
       "      <td id=\"T_69727_row0_col3\" class=\"data row0 col3\" >0</td>\n",
       "      <td id=\"T_69727_row0_col4\" class=\"data row0 col4\" >0</td>\n",
       "      <td id=\"T_69727_row0_col5\" class=\"data row0 col5\" >0</td>\n",
       "      <td id=\"T_69727_row0_col6\" class=\"data row0 col6\" >0</td>\n",
       "      <td id=\"T_69727_row0_col7\" class=\"data row0 col7\" >0</td>\n",
       "      <td id=\"T_69727_row0_col8\" class=\"data row0 col8\" >0</td>\n",
       "      <td id=\"T_69727_row0_col9\" class=\"data row0 col9\" >0</td>\n",
       "      <td id=\"T_69727_row0_col10\" class=\"data row0 col10\" >0</td>\n",
       "      <td id=\"T_69727_row0_col11\" class=\"data row0 col11\" >0</td>\n",
       "      <td id=\"T_69727_row0_col12\" class=\"data row0 col12\" >0</td>\n",
       "      <td id=\"T_69727_row0_col13\" class=\"data row0 col13\" >0</td>\n",
       "      <td id=\"T_69727_row0_col14\" class=\"data row0 col14\" >0</td>\n",
       "      <td id=\"T_69727_row0_col15\" class=\"data row0 col15\" >0</td>\n",
       "      <td id=\"T_69727_row0_col16\" class=\"data row0 col16\" >0</td>\n",
       "      <td id=\"T_69727_row0_col17\" class=\"data row0 col17\" >0</td>\n",
       "      <td id=\"T_69727_row0_col18\" class=\"data row0 col18\" >0</td>\n",
       "      <td id=\"T_69727_row0_col19\" class=\"data row0 col19\" >0</td>\n",
       "      <td id=\"T_69727_row0_col20\" class=\"data row0 col20\" >0</td>\n",
       "      <td id=\"T_69727_row0_col21\" class=\"data row0 col21\" >0</td>\n",
       "    </tr>\n",
       "    <tr>\n",
       "      <th id=\"T_69727_level0_row1\" class=\"row_heading level0 row1\" >1</th>\n",
       "      <td id=\"T_69727_row1_col0\" class=\"data row1 col0\" >0</td>\n",
       "      <td id=\"T_69727_row1_col1\" class=\"data row1 col1\" >0</td>\n",
       "      <td id=\"T_69727_row1_col2\" class=\"data row1 col2\" >0</td>\n",
       "      <td id=\"T_69727_row1_col3\" class=\"data row1 col3\" >0</td>\n",
       "      <td id=\"T_69727_row1_col4\" class=\"data row1 col4\" >0</td>\n",
       "      <td id=\"T_69727_row1_col5\" class=\"data row1 col5\" >0</td>\n",
       "      <td id=\"T_69727_row1_col6\" class=\"data row1 col6\" >0</td>\n",
       "      <td id=\"T_69727_row1_col7\" class=\"data row1 col7\" >0</td>\n",
       "      <td id=\"T_69727_row1_col8\" class=\"data row1 col8\" >0</td>\n",
       "      <td id=\"T_69727_row1_col9\" class=\"data row1 col9\" >0</td>\n",
       "      <td id=\"T_69727_row1_col10\" class=\"data row1 col10\" >0</td>\n",
       "      <td id=\"T_69727_row1_col11\" class=\"data row1 col11\" >0</td>\n",
       "      <td id=\"T_69727_row1_col12\" class=\"data row1 col12\" >0</td>\n",
       "      <td id=\"T_69727_row1_col13\" class=\"data row1 col13\" >0</td>\n",
       "      <td id=\"T_69727_row1_col14\" class=\"data row1 col14\" >0</td>\n",
       "      <td id=\"T_69727_row1_col15\" class=\"data row1 col15\" >0</td>\n",
       "      <td id=\"T_69727_row1_col16\" class=\"data row1 col16\" >0</td>\n",
       "      <td id=\"T_69727_row1_col17\" class=\"data row1 col17\" >0</td>\n",
       "      <td id=\"T_69727_row1_col18\" class=\"data row1 col18\" >0</td>\n",
       "      <td id=\"T_69727_row1_col19\" class=\"data row1 col19\" >0</td>\n",
       "      <td id=\"T_69727_row1_col20\" class=\"data row1 col20\" >0</td>\n",
       "      <td id=\"T_69727_row1_col21\" class=\"data row1 col21\" >0</td>\n",
       "    </tr>\n",
       "    <tr>\n",
       "      <th id=\"T_69727_level0_row2\" class=\"row_heading level0 row2\" >2</th>\n",
       "      <td id=\"T_69727_row2_col0\" class=\"data row2 col0\" >0</td>\n",
       "      <td id=\"T_69727_row2_col1\" class=\"data row2 col1\" >0</td>\n",
       "      <td id=\"T_69727_row2_col2\" class=\"data row2 col2\" >0</td>\n",
       "      <td id=\"T_69727_row2_col3\" class=\"data row2 col3\" >0</td>\n",
       "      <td id=\"T_69727_row2_col4\" class=\"data row2 col4\" >0</td>\n",
       "      <td id=\"T_69727_row2_col5\" class=\"data row2 col5\" >0</td>\n",
       "      <td id=\"T_69727_row2_col6\" class=\"data row2 col6\" >0</td>\n",
       "      <td id=\"T_69727_row2_col7\" class=\"data row2 col7\" >1</td>\n",
       "      <td id=\"T_69727_row2_col8\" class=\"data row2 col8\" >13</td>\n",
       "      <td id=\"T_69727_row2_col9\" class=\"data row2 col9\" >7</td>\n",
       "      <td id=\"T_69727_row2_col10\" class=\"data row2 col10\" >0</td>\n",
       "      <td id=\"T_69727_row2_col11\" class=\"data row2 col11\" >0</td>\n",
       "      <td id=\"T_69727_row2_col12\" class=\"data row2 col12\" >0</td>\n",
       "      <td id=\"T_69727_row2_col13\" class=\"data row2 col13\" >0</td>\n",
       "      <td id=\"T_69727_row2_col14\" class=\"data row2 col14\" >0</td>\n",
       "      <td id=\"T_69727_row2_col15\" class=\"data row2 col15\" >0</td>\n",
       "      <td id=\"T_69727_row2_col16\" class=\"data row2 col16\" >2</td>\n",
       "      <td id=\"T_69727_row2_col17\" class=\"data row2 col17\" >93</td>\n",
       "      <td id=\"T_69727_row2_col18\" class=\"data row2 col18\" >244</td>\n",
       "      <td id=\"T_69727_row2_col19\" class=\"data row2 col19\" >207</td>\n",
       "      <td id=\"T_69727_row2_col20\" class=\"data row2 col20\" >8</td>\n",
       "      <td id=\"T_69727_row2_col21\" class=\"data row2 col21\" >0</td>\n",
       "    </tr>\n",
       "    <tr>\n",
       "      <th id=\"T_69727_level0_row3\" class=\"row_heading level0 row3\" >3</th>\n",
       "      <td id=\"T_69727_row3_col0\" class=\"data row3 col0\" >0</td>\n",
       "      <td id=\"T_69727_row3_col1\" class=\"data row3 col1\" >0</td>\n",
       "      <td id=\"T_69727_row3_col2\" class=\"data row3 col2\" >0</td>\n",
       "      <td id=\"T_69727_row3_col3\" class=\"data row3 col3\" >0</td>\n",
       "      <td id=\"T_69727_row3_col4\" class=\"data row3 col4\" >0</td>\n",
       "      <td id=\"T_69727_row3_col5\" class=\"data row3 col5\" >0</td>\n",
       "      <td id=\"T_69727_row3_col6\" class=\"data row3 col6\" >15</td>\n",
       "      <td id=\"T_69727_row3_col7\" class=\"data row3 col7\" >157</td>\n",
       "      <td id=\"T_69727_row3_col8\" class=\"data row3 col8\" >254</td>\n",
       "      <td id=\"T_69727_row3_col9\" class=\"data row3 col9\" >197</td>\n",
       "      <td id=\"T_69727_row3_col10\" class=\"data row3 col10\" >0</td>\n",
       "      <td id=\"T_69727_row3_col11\" class=\"data row3 col11\" >0</td>\n",
       "      <td id=\"T_69727_row3_col12\" class=\"data row3 col12\" >0</td>\n",
       "      <td id=\"T_69727_row3_col13\" class=\"data row3 col13\" >0</td>\n",
       "      <td id=\"T_69727_row3_col14\" class=\"data row3 col14\" >0</td>\n",
       "      <td id=\"T_69727_row3_col15\" class=\"data row3 col15\" >18</td>\n",
       "      <td id=\"T_69727_row3_col16\" class=\"data row3 col16\" >131</td>\n",
       "      <td id=\"T_69727_row3_col17\" class=\"data row3 col17\" >254</td>\n",
       "      <td id=\"T_69727_row3_col18\" class=\"data row3 col18\" >254</td>\n",
       "      <td id=\"T_69727_row3_col19\" class=\"data row3 col19\" >248</td>\n",
       "      <td id=\"T_69727_row3_col20\" class=\"data row3 col20\" >11</td>\n",
       "      <td id=\"T_69727_row3_col21\" class=\"data row3 col21\" >0</td>\n",
       "    </tr>\n",
       "    <tr>\n",
       "      <th id=\"T_69727_level0_row4\" class=\"row_heading level0 row4\" >4</th>\n",
       "      <td id=\"T_69727_row4_col0\" class=\"data row4 col0\" >0</td>\n",
       "      <td id=\"T_69727_row4_col1\" class=\"data row4 col1\" >0</td>\n",
       "      <td id=\"T_69727_row4_col2\" class=\"data row4 col2\" >0</td>\n",
       "      <td id=\"T_69727_row4_col3\" class=\"data row4 col3\" >0</td>\n",
       "      <td id=\"T_69727_row4_col4\" class=\"data row4 col4\" >0</td>\n",
       "      <td id=\"T_69727_row4_col5\" class=\"data row4 col5\" >9</td>\n",
       "      <td id=\"T_69727_row4_col6\" class=\"data row4 col6\" >220</td>\n",
       "      <td id=\"T_69727_row4_col7\" class=\"data row4 col7\" >254</td>\n",
       "      <td id=\"T_69727_row4_col8\" class=\"data row4 col8\" >254</td>\n",
       "      <td id=\"T_69727_row4_col9\" class=\"data row4 col9\" >230</td>\n",
       "      <td id=\"T_69727_row4_col10\" class=\"data row4 col10\" >104</td>\n",
       "      <td id=\"T_69727_row4_col11\" class=\"data row4 col11\" >0</td>\n",
       "      <td id=\"T_69727_row4_col12\" class=\"data row4 col12\" >0</td>\n",
       "      <td id=\"T_69727_row4_col13\" class=\"data row4 col13\" >0</td>\n",
       "      <td id=\"T_69727_row4_col14\" class=\"data row4 col14\" >65</td>\n",
       "      <td id=\"T_69727_row4_col15\" class=\"data row4 col15\" >216</td>\n",
       "      <td id=\"T_69727_row4_col16\" class=\"data row4 col16\" >254</td>\n",
       "      <td id=\"T_69727_row4_col17\" class=\"data row4 col17\" >254</td>\n",
       "      <td id=\"T_69727_row4_col18\" class=\"data row4 col18\" >254</td>\n",
       "      <td id=\"T_69727_row4_col19\" class=\"data row4 col19\" >218</td>\n",
       "      <td id=\"T_69727_row4_col20\" class=\"data row4 col20\" >8</td>\n",
       "      <td id=\"T_69727_row4_col21\" class=\"data row4 col21\" >0</td>\n",
       "    </tr>\n",
       "    <tr>\n",
       "      <th id=\"T_69727_level0_row5\" class=\"row_heading level0 row5\" >5</th>\n",
       "      <td id=\"T_69727_row5_col0\" class=\"data row5 col0\" >0</td>\n",
       "      <td id=\"T_69727_row5_col1\" class=\"data row5 col1\" >0</td>\n",
       "      <td id=\"T_69727_row5_col2\" class=\"data row5 col2\" >0</td>\n",
       "      <td id=\"T_69727_row5_col3\" class=\"data row5 col3\" >0</td>\n",
       "      <td id=\"T_69727_row5_col4\" class=\"data row5 col4\" >0</td>\n",
       "      <td id=\"T_69727_row5_col5\" class=\"data row5 col5\" >169</td>\n",
       "      <td id=\"T_69727_row5_col6\" class=\"data row5 col6\" >254</td>\n",
       "      <td id=\"T_69727_row5_col7\" class=\"data row5 col7\" >254</td>\n",
       "      <td id=\"T_69727_row5_col8\" class=\"data row5 col8\" >231</td>\n",
       "      <td id=\"T_69727_row5_col9\" class=\"data row5 col9\" >126</td>\n",
       "      <td id=\"T_69727_row5_col10\" class=\"data row5 col10\" >40</td>\n",
       "      <td id=\"T_69727_row5_col11\" class=\"data row5 col11\" >11</td>\n",
       "      <td id=\"T_69727_row5_col12\" class=\"data row5 col12\" >70</td>\n",
       "      <td id=\"T_69727_row5_col13\" class=\"data row5 col13\" >180</td>\n",
       "      <td id=\"T_69727_row5_col14\" class=\"data row5 col14\" >254</td>\n",
       "      <td id=\"T_69727_row5_col15\" class=\"data row5 col15\" >254</td>\n",
       "      <td id=\"T_69727_row5_col16\" class=\"data row5 col16\" >254</td>\n",
       "      <td id=\"T_69727_row5_col17\" class=\"data row5 col17\" >254</td>\n",
       "      <td id=\"T_69727_row5_col18\" class=\"data row5 col18\" >254</td>\n",
       "      <td id=\"T_69727_row5_col19\" class=\"data row5 col19\" >90</td>\n",
       "      <td id=\"T_69727_row5_col20\" class=\"data row5 col20\" >0</td>\n",
       "      <td id=\"T_69727_row5_col21\" class=\"data row5 col21\" >0</td>\n",
       "    </tr>\n",
       "    <tr>\n",
       "      <th id=\"T_69727_level0_row6\" class=\"row_heading level0 row6\" >6</th>\n",
       "      <td id=\"T_69727_row6_col0\" class=\"data row6 col0\" >0</td>\n",
       "      <td id=\"T_69727_row6_col1\" class=\"data row6 col1\" >0</td>\n",
       "      <td id=\"T_69727_row6_col2\" class=\"data row6 col2\" >0</td>\n",
       "      <td id=\"T_69727_row6_col3\" class=\"data row6 col3\" >40</td>\n",
       "      <td id=\"T_69727_row6_col4\" class=\"data row6 col4\" >183</td>\n",
       "      <td id=\"T_69727_row6_col5\" class=\"data row6 col5\" >251</td>\n",
       "      <td id=\"T_69727_row6_col6\" class=\"data row6 col6\" >254</td>\n",
       "      <td id=\"T_69727_row6_col7\" class=\"data row6 col7\" >226</td>\n",
       "      <td id=\"T_69727_row6_col8\" class=\"data row6 col8\" >81</td>\n",
       "      <td id=\"T_69727_row6_col9\" class=\"data row6 col9\" >70</td>\n",
       "      <td id=\"T_69727_row6_col10\" class=\"data row6 col10\" >180</td>\n",
       "      <td id=\"T_69727_row6_col11\" class=\"data row6 col11\" >229</td>\n",
       "      <td id=\"T_69727_row6_col12\" class=\"data row6 col12\" >254</td>\n",
       "      <td id=\"T_69727_row6_col13\" class=\"data row6 col13\" >254</td>\n",
       "      <td id=\"T_69727_row6_col14\" class=\"data row6 col14\" >254</td>\n",
       "      <td id=\"T_69727_row6_col15\" class=\"data row6 col15\" >254</td>\n",
       "      <td id=\"T_69727_row6_col16\" class=\"data row6 col16\" >254</td>\n",
       "      <td id=\"T_69727_row6_col17\" class=\"data row6 col17\" >254</td>\n",
       "      <td id=\"T_69727_row6_col18\" class=\"data row6 col18\" >115</td>\n",
       "      <td id=\"T_69727_row6_col19\" class=\"data row6 col19\" >3</td>\n",
       "      <td id=\"T_69727_row6_col20\" class=\"data row6 col20\" >0</td>\n",
       "      <td id=\"T_69727_row6_col21\" class=\"data row6 col21\" >0</td>\n",
       "    </tr>\n",
       "    <tr>\n",
       "      <th id=\"T_69727_level0_row7\" class=\"row_heading level0 row7\" >7</th>\n",
       "      <td id=\"T_69727_row7_col0\" class=\"data row7 col0\" >0</td>\n",
       "      <td id=\"T_69727_row7_col1\" class=\"data row7 col1\" >0</td>\n",
       "      <td id=\"T_69727_row7_col2\" class=\"data row7 col2\" >7</td>\n",
       "      <td id=\"T_69727_row7_col3\" class=\"data row7 col3\" >208</td>\n",
       "      <td id=\"T_69727_row7_col4\" class=\"data row7 col4\" >254</td>\n",
       "      <td id=\"T_69727_row7_col5\" class=\"data row7 col5\" >254</td>\n",
       "      <td id=\"T_69727_row7_col6\" class=\"data row7 col6\" >255</td>\n",
       "      <td id=\"T_69727_row7_col7\" class=\"data row7 col7\" >254</td>\n",
       "      <td id=\"T_69727_row7_col8\" class=\"data row7 col8\" >254</td>\n",
       "      <td id=\"T_69727_row7_col9\" class=\"data row7 col9\" >254</td>\n",
       "      <td id=\"T_69727_row7_col10\" class=\"data row7 col10\" >255</td>\n",
       "      <td id=\"T_69727_row7_col11\" class=\"data row7 col11\" >254</td>\n",
       "      <td id=\"T_69727_row7_col12\" class=\"data row7 col12\" >254</td>\n",
       "      <td id=\"T_69727_row7_col13\" class=\"data row7 col13\" >254</td>\n",
       "      <td id=\"T_69727_row7_col14\" class=\"data row7 col14\" >254</td>\n",
       "      <td id=\"T_69727_row7_col15\" class=\"data row7 col15\" >254</td>\n",
       "      <td id=\"T_69727_row7_col16\" class=\"data row7 col16\" >254</td>\n",
       "      <td id=\"T_69727_row7_col17\" class=\"data row7 col17\" >190</td>\n",
       "      <td id=\"T_69727_row7_col18\" class=\"data row7 col18\" >3</td>\n",
       "      <td id=\"T_69727_row7_col19\" class=\"data row7 col19\" >0</td>\n",
       "      <td id=\"T_69727_row7_col20\" class=\"data row7 col20\" >0</td>\n",
       "      <td id=\"T_69727_row7_col21\" class=\"data row7 col21\" >0</td>\n",
       "    </tr>\n",
       "    <tr>\n",
       "      <th id=\"T_69727_level0_row8\" class=\"row_heading level0 row8\" >8</th>\n",
       "      <td id=\"T_69727_row8_col0\" class=\"data row8 col0\" >0</td>\n",
       "      <td id=\"T_69727_row8_col1\" class=\"data row8 col1\" >0</td>\n",
       "      <td id=\"T_69727_row8_col2\" class=\"data row8 col2\" >53</td>\n",
       "      <td id=\"T_69727_row8_col3\" class=\"data row8 col3\" >254</td>\n",
       "      <td id=\"T_69727_row8_col4\" class=\"data row8 col4\" >254</td>\n",
       "      <td id=\"T_69727_row8_col5\" class=\"data row8 col5\" >254</td>\n",
       "      <td id=\"T_69727_row8_col6\" class=\"data row8 col6\" >254</td>\n",
       "      <td id=\"T_69727_row8_col7\" class=\"data row8 col7\" >254</td>\n",
       "      <td id=\"T_69727_row8_col8\" class=\"data row8 col8\" >253</td>\n",
       "      <td id=\"T_69727_row8_col9\" class=\"data row8 col9\" >250</td>\n",
       "      <td id=\"T_69727_row8_col10\" class=\"data row8 col10\" >212</td>\n",
       "      <td id=\"T_69727_row8_col11\" class=\"data row8 col11\" >169</td>\n",
       "      <td id=\"T_69727_row8_col12\" class=\"data row8 col12\" >125</td>\n",
       "      <td id=\"T_69727_row8_col13\" class=\"data row8 col13\" >167</td>\n",
       "      <td id=\"T_69727_row8_col14\" class=\"data row8 col14\" >254</td>\n",
       "      <td id=\"T_69727_row8_col15\" class=\"data row8 col15\" >254</td>\n",
       "      <td id=\"T_69727_row8_col16\" class=\"data row8 col16\" >241</td>\n",
       "      <td id=\"T_69727_row8_col17\" class=\"data row8 col17\" >35</td>\n",
       "      <td id=\"T_69727_row8_col18\" class=\"data row8 col18\" >0</td>\n",
       "      <td id=\"T_69727_row8_col19\" class=\"data row8 col19\" >0</td>\n",
       "      <td id=\"T_69727_row8_col20\" class=\"data row8 col20\" >0</td>\n",
       "      <td id=\"T_69727_row8_col21\" class=\"data row8 col21\" >0</td>\n",
       "    </tr>\n",
       "    <tr>\n",
       "      <th id=\"T_69727_level0_row9\" class=\"row_heading level0 row9\" >9</th>\n",
       "      <td id=\"T_69727_row9_col0\" class=\"data row9 col0\" >0</td>\n",
       "      <td id=\"T_69727_row9_col1\" class=\"data row9 col1\" >0</td>\n",
       "      <td id=\"T_69727_row9_col2\" class=\"data row9 col2\" >150</td>\n",
       "      <td id=\"T_69727_row9_col3\" class=\"data row9 col3\" >254</td>\n",
       "      <td id=\"T_69727_row9_col4\" class=\"data row9 col4\" >254</td>\n",
       "      <td id=\"T_69727_row9_col5\" class=\"data row9 col5\" >181</td>\n",
       "      <td id=\"T_69727_row9_col6\" class=\"data row9 col6\" >77</td>\n",
       "      <td id=\"T_69727_row9_col7\" class=\"data row9 col7\" >77</td>\n",
       "      <td id=\"T_69727_row9_col8\" class=\"data row9 col8\" >48</td>\n",
       "      <td id=\"T_69727_row9_col9\" class=\"data row9 col9\" >0</td>\n",
       "      <td id=\"T_69727_row9_col10\" class=\"data row9 col10\" >0</td>\n",
       "      <td id=\"T_69727_row9_col11\" class=\"data row9 col11\" >0</td>\n",
       "      <td id=\"T_69727_row9_col12\" class=\"data row9 col12\" >128</td>\n",
       "      <td id=\"T_69727_row9_col13\" class=\"data row9 col13\" >254</td>\n",
       "      <td id=\"T_69727_row9_col14\" class=\"data row9 col14\" >254</td>\n",
       "      <td id=\"T_69727_row9_col15\" class=\"data row9 col15\" >253</td>\n",
       "      <td id=\"T_69727_row9_col16\" class=\"data row9 col16\" >57</td>\n",
       "      <td id=\"T_69727_row9_col17\" class=\"data row9 col17\" >0</td>\n",
       "      <td id=\"T_69727_row9_col18\" class=\"data row9 col18\" >0</td>\n",
       "      <td id=\"T_69727_row9_col19\" class=\"data row9 col19\" >0</td>\n",
       "      <td id=\"T_69727_row9_col20\" class=\"data row9 col20\" >0</td>\n",
       "      <td id=\"T_69727_row9_col21\" class=\"data row9 col21\" >0</td>\n",
       "    </tr>\n",
       "    <tr>\n",
       "      <th id=\"T_69727_level0_row10\" class=\"row_heading level0 row10\" >10</th>\n",
       "      <td id=\"T_69727_row10_col0\" class=\"data row10 col0\" >0</td>\n",
       "      <td id=\"T_69727_row10_col1\" class=\"data row10 col1\" >0</td>\n",
       "      <td id=\"T_69727_row10_col2\" class=\"data row10 col2\" >14</td>\n",
       "      <td id=\"T_69727_row10_col3\" class=\"data row10 col3\" >157</td>\n",
       "      <td id=\"T_69727_row10_col4\" class=\"data row10 col4\" >195</td>\n",
       "      <td id=\"T_69727_row10_col5\" class=\"data row10 col5\" >29</td>\n",
       "      <td id=\"T_69727_row10_col6\" class=\"data row10 col6\" >0</td>\n",
       "      <td id=\"T_69727_row10_col7\" class=\"data row10 col7\" >0</td>\n",
       "      <td id=\"T_69727_row10_col8\" class=\"data row10 col8\" >0</td>\n",
       "      <td id=\"T_69727_row10_col9\" class=\"data row10 col9\" >0</td>\n",
       "      <td id=\"T_69727_row10_col10\" class=\"data row10 col10\" >0</td>\n",
       "      <td id=\"T_69727_row10_col11\" class=\"data row10 col11\" >75</td>\n",
       "      <td id=\"T_69727_row10_col12\" class=\"data row10 col12\" >248</td>\n",
       "      <td id=\"T_69727_row10_col13\" class=\"data row10 col13\" >254</td>\n",
       "      <td id=\"T_69727_row10_col14\" class=\"data row10 col14\" >254</td>\n",
       "      <td id=\"T_69727_row10_col15\" class=\"data row10 col15\" >139</td>\n",
       "      <td id=\"T_69727_row10_col16\" class=\"data row10 col16\" >0</td>\n",
       "      <td id=\"T_69727_row10_col17\" class=\"data row10 col17\" >0</td>\n",
       "      <td id=\"T_69727_row10_col18\" class=\"data row10 col18\" >0</td>\n",
       "      <td id=\"T_69727_row10_col19\" class=\"data row10 col19\" >0</td>\n",
       "      <td id=\"T_69727_row10_col20\" class=\"data row10 col20\" >0</td>\n",
       "      <td id=\"T_69727_row10_col21\" class=\"data row10 col21\" >0</td>\n",
       "    </tr>\n",
       "    <tr>\n",
       "      <th id=\"T_69727_level0_row11\" class=\"row_heading level0 row11\" >11</th>\n",
       "      <td id=\"T_69727_row11_col0\" class=\"data row11 col0\" >0</td>\n",
       "      <td id=\"T_69727_row11_col1\" class=\"data row11 col1\" >0</td>\n",
       "      <td id=\"T_69727_row11_col2\" class=\"data row11 col2\" >0</td>\n",
       "      <td id=\"T_69727_row11_col3\" class=\"data row11 col3\" >0</td>\n",
       "      <td id=\"T_69727_row11_col4\" class=\"data row11 col4\" >0</td>\n",
       "      <td id=\"T_69727_row11_col5\" class=\"data row11 col5\" >0</td>\n",
       "      <td id=\"T_69727_row11_col6\" class=\"data row11 col6\" >0</td>\n",
       "      <td id=\"T_69727_row11_col7\" class=\"data row11 col7\" >0</td>\n",
       "      <td id=\"T_69727_row11_col8\" class=\"data row11 col8\" >0</td>\n",
       "      <td id=\"T_69727_row11_col9\" class=\"data row11 col9\" >0</td>\n",
       "      <td id=\"T_69727_row11_col10\" class=\"data row11 col10\" >59</td>\n",
       "      <td id=\"T_69727_row11_col11\" class=\"data row11 col11\" >217</td>\n",
       "      <td id=\"T_69727_row11_col12\" class=\"data row11 col12\" >254</td>\n",
       "      <td id=\"T_69727_row11_col13\" class=\"data row11 col13\" >254</td>\n",
       "      <td id=\"T_69727_row11_col14\" class=\"data row11 col14\" >170</td>\n",
       "      <td id=\"T_69727_row11_col15\" class=\"data row11 col15\" >15</td>\n",
       "      <td id=\"T_69727_row11_col16\" class=\"data row11 col16\" >0</td>\n",
       "      <td id=\"T_69727_row11_col17\" class=\"data row11 col17\" >0</td>\n",
       "      <td id=\"T_69727_row11_col18\" class=\"data row11 col18\" >0</td>\n",
       "      <td id=\"T_69727_row11_col19\" class=\"data row11 col19\" >0</td>\n",
       "      <td id=\"T_69727_row11_col20\" class=\"data row11 col20\" >0</td>\n",
       "      <td id=\"T_69727_row11_col21\" class=\"data row11 col21\" >0</td>\n",
       "    </tr>\n",
       "    <tr>\n",
       "      <th id=\"T_69727_level0_row12\" class=\"row_heading level0 row12\" >12</th>\n",
       "      <td id=\"T_69727_row12_col0\" class=\"data row12 col0\" >0</td>\n",
       "      <td id=\"T_69727_row12_col1\" class=\"data row12 col1\" >0</td>\n",
       "      <td id=\"T_69727_row12_col2\" class=\"data row12 col2\" >0</td>\n",
       "      <td id=\"T_69727_row12_col3\" class=\"data row12 col3\" >0</td>\n",
       "      <td id=\"T_69727_row12_col4\" class=\"data row12 col4\" >0</td>\n",
       "      <td id=\"T_69727_row12_col5\" class=\"data row12 col5\" >0</td>\n",
       "      <td id=\"T_69727_row12_col6\" class=\"data row12 col6\" >0</td>\n",
       "      <td id=\"T_69727_row12_col7\" class=\"data row12 col7\" >0</td>\n",
       "      <td id=\"T_69727_row12_col8\" class=\"data row12 col8\" >0</td>\n",
       "      <td id=\"T_69727_row12_col9\" class=\"data row12 col9\" >15</td>\n",
       "      <td id=\"T_69727_row12_col10\" class=\"data row12 col10\" >217</td>\n",
       "      <td id=\"T_69727_row12_col11\" class=\"data row12 col11\" >254</td>\n",
       "      <td id=\"T_69727_row12_col12\" class=\"data row12 col12\" >254</td>\n",
       "      <td id=\"T_69727_row12_col13\" class=\"data row12 col13\" >214</td>\n",
       "      <td id=\"T_69727_row12_col14\" class=\"data row12 col14\" >15</td>\n",
       "      <td id=\"T_69727_row12_col15\" class=\"data row12 col15\" >0</td>\n",
       "      <td id=\"T_69727_row12_col16\" class=\"data row12 col16\" >0</td>\n",
       "      <td id=\"T_69727_row12_col17\" class=\"data row12 col17\" >0</td>\n",
       "      <td id=\"T_69727_row12_col18\" class=\"data row12 col18\" >0</td>\n",
       "      <td id=\"T_69727_row12_col19\" class=\"data row12 col19\" >0</td>\n",
       "      <td id=\"T_69727_row12_col20\" class=\"data row12 col20\" >0</td>\n",
       "      <td id=\"T_69727_row12_col21\" class=\"data row12 col21\" >0</td>\n",
       "    </tr>\n",
       "    <tr>\n",
       "      <th id=\"T_69727_level0_row13\" class=\"row_heading level0 row13\" >13</th>\n",
       "      <td id=\"T_69727_row13_col0\" class=\"data row13 col0\" >0</td>\n",
       "      <td id=\"T_69727_row13_col1\" class=\"data row13 col1\" >0</td>\n",
       "      <td id=\"T_69727_row13_col2\" class=\"data row13 col2\" >0</td>\n",
       "      <td id=\"T_69727_row13_col3\" class=\"data row13 col3\" >0</td>\n",
       "      <td id=\"T_69727_row13_col4\" class=\"data row13 col4\" >0</td>\n",
       "      <td id=\"T_69727_row13_col5\" class=\"data row13 col5\" >0</td>\n",
       "      <td id=\"T_69727_row13_col6\" class=\"data row13 col6\" >0</td>\n",
       "      <td id=\"T_69727_row13_col7\" class=\"data row13 col7\" >0</td>\n",
       "      <td id=\"T_69727_row13_col8\" class=\"data row13 col8\" >5</td>\n",
       "      <td id=\"T_69727_row13_col9\" class=\"data row13 col9\" >113</td>\n",
       "      <td id=\"T_69727_row13_col10\" class=\"data row13 col10\" >254</td>\n",
       "      <td id=\"T_69727_row13_col11\" class=\"data row13 col11\" >254</td>\n",
       "      <td id=\"T_69727_row13_col12\" class=\"data row13 col12\" >238</td>\n",
       "      <td id=\"T_69727_row13_col13\" class=\"data row13 col13\" >55</td>\n",
       "      <td id=\"T_69727_row13_col14\" class=\"data row13 col14\" >0</td>\n",
       "      <td id=\"T_69727_row13_col15\" class=\"data row13 col15\" >0</td>\n",
       "      <td id=\"T_69727_row13_col16\" class=\"data row13 col16\" >0</td>\n",
       "      <td id=\"T_69727_row13_col17\" class=\"data row13 col17\" >0</td>\n",
       "      <td id=\"T_69727_row13_col18\" class=\"data row13 col18\" >0</td>\n",
       "      <td id=\"T_69727_row13_col19\" class=\"data row13 col19\" >0</td>\n",
       "      <td id=\"T_69727_row13_col20\" class=\"data row13 col20\" >0</td>\n",
       "      <td id=\"T_69727_row13_col21\" class=\"data row13 col21\" >0</td>\n",
       "    </tr>\n",
       "    <tr>\n",
       "      <th id=\"T_69727_level0_row14\" class=\"row_heading level0 row14\" >14</th>\n",
       "      <td id=\"T_69727_row14_col0\" class=\"data row14 col0\" >0</td>\n",
       "      <td id=\"T_69727_row14_col1\" class=\"data row14 col1\" >0</td>\n",
       "      <td id=\"T_69727_row14_col2\" class=\"data row14 col2\" >0</td>\n",
       "      <td id=\"T_69727_row14_col3\" class=\"data row14 col3\" >0</td>\n",
       "      <td id=\"T_69727_row14_col4\" class=\"data row14 col4\" >0</td>\n",
       "      <td id=\"T_69727_row14_col5\" class=\"data row14 col5\" >0</td>\n",
       "      <td id=\"T_69727_row14_col6\" class=\"data row14 col6\" >0</td>\n",
       "      <td id=\"T_69727_row14_col7\" class=\"data row14 col7\" >2</td>\n",
       "      <td id=\"T_69727_row14_col8\" class=\"data row14 col8\" >89</td>\n",
       "      <td id=\"T_69727_row14_col9\" class=\"data row14 col9\" >254</td>\n",
       "      <td id=\"T_69727_row14_col10\" class=\"data row14 col10\" >254</td>\n",
       "      <td id=\"T_69727_row14_col11\" class=\"data row14 col11\" >239</td>\n",
       "      <td id=\"T_69727_row14_col12\" class=\"data row14 col12\" >81</td>\n",
       "      <td id=\"T_69727_row14_col13\" class=\"data row14 col13\" >0</td>\n",
       "      <td id=\"T_69727_row14_col14\" class=\"data row14 col14\" >0</td>\n",
       "      <td id=\"T_69727_row14_col15\" class=\"data row14 col15\" >0</td>\n",
       "      <td id=\"T_69727_row14_col16\" class=\"data row14 col16\" >0</td>\n",
       "      <td id=\"T_69727_row14_col17\" class=\"data row14 col17\" >0</td>\n",
       "      <td id=\"T_69727_row14_col18\" class=\"data row14 col18\" >0</td>\n",
       "      <td id=\"T_69727_row14_col19\" class=\"data row14 col19\" >0</td>\n",
       "      <td id=\"T_69727_row14_col20\" class=\"data row14 col20\" >0</td>\n",
       "      <td id=\"T_69727_row14_col21\" class=\"data row14 col21\" >0</td>\n",
       "    </tr>\n",
       "    <tr>\n",
       "      <th id=\"T_69727_level0_row15\" class=\"row_heading level0 row15\" >15</th>\n",
       "      <td id=\"T_69727_row15_col0\" class=\"data row15 col0\" >0</td>\n",
       "      <td id=\"T_69727_row15_col1\" class=\"data row15 col1\" >0</td>\n",
       "      <td id=\"T_69727_row15_col2\" class=\"data row15 col2\" >0</td>\n",
       "      <td id=\"T_69727_row15_col3\" class=\"data row15 col3\" >0</td>\n",
       "      <td id=\"T_69727_row15_col4\" class=\"data row15 col4\" >0</td>\n",
       "      <td id=\"T_69727_row15_col5\" class=\"data row15 col5\" >0</td>\n",
       "      <td id=\"T_69727_row15_col6\" class=\"data row15 col6\" >0</td>\n",
       "      <td id=\"T_69727_row15_col7\" class=\"data row15 col7\" >141</td>\n",
       "      <td id=\"T_69727_row15_col8\" class=\"data row15 col8\" >254</td>\n",
       "      <td id=\"T_69727_row15_col9\" class=\"data row15 col9\" >254</td>\n",
       "      <td id=\"T_69727_row15_col10\" class=\"data row15 col10\" >240</td>\n",
       "      <td id=\"T_69727_row15_col11\" class=\"data row15 col11\" >106</td>\n",
       "      <td id=\"T_69727_row15_col12\" class=\"data row15 col12\" >0</td>\n",
       "      <td id=\"T_69727_row15_col13\" class=\"data row15 col13\" >0</td>\n",
       "      <td id=\"T_69727_row15_col14\" class=\"data row15 col14\" >0</td>\n",
       "      <td id=\"T_69727_row15_col15\" class=\"data row15 col15\" >0</td>\n",
       "      <td id=\"T_69727_row15_col16\" class=\"data row15 col16\" >0</td>\n",
       "      <td id=\"T_69727_row15_col17\" class=\"data row15 col17\" >0</td>\n",
       "      <td id=\"T_69727_row15_col18\" class=\"data row15 col18\" >0</td>\n",
       "      <td id=\"T_69727_row15_col19\" class=\"data row15 col19\" >0</td>\n",
       "      <td id=\"T_69727_row15_col20\" class=\"data row15 col20\" >0</td>\n",
       "      <td id=\"T_69727_row15_col21\" class=\"data row15 col21\" >0</td>\n",
       "    </tr>\n",
       "    <tr>\n",
       "      <th id=\"T_69727_level0_row16\" class=\"row_heading level0 row16\" >16</th>\n",
       "      <td id=\"T_69727_row16_col0\" class=\"data row16 col0\" >0</td>\n",
       "      <td id=\"T_69727_row16_col1\" class=\"data row16 col1\" >0</td>\n",
       "      <td id=\"T_69727_row16_col2\" class=\"data row16 col2\" >0</td>\n",
       "      <td id=\"T_69727_row16_col3\" class=\"data row16 col3\" >0</td>\n",
       "      <td id=\"T_69727_row16_col4\" class=\"data row16 col4\" >0</td>\n",
       "      <td id=\"T_69727_row16_col5\" class=\"data row16 col5\" >0</td>\n",
       "      <td id=\"T_69727_row16_col6\" class=\"data row16 col6\" >66</td>\n",
       "      <td id=\"T_69727_row16_col7\" class=\"data row16 col7\" >252</td>\n",
       "      <td id=\"T_69727_row16_col8\" class=\"data row16 col8\" >254</td>\n",
       "      <td id=\"T_69727_row16_col9\" class=\"data row16 col9\" >252</td>\n",
       "      <td id=\"T_69727_row16_col10\" class=\"data row16 col10\" >145</td>\n",
       "      <td id=\"T_69727_row16_col11\" class=\"data row16 col11\" >0</td>\n",
       "      <td id=\"T_69727_row16_col12\" class=\"data row16 col12\" >0</td>\n",
       "      <td id=\"T_69727_row16_col13\" class=\"data row16 col13\" >0</td>\n",
       "      <td id=\"T_69727_row16_col14\" class=\"data row16 col14\" >0</td>\n",
       "      <td id=\"T_69727_row16_col15\" class=\"data row16 col15\" >0</td>\n",
       "      <td id=\"T_69727_row16_col16\" class=\"data row16 col16\" >0</td>\n",
       "      <td id=\"T_69727_row16_col17\" class=\"data row16 col17\" >0</td>\n",
       "      <td id=\"T_69727_row16_col18\" class=\"data row16 col18\" >0</td>\n",
       "      <td id=\"T_69727_row16_col19\" class=\"data row16 col19\" >0</td>\n",
       "      <td id=\"T_69727_row16_col20\" class=\"data row16 col20\" >0</td>\n",
       "      <td id=\"T_69727_row16_col21\" class=\"data row16 col21\" >0</td>\n",
       "    </tr>\n",
       "    <tr>\n",
       "      <th id=\"T_69727_level0_row17\" class=\"row_heading level0 row17\" >17</th>\n",
       "      <td id=\"T_69727_row17_col0\" class=\"data row17 col0\" >0</td>\n",
       "      <td id=\"T_69727_row17_col1\" class=\"data row17 col1\" >0</td>\n",
       "      <td id=\"T_69727_row17_col2\" class=\"data row17 col2\" >0</td>\n",
       "      <td id=\"T_69727_row17_col3\" class=\"data row17 col3\" >0</td>\n",
       "      <td id=\"T_69727_row17_col4\" class=\"data row17 col4\" >0</td>\n",
       "      <td id=\"T_69727_row17_col5\" class=\"data row17 col5\" >68</td>\n",
       "      <td id=\"T_69727_row17_col6\" class=\"data row17 col6\" >250</td>\n",
       "      <td id=\"T_69727_row17_col7\" class=\"data row17 col7\" >254</td>\n",
       "      <td id=\"T_69727_row17_col8\" class=\"data row17 col8\" >252</td>\n",
       "      <td id=\"T_69727_row17_col9\" class=\"data row17 col9\" >171</td>\n",
       "      <td id=\"T_69727_row17_col10\" class=\"data row17 col10\" >0</td>\n",
       "      <td id=\"T_69727_row17_col11\" class=\"data row17 col11\" >0</td>\n",
       "      <td id=\"T_69727_row17_col12\" class=\"data row17 col12\" >0</td>\n",
       "      <td id=\"T_69727_row17_col13\" class=\"data row17 col13\" >0</td>\n",
       "      <td id=\"T_69727_row17_col14\" class=\"data row17 col14\" >0</td>\n",
       "      <td id=\"T_69727_row17_col15\" class=\"data row17 col15\" >0</td>\n",
       "      <td id=\"T_69727_row17_col16\" class=\"data row17 col16\" >0</td>\n",
       "      <td id=\"T_69727_row17_col17\" class=\"data row17 col17\" >0</td>\n",
       "      <td id=\"T_69727_row17_col18\" class=\"data row17 col18\" >0</td>\n",
       "      <td id=\"T_69727_row17_col19\" class=\"data row17 col19\" >0</td>\n",
       "      <td id=\"T_69727_row17_col20\" class=\"data row17 col20\" >0</td>\n",
       "      <td id=\"T_69727_row17_col21\" class=\"data row17 col21\" >0</td>\n",
       "    </tr>\n",
       "    <tr>\n",
       "      <th id=\"T_69727_level0_row18\" class=\"row_heading level0 row18\" >18</th>\n",
       "      <td id=\"T_69727_row18_col0\" class=\"data row18 col0\" >0</td>\n",
       "      <td id=\"T_69727_row18_col1\" class=\"data row18 col1\" >0</td>\n",
       "      <td id=\"T_69727_row18_col2\" class=\"data row18 col2\" >0</td>\n",
       "      <td id=\"T_69727_row18_col3\" class=\"data row18 col3\" >0</td>\n",
       "      <td id=\"T_69727_row18_col4\" class=\"data row18 col4\" >54</td>\n",
       "      <td id=\"T_69727_row18_col5\" class=\"data row18 col5\" >249</td>\n",
       "      <td id=\"T_69727_row18_col6\" class=\"data row18 col6\" >254</td>\n",
       "      <td id=\"T_69727_row18_col7\" class=\"data row18 col7\" >254</td>\n",
       "      <td id=\"T_69727_row18_col8\" class=\"data row18 col8\" >210</td>\n",
       "      <td id=\"T_69727_row18_col9\" class=\"data row18 col9\" >0</td>\n",
       "      <td id=\"T_69727_row18_col10\" class=\"data row18 col10\" >0</td>\n",
       "      <td id=\"T_69727_row18_col11\" class=\"data row18 col11\" >0</td>\n",
       "      <td id=\"T_69727_row18_col12\" class=\"data row18 col12\" >0</td>\n",
       "      <td id=\"T_69727_row18_col13\" class=\"data row18 col13\" >0</td>\n",
       "      <td id=\"T_69727_row18_col14\" class=\"data row18 col14\" >0</td>\n",
       "      <td id=\"T_69727_row18_col15\" class=\"data row18 col15\" >0</td>\n",
       "      <td id=\"T_69727_row18_col16\" class=\"data row18 col16\" >0</td>\n",
       "      <td id=\"T_69727_row18_col17\" class=\"data row18 col17\" >0</td>\n",
       "      <td id=\"T_69727_row18_col18\" class=\"data row18 col18\" >0</td>\n",
       "      <td id=\"T_69727_row18_col19\" class=\"data row18 col19\" >0</td>\n",
       "      <td id=\"T_69727_row18_col20\" class=\"data row18 col20\" >0</td>\n",
       "      <td id=\"T_69727_row18_col21\" class=\"data row18 col21\" >0</td>\n",
       "    </tr>\n",
       "    <tr>\n",
       "      <th id=\"T_69727_level0_row19\" class=\"row_heading level0 row19\" >19</th>\n",
       "      <td id=\"T_69727_row19_col0\" class=\"data row19 col0\" >0</td>\n",
       "      <td id=\"T_69727_row19_col1\" class=\"data row19 col1\" >0</td>\n",
       "      <td id=\"T_69727_row19_col2\" class=\"data row19 col2\" >0</td>\n",
       "      <td id=\"T_69727_row19_col3\" class=\"data row19 col3\" >56</td>\n",
       "      <td id=\"T_69727_row19_col4\" class=\"data row19 col4\" >223</td>\n",
       "      <td id=\"T_69727_row19_col5\" class=\"data row19 col5\" >254</td>\n",
       "      <td id=\"T_69727_row19_col6\" class=\"data row19 col6\" >254</td>\n",
       "      <td id=\"T_69727_row19_col7\" class=\"data row19 col7\" >189</td>\n",
       "      <td id=\"T_69727_row19_col8\" class=\"data row19 col8\" >11</td>\n",
       "      <td id=\"T_69727_row19_col9\" class=\"data row19 col9\" >0</td>\n",
       "      <td id=\"T_69727_row19_col10\" class=\"data row19 col10\" >0</td>\n",
       "      <td id=\"T_69727_row19_col11\" class=\"data row19 col11\" >0</td>\n",
       "      <td id=\"T_69727_row19_col12\" class=\"data row19 col12\" >0</td>\n",
       "      <td id=\"T_69727_row19_col13\" class=\"data row19 col13\" >0</td>\n",
       "      <td id=\"T_69727_row19_col14\" class=\"data row19 col14\" >0</td>\n",
       "      <td id=\"T_69727_row19_col15\" class=\"data row19 col15\" >0</td>\n",
       "      <td id=\"T_69727_row19_col16\" class=\"data row19 col16\" >0</td>\n",
       "      <td id=\"T_69727_row19_col17\" class=\"data row19 col17\" >0</td>\n",
       "      <td id=\"T_69727_row19_col18\" class=\"data row19 col18\" >0</td>\n",
       "      <td id=\"T_69727_row19_col19\" class=\"data row19 col19\" >0</td>\n",
       "      <td id=\"T_69727_row19_col20\" class=\"data row19 col20\" >0</td>\n",
       "      <td id=\"T_69727_row19_col21\" class=\"data row19 col21\" >0</td>\n",
       "    </tr>\n",
       "    <tr>\n",
       "      <th id=\"T_69727_level0_row20\" class=\"row_heading level0 row20\" >20</th>\n",
       "      <td id=\"T_69727_row20_col0\" class=\"data row20 col0\" >0</td>\n",
       "      <td id=\"T_69727_row20_col1\" class=\"data row20 col1\" >0</td>\n",
       "      <td id=\"T_69727_row20_col2\" class=\"data row20 col2\" >63</td>\n",
       "      <td id=\"T_69727_row20_col3\" class=\"data row20 col3\" >231</td>\n",
       "      <td id=\"T_69727_row20_col4\" class=\"data row20 col4\" >254</td>\n",
       "      <td id=\"T_69727_row20_col5\" class=\"data row20 col5\" >254</td>\n",
       "      <td id=\"T_69727_row20_col6\" class=\"data row20 col6\" >211</td>\n",
       "      <td id=\"T_69727_row20_col7\" class=\"data row20 col7\" >11</td>\n",
       "      <td id=\"T_69727_row20_col8\" class=\"data row20 col8\" >0</td>\n",
       "      <td id=\"T_69727_row20_col9\" class=\"data row20 col9\" >0</td>\n",
       "      <td id=\"T_69727_row20_col10\" class=\"data row20 col10\" >0</td>\n",
       "      <td id=\"T_69727_row20_col11\" class=\"data row20 col11\" >0</td>\n",
       "      <td id=\"T_69727_row20_col12\" class=\"data row20 col12\" >0</td>\n",
       "      <td id=\"T_69727_row20_col13\" class=\"data row20 col13\" >0</td>\n",
       "      <td id=\"T_69727_row20_col14\" class=\"data row20 col14\" >0</td>\n",
       "      <td id=\"T_69727_row20_col15\" class=\"data row20 col15\" >0</td>\n",
       "      <td id=\"T_69727_row20_col16\" class=\"data row20 col16\" >0</td>\n",
       "      <td id=\"T_69727_row20_col17\" class=\"data row20 col17\" >0</td>\n",
       "      <td id=\"T_69727_row20_col18\" class=\"data row20 col18\" >0</td>\n",
       "      <td id=\"T_69727_row20_col19\" class=\"data row20 col19\" >0</td>\n",
       "      <td id=\"T_69727_row20_col20\" class=\"data row20 col20\" >0</td>\n",
       "      <td id=\"T_69727_row20_col21\" class=\"data row20 col21\" >0</td>\n",
       "    </tr>\n",
       "    <tr>\n",
       "      <th id=\"T_69727_level0_row21\" class=\"row_heading level0 row21\" >21</th>\n",
       "      <td id=\"T_69727_row21_col0\" class=\"data row21 col0\" >0</td>\n",
       "      <td id=\"T_69727_row21_col1\" class=\"data row21 col1\" >34</td>\n",
       "      <td id=\"T_69727_row21_col2\" class=\"data row21 col2\" >226</td>\n",
       "      <td id=\"T_69727_row21_col3\" class=\"data row21 col3\" >254</td>\n",
       "      <td id=\"T_69727_row21_col4\" class=\"data row21 col4\" >254</td>\n",
       "      <td id=\"T_69727_row21_col5\" class=\"data row21 col5\" >209</td>\n",
       "      <td id=\"T_69727_row21_col6\" class=\"data row21 col6\" >21</td>\n",
       "      <td id=\"T_69727_row21_col7\" class=\"data row21 col7\" >0</td>\n",
       "      <td id=\"T_69727_row21_col8\" class=\"data row21 col8\" >0</td>\n",
       "      <td id=\"T_69727_row21_col9\" class=\"data row21 col9\" >0</td>\n",
       "      <td id=\"T_69727_row21_col10\" class=\"data row21 col10\" >0</td>\n",
       "      <td id=\"T_69727_row21_col11\" class=\"data row21 col11\" >0</td>\n",
       "      <td id=\"T_69727_row21_col12\" class=\"data row21 col12\" >0</td>\n",
       "      <td id=\"T_69727_row21_col13\" class=\"data row21 col13\" >0</td>\n",
       "      <td id=\"T_69727_row21_col14\" class=\"data row21 col14\" >0</td>\n",
       "      <td id=\"T_69727_row21_col15\" class=\"data row21 col15\" >0</td>\n",
       "      <td id=\"T_69727_row21_col16\" class=\"data row21 col16\" >0</td>\n",
       "      <td id=\"T_69727_row21_col17\" class=\"data row21 col17\" >0</td>\n",
       "      <td id=\"T_69727_row21_col18\" class=\"data row21 col18\" >0</td>\n",
       "      <td id=\"T_69727_row21_col19\" class=\"data row21 col19\" >0</td>\n",
       "      <td id=\"T_69727_row21_col20\" class=\"data row21 col20\" >0</td>\n",
       "      <td id=\"T_69727_row21_col21\" class=\"data row21 col21\" >0</td>\n",
       "    </tr>\n",
       "    <tr>\n",
       "      <th id=\"T_69727_level0_row22\" class=\"row_heading level0 row22\" >22</th>\n",
       "      <td id=\"T_69727_row22_col0\" class=\"data row22 col0\" >0</td>\n",
       "      <td id=\"T_69727_row22_col1\" class=\"data row22 col1\" >0</td>\n",
       "      <td id=\"T_69727_row22_col2\" class=\"data row22 col2\" >0</td>\n",
       "      <td id=\"T_69727_row22_col3\" class=\"data row22 col3\" >0</td>\n",
       "      <td id=\"T_69727_row22_col4\" class=\"data row22 col4\" >0</td>\n",
       "      <td id=\"T_69727_row22_col5\" class=\"data row22 col5\" >0</td>\n",
       "      <td id=\"T_69727_row22_col6\" class=\"data row22 col6\" >0</td>\n",
       "      <td id=\"T_69727_row22_col7\" class=\"data row22 col7\" >0</td>\n",
       "      <td id=\"T_69727_row22_col8\" class=\"data row22 col8\" >0</td>\n",
       "      <td id=\"T_69727_row22_col9\" class=\"data row22 col9\" >0</td>\n",
       "      <td id=\"T_69727_row22_col10\" class=\"data row22 col10\" >0</td>\n",
       "      <td id=\"T_69727_row22_col11\" class=\"data row22 col11\" >0</td>\n",
       "      <td id=\"T_69727_row22_col12\" class=\"data row22 col12\" >0</td>\n",
       "      <td id=\"T_69727_row22_col13\" class=\"data row22 col13\" >0</td>\n",
       "      <td id=\"T_69727_row22_col14\" class=\"data row22 col14\" >0</td>\n",
       "      <td id=\"T_69727_row22_col15\" class=\"data row22 col15\" >0</td>\n",
       "      <td id=\"T_69727_row22_col16\" class=\"data row22 col16\" >0</td>\n",
       "      <td id=\"T_69727_row22_col17\" class=\"data row22 col17\" >0</td>\n",
       "      <td id=\"T_69727_row22_col18\" class=\"data row22 col18\" >0</td>\n",
       "      <td id=\"T_69727_row22_col19\" class=\"data row22 col19\" >0</td>\n",
       "      <td id=\"T_69727_row22_col20\" class=\"data row22 col20\" >0</td>\n",
       "      <td id=\"T_69727_row22_col21\" class=\"data row22 col21\" >0</td>\n",
       "    </tr>\n",
       "  </tbody>\n",
       "</table>\n"
      ],
      "text/plain": [
       "<pandas.io.formats.style.Styler at 0x160f57d0c40>"
      ]
     },
     "execution_count": 15,
     "metadata": {},
     "output_type": "execute_result"
    }
   ],
   "source": [
    "im7_t = tensor(im7)\n",
    "df_7 = pd.DataFrame(im7_t[4:27, 4:26])\n",
    "df_7.style.set_properties(**{'font-siz': '6pt'}).background_gradient('Greys')"
   ]
  },
  {
   "cell_type": "markdown",
   "metadata": {},
   "source": [
    "Notice: As it is seen, the background white pixels are sotred as the number 0, black is the number 255, and shades of gray are between the two. The entire images contains 28 pixels across and 28 pixels down, for a total of 768 pixels."
   ]
  },
  {
   "cell_type": "markdown",
   "metadata": {},
   "source": [
    "In the next line, I get all the 3s and 7s pictures into a tensor:"
   ]
  },
  {
   "cell_type": "code",
   "execution_count": 16,
   "metadata": {},
   "outputs": [
    {
     "data": {
      "text/plain": [
       "(6131, 6265)"
      ]
     },
     "execution_count": 16,
     "metadata": {},
     "output_type": "execute_result"
    }
   ],
   "source": [
    "seven_tensors = [tensor(Image.open(o)) for o in sevens]\n",
    "three_tensors = [tensor(Image.open(o)) for o in threes]\n",
    "len(three_tensors), len(seven_tensors)"
   ]
  },
  {
   "cell_type": "markdown",
   "metadata": {},
   "source": [
    "In the next line, I show the first element of the `three_tensors` and the `seven_tensors`:"
   ]
  },
  {
   "cell_type": "code",
   "execution_count": 17,
   "metadata": {},
   "outputs": [
    {
     "data": {
      "text/plain": [
       "<AxesSubplot:>"
      ]
     },
     "execution_count": 17,
     "metadata": {},
     "output_type": "execute_result"
    },
    {
     "data": {
      "image/png": "[encoded data removed]",
      "text/plain": [
       "<Figure size 100x100 with 1 Axes>"
      ]
     },
     "metadata": {},
     "output_type": "display_data"
    }
   ],
   "source": [
    "show_image(three_tensors[1])"
   ]
  },
  {
   "cell_type": "code",
   "execution_count": 18,
   "metadata": {},
   "outputs": [
    {
     "data": {
      "text/plain": [
       "<AxesSubplot:>"
      ]
     },
     "execution_count": 18,
     "metadata": {},
     "output_type": "execute_result"
    },
    {
     "data": {
      "image/png": "[encoded data removed]",
      "text/plain": [
       "<Figure size 100x100 with 1 Axes>"
      ]
     },
     "metadata": {},
     "output_type": "display_data"
    }
   ],
   "source": [
    "show_image(seven_tensors[1])"
   ]
  },
  {
   "cell_type": "markdown",
   "metadata": {},
   "source": [
    "As I want to compute the average over all the images of the intensity of that pixel, I should combine all the images in this list into a single three-dimensional tensor. To do this, I use the `stack` function from PyTorch library as follows (Since some of PyTorch operation needs types to be changed, I should cast the pixel numbers to float as follows):"
   ]
  },
  {
   "cell_type": "code",
   "execution_count": 19,
   "metadata": {},
   "outputs": [],
   "source": [
    "stacked_sevens = torch.stack(seven_tensors).float()/255\n",
    "stacked_threes = torch.stack(three_tensors).float()/255"
   ]
  },
  {
   "cell_type": "code",
   "execution_count": 20,
   "metadata": {},
   "outputs": [
    {
     "data": {
      "text/plain": [
       "torch.Size([6265, 28, 28])"
      ]
     },
     "execution_count": 20,
     "metadata": {},
     "output_type": "execute_result"
    }
   ],
   "source": [
    "stacked_sevens.shape"
   ]
  },
  {
   "cell_type": "code",
   "execution_count": 21,
   "metadata": {},
   "outputs": [
    {
     "data": {
      "text/plain": [
       "torch.Size([6131, 28, 28])"
      ]
     },
     "execution_count": 21,
     "metadata": {},
     "output_type": "execute_result"
    }
   ],
   "source": [
    "stacked_threes.shape"
   ]
  },
  {
   "cell_type": "markdown",
   "metadata": {},
   "source": [
    "The `shape` attribute returns three axis as follows:\n",
    "1. First axis: Number of images\n",
    "1. Second axis: Height\n",
    "1. Third axis: Width"
   ]
  },
  {
   "cell_type": "markdown",
   "metadata": {},
   "source": [
    "In the next line, I show the rank of the tensors:"
   ]
  },
  {
   "cell_type": "code",
   "execution_count": 22,
   "metadata": {},
   "outputs": [
    {
     "data": {
      "text/plain": [
       "3"
      ]
     },
     "execution_count": 22,
     "metadata": {},
     "output_type": "execute_result"
    }
   ],
   "source": [
    "len(stacked_threes.shape)"
   ]
  },
  {
   "cell_type": "code",
   "execution_count": 23,
   "metadata": {},
   "outputs": [
    {
     "data": {
      "text/plain": [
       "3"
      ]
     },
     "execution_count": 23,
     "metadata": {},
     "output_type": "execute_result"
    }
   ],
   "source": [
    "len(stacked_sevens.shape)"
   ]
  },
  {
   "cell_type": "markdown",
   "metadata": {},
   "source": [
    "Notice:\n",
    "- rank: It is the number of axes or dimensions in a tensor\n",
    "- shape: It is the size of each axis of a tensor"
   ]
  },
  {
   "cell_type": "markdown",
   "metadata": {},
   "source": [
    "In the next line, I get the rank of the tensors in another way:"
   ]
  },
  {
   "cell_type": "code",
   "execution_count": 24,
   "metadata": {},
   "outputs": [
    {
     "data": {
      "text/plain": [
       "3"
      ]
     },
     "execution_count": 24,
     "metadata": {},
     "output_type": "execute_result"
    }
   ],
   "source": [
    "stacked_threes.ndim"
   ]
  },
  {
   "cell_type": "code",
   "execution_count": 25,
   "metadata": {},
   "outputs": [
    {
     "data": {
      "text/plain": [
       "3"
      ]
     },
     "execution_count": 25,
     "metadata": {},
     "output_type": "execute_result"
    }
   ],
   "source": [
    "stacked_sevens.ndim"
   ]
  },
  {
   "cell_type": "markdown",
   "metadata": {},
   "source": [
    "Finally, I can compute what the ideal 3 looks like. I calculate the mean of all the image tenosrs by taking the mean along dimension 0 our stacked, rank-3 tensor. This is the dimension that indexes over all the images. In other words, for every pixel position, this will compute the average of that pixel over all images. The result will be one value for every pixel position, or a single image. The result is as follows:"
   ]
  },
  {
   "cell_type": "code",
   "execution_count": 26,
   "metadata": {},
   "outputs": [],
   "source": [
    "mean7 = stacked_sevens.mean(0)\n",
    "mean3 = stacked_threes.mean(0)"
   ]
  },
  {
   "cell_type": "code",
   "execution_count": 27,
   "metadata": {},
   "outputs": [
    {
     "data": {
      "text/plain": [
       "<AxesSubplot:>"
      ]
     },
     "execution_count": 27,
     "metadata": {},
     "output_type": "execute_result"
    },
    {
     "data": {
      "image/png": "[encoded data removed]",
      "text/plain": [
       "<Figure size 100x100 with 1 Axes>"
      ]
     },
     "metadata": {},
     "output_type": "display_data"
    }
   ],
   "source": [
    "show_image(mean7)"
   ]
  },
  {
   "cell_type": "code",
   "execution_count": 28,
   "metadata": {},
   "outputs": [
    {
     "data": {
      "text/plain": [
       "<AxesSubplot:>"
      ]
     },
     "execution_count": 28,
     "metadata": {},
     "output_type": "execute_result"
    },
    {
     "data": {
      "image/png": "[encoded data removed]",
      "text/plain": [
       "<Figure size 100x100 with 1 Axes>"
      ]
     },
     "metadata": {},
     "output_type": "display_data"
    }
   ],
   "source": [
    "show_image(mean3)"
   ]
  },
  {
   "cell_type": "markdown",
   "metadata": {},
   "source": [
    "In the next line, I show the arbitary image from stacked converted tenosrs:"
   ]
  },
  {
   "cell_type": "code",
   "execution_count": 29,
   "metadata": {},
   "outputs": [],
   "source": [
    "a_7 = stacked_sevens[1]\n",
    "a_3 = stacked_threes[1]"
   ]
  },
  {
   "cell_type": "code",
   "execution_count": 30,
   "metadata": {},
   "outputs": [
    {
     "data": {
      "text/plain": [
       "<AxesSubplot:>"
      ]
     },
     "execution_count": 30,
     "metadata": {},
     "output_type": "execute_result"
    },
    {
     "data": {
      "image/png": "[encoded data removed]",
      "text/plain": [
       "<Figure size 100x100 with 1 Axes>"
      ]
     },
     "metadata": {},
     "output_type": "display_data"
    }
   ],
   "source": [
    "show_image(a_7)"
   ]
  },
  {
   "cell_type": "code",
   "execution_count": 31,
   "metadata": {},
   "outputs": [
    {
     "data": {
      "text/plain": [
       "<AxesSubplot:>"
      ]
     },
     "execution_count": 31,
     "metadata": {},
     "output_type": "execute_result"
    },
    {
     "data": {
      "image/png": "[encoded data removed]",
      "text/plain": [
       "<Figure size 100x100 with 1 Axes>"
      ]
     },
     "metadata": {},
     "output_type": "display_data"
    }
   ],
   "source": [
    "show_image(a_3)"
   ]
  },
  {
   "cell_type": "markdown",
   "metadata": {},
   "source": [
    "Let's talk about how the differences between these images and our ideal digit are calculated. For this purpose, I can't just add up the differences between the pixels of this image and the ideal digit. Because it may cause that whether the image is too dark or too light, it returns no differences. So alternatively I could calculate the norm 1 - mean absolute - or norm 2 - root mean square error. This process is done as follows:"
   ]
  },
  {
   "cell_type": "code",
   "execution_count": 32,
   "metadata": {},
   "outputs": [],
   "source": [
    "# For 3 image\n",
    "dist_3_abs = (a_3 - mean3).abs().mean() # Mean absolute\n",
    "dist_3_sqr = ((a_3 - mean3) ** 2).mean().sqrt() # Root mean square error"
   ]
  },
  {
   "cell_type": "code",
   "execution_count": 33,
   "metadata": {},
   "outputs": [],
   "source": [
    "# For 7 image\n",
    "dist_7_abs = (a_7 - mean7).abs().mean() # Mean absolute\n",
    "dist_7_sqr = ((a_7 - mean7) ** 2).mean().sqrt() # Root mean square error"
   ]
  },
  {
   "cell_type": "code",
   "execution_count": 34,
   "metadata": {},
   "outputs": [
    {
     "name": "stdout",
     "output_type": "stream",
     "text": [
      "Mean absolute for 3 image:  tensor(0.1114) And Root mean square error for 3 image:  tensor(0.2021)\n"
     ]
    }
   ],
   "source": [
    "print(\"Mean absolute for 3 image: \", dist_3_abs, \"And Root mean square error for 3 image: \", dist_3_sqr)"
   ]
  },
  {
   "cell_type": "code",
   "execution_count": 35,
   "metadata": {},
   "outputs": [
    {
     "name": "stdout",
     "output_type": "stream",
     "text": [
      "Mean absolute for 7 image:  tensor(0.1304) And Root mean square error for 7 image:  tensor(0.2585)\n"
     ]
    }
   ],
   "source": [
    "print(\"Mean absolute for 7 image: \", dist_7_abs, \"And Root mean square error for 7 image: \", dist_7_sqr)"
   ]
  },
  {
   "cell_type": "markdown",
   "metadata": {},
   "source": [
    "In the next line, I use the PyTorch and its *loss function*:"
   ]
  },
  {
   "cell_type": "code",
   "execution_count": 36,
   "metadata": {},
   "outputs": [
    {
     "data": {
      "text/plain": [
       "(tensor(0.1114), tensor(0.2021))"
      ]
     },
     "execution_count": 36,
     "metadata": {},
     "output_type": "execute_result"
    }
   ],
   "source": [
    "F.l1_loss(a_3.float(), mean3), F.mse_loss(a_3, mean3).sqrt()"
   ]
  },
  {
   "cell_type": "code",
   "execution_count": 37,
   "metadata": {},
   "outputs": [
    {
     "data": {
      "text/plain": [
       "(tensor(0.1304), tensor(0.2585))"
      ]
     },
     "execution_count": 37,
     "metadata": {},
     "output_type": "execute_result"
    }
   ],
   "source": [
    "F.l1_loss(a_7.float(), mean7), F.mse_loss(a_7, mean7).sqrt()"
   ]
  },
  {
   "cell_type": "markdown",
   "metadata": {},
   "source": [
    "In the next lines, I want to calculate the metrics - that tell us how good our model is - instead of just calculating the mean square error and the mean absolute error that are not sensible to most of the poeple."
   ]
  },
  {
   "cell_type": "code",
   "execution_count": 38,
   "metadata": {},
   "outputs": [],
   "source": [
    "# For number 3\n",
    "valid_3_tensors = torch.stack([tensor(Image.open(o)) for o in (path/'valid'/'3').ls()])\n",
    "valid_3_tensors = valid_3_tensors.float()/255\n",
    "\n",
    "# For number 7\n",
    "valid_7_tensors = torch.stack([tensor(Image.open(o)) for o in (path/'valid'/'7').ls()])\n",
    "valid_7_tensors = valid_7_tensors.float()/255"
   ]
  },
  {
   "cell_type": "code",
   "execution_count": 39,
   "metadata": {},
   "outputs": [
    {
     "data": {
      "text/plain": [
       "torch.Size([1010, 28, 28])"
      ]
     },
     "execution_count": 39,
     "metadata": {},
     "output_type": "execute_result"
    }
   ],
   "source": [
    "valid_3_tensors.shape"
   ]
  },
  {
   "cell_type": "code",
   "execution_count": 40,
   "metadata": {},
   "outputs": [
    {
     "data": {
      "text/plain": [
       "torch.Size([1028, 28, 28])"
      ]
     },
     "execution_count": 40,
     "metadata": {},
     "output_type": "execute_result"
    }
   ],
   "source": [
    "valid_7_tensors.shape"
   ]
  },
  {
   "cell_type": "markdown",
   "metadata": {},
   "source": [
    "In the next lines, I want to write a function that calculates the mean absolute error to tell what is the distance betweent the arbitrary image and the ideal digit:"
   ]
  },
  {
   "cell_type": "code",
   "execution_count": 41,
   "metadata": {},
   "outputs": [],
   "source": [
    "def mnist_distance(a, b):\n",
    "    return (a - b).abs().mean((-1, -2))"
   ]
  },
  {
   "cell_type": "markdown",
   "metadata": {},
   "source": [
    "In the next line, I got the same exact result of checking the how far the ideal digit that is mean3 and the arbitrary image - a_3."
   ]
  },
  {
   "cell_type": "code",
   "execution_count": 42,
   "metadata": {},
   "outputs": [
    {
     "data": {
      "text/plain": [
       "tensor(0.1114)"
      ]
     },
     "execution_count": 42,
     "metadata": {},
     "output_type": "execute_result"
    }
   ],
   "source": [
    "mnist_distance(a_3, mean3)"
   ]
  },
  {
   "cell_type": "markdown",
   "metadata": {},
   "source": [
    "In the next line, I pass the `valid_3_tensors` to the mnist to get the mean absolute error on all of images:"
   ]
  },
  {
   "cell_type": "code",
   "execution_count": 43,
   "metadata": {},
   "outputs": [
    {
     "name": "stdout",
     "output_type": "stream",
     "text": [
      "The validation shape:  torch.Size([1010, 28, 28]) The ideal digit size:  torch.Size([28, 28])\n"
     ]
    }
   ],
   "source": [
    "print(\"The validation shape: \", valid_3_tensors.shape, \"The ideal digit size: \", mean3.shape)"
   ]
  },
  {
   "cell_type": "code",
   "execution_count": 44,
   "metadata": {},
   "outputs": [],
   "source": [
    "# For number 3 tensors\n",
    "valid_3_distance = mnist_distance(valid_3_tensors, mean3)\n",
    "\n",
    "# For number 7 tensors\n",
    "valid_7_distance = mnist_distance(valid_7_tensors, mean7)"
   ]
  },
  {
   "cell_type": "code",
   "execution_count": 45,
   "metadata": {},
   "outputs": [
    {
     "data": {
      "text/plain": [
       "tensor([0.1280, 0.1623, 0.1242,  ..., 0.1508, 0.1263, 0.1260])"
      ]
     },
     "execution_count": 45,
     "metadata": {},
     "output_type": "execute_result"
    }
   ],
   "source": [
    "valid_3_distance"
   ]
  },
  {
   "cell_type": "code",
   "execution_count": 46,
   "metadata": {},
   "outputs": [
    {
     "data": {
      "text/plain": [
       "torch.Size([1010])"
      ]
     },
     "execution_count": 46,
     "metadata": {},
     "output_type": "execute_result"
    }
   ],
   "source": [
    "valid_3_distance.shape"
   ]
  },
  {
   "cell_type": "code",
   "execution_count": 47,
   "metadata": {},
   "outputs": [
    {
     "data": {
      "text/plain": [
       "tensor([0.0874, 0.0971, 0.1050,  ..., 0.0893, 0.0983, 0.0977])"
      ]
     },
     "execution_count": 47,
     "metadata": {},
     "output_type": "execute_result"
    }
   ],
   "source": [
    "valid_7_distance"
   ]
  },
  {
   "cell_type": "code",
   "execution_count": 48,
   "metadata": {},
   "outputs": [
    {
     "data": {
      "text/plain": [
       "torch.Size([1028])"
      ]
     },
     "execution_count": 48,
     "metadata": {},
     "output_type": "execute_result"
    }
   ],
   "source": [
    "valid_7_distance.shape"
   ]
  },
  {
   "cell_type": "markdown",
   "metadata": {},
   "source": [
    "In the next line, I can use the `mnist_distance` to figure out whether an image is a 3 by using the following logic: If the distance between the digit in question and the ideal is less than the distance to the ideal 7, then it's a 3. This function will automatically do broadcasting - do a simple operation over all elements of a tensor - and be applied elementwise, just like all PyTorch functions and operators:"
   ]
  },
  {
   "cell_type": "code",
   "execution_count": 49,
   "metadata": {},
   "outputs": [],
   "source": [
    "def is_3(desired_number, ideal_3_digit, ideal_7_digit):\n",
    "    return mnist_distance(desired_number, ideal_3_digit) < mnist_distance(desired_number, ideal_7_digit)"
   ]
  },
  {
   "cell_type": "markdown",
   "metadata": {},
   "source": [
    "In the next line, let's check on our example case that is `a_3':"
   ]
  },
  {
   "cell_type": "code",
   "execution_count": 50,
   "metadata": {},
   "outputs": [
    {
     "data": {
      "text/plain": [
       "tensor(True)"
      ]
     },
     "execution_count": 50,
     "metadata": {},
     "output_type": "execute_result"
    }
   ],
   "source": [
    "is_3(a_3, mean3, mean7)"
   ]
  },
  {
   "cell_type": "code",
   "execution_count": 51,
   "metadata": {},
   "outputs": [
    {
     "data": {
      "text/plain": [
       "tensor(1.)"
      ]
     },
     "execution_count": 51,
     "metadata": {},
     "output_type": "execute_result"
    }
   ],
   "source": [
    "is_3(a_3, mean3, mean7).float()"
   ]
  },
  {
   "cell_type": "markdown",
   "metadata": {},
   "source": [
    "Thanks to broadcasting, I can also test it on the full validation set of 3s and 7s as well:"
   ]
  },
  {
   "cell_type": "code",
   "execution_count": 52,
   "metadata": {},
   "outputs": [
    {
     "data": {
      "text/plain": [
       "tensor([ True,  True,  True,  ..., False,  True,  True])"
      ]
     },
     "execution_count": 52,
     "metadata": {},
     "output_type": "execute_result"
    }
   ],
   "source": [
    "is_3(valid_3_tensors, mean3, mean7)"
   ]
  },
  {
   "cell_type": "code",
   "execution_count": 53,
   "metadata": {},
   "outputs": [
    {
     "data": {
      "text/plain": [
       "tensor([False, False, False,  ..., False, False, False])"
      ]
     },
     "execution_count": 53,
     "metadata": {},
     "output_type": "execute_result"
    }
   ],
   "source": [
    "is_3(valid_7_tensors, mean3, mean7)"
   ]
  },
  {
   "cell_type": "markdown",
   "metadata": {},
   "source": [
    "Now I can calculate the accuracy for each of the 3s and 7s, by taking the average of that function for all 3s and its inverse for all 7s:"
   ]
  },
  {
   "cell_type": "code",
   "execution_count": 54,
   "metadata": {},
   "outputs": [],
   "source": [
    "accuracy_3s =      is_3(valid_3_tensors, mean3, mean7).float().mean()\n",
    "accuracy_7s = (1 - is_3(valid_7_tensors, mean3, mean7).float()).mean()"
   ]
  },
  {
   "cell_type": "code",
   "execution_count": 55,
   "metadata": {},
   "outputs": [
    {
     "data": {
      "text/plain": [
       "tensor(0.9168)"
      ]
     },
     "execution_count": 55,
     "metadata": {},
     "output_type": "execute_result"
    }
   ],
   "source": [
    "accuracy_3s"
   ]
  },
  {
   "cell_type": "code",
   "execution_count": 56,
   "metadata": {},
   "outputs": [
    {
     "data": {
      "text/plain": [
       "tensor(0.9854)"
      ]
     },
     "execution_count": 56,
     "metadata": {},
     "output_type": "execute_result"
    }
   ],
   "source": [
    "accuracy_7s"
   ]
  },
  {
   "cell_type": "code",
   "execution_count": 57,
   "metadata": {},
   "outputs": [
    {
     "data": {
      "text/plain": [
       "tensor(0.9511)"
      ]
     },
     "execution_count": 57,
     "metadata": {},
     "output_type": "execute_result"
    }
   ],
   "source": [
    "(accuracy_3s + accuracy_7s)/2"
   ]
  },
  {
   "cell_type": "markdown",
   "metadata": {},
   "source": [
    "As it is seen, the accuracy for detecting the 3 and 7 is more 90%. It is good, but enough!"
   ]
  },
  {
   "cell_type": "markdown",
   "metadata": {},
   "source": [
    "## <span style=\"color:orange\">**Stochastic Gradient Descent**</span>\n",
    "\n",
    "In the next lines, I want to allow myself to have a model that can get better and better - that can learn. But my pixel similarity approach does not really do this. Instead of trying to find the similarity between an image and an \"ideal image\", I could insead look at each individual pixel and come up with a set of weights for each, such that the highest weights are associated with those pixels most likely to be black for a particular category. For instance, pixels toward the bottom right are not very likely to be activated for a 7, so they should have a low weight for a 7, but they are likely to be activated for an 8, so they should have a high weight for an 8. To be more specific, here the steps required to turn this function¹:\n",
    "```\n",
    "def pridict_eight(x, w):\n",
    "    (x * w).sum()\n",
    "```\n",
    "into a machine learning classifier:\n",
    "1. **Initialize** the weights\n",
    "2. For each image, use these weights to **predict** whether it appears to be a 3 or a 7.\n",
    "3. Based on these predictions, calculate how good the model is (its **loss**).\n",
    "4. Calculate the **gradient**, which measures for each weight how changing that weight would change the loss.\n",
    "5. **Step** (that is, change) all the weights based on that calculation.\n",
    "6. Go back to step 2 and **repeat** the process.\n",
    "7. Iterate until you decide to **stop** the training process (for instance, because the model is good enough or you don't want to wait any longer).\n",
    "---\n",
    "¹ To explain more about this function: I am assuming that `x` is the image, represented as a vector - in other words, with all of the rows stacked up end to end into a single long line. And I am assuming that the weights are a vector `w`. If I have this function, I just need some way to update the weights to make them a little bit better. With such an approach, I can repeat that step a number of times, making the weights better and better, until they are as good as I can make them."
   ]
  },
  {
   "cell_type": "markdown",
   "metadata": {},
   "source": [
    "# <span style=\"color:orange\">**Learning Session:**</span>"
   ]
  },
  {
   "cell_type": "markdown",
   "metadata": {},
   "source": [
    "In the next bloc, I defined the plot_function to plot the function itself."
   ]
  },
  {
   "cell_type": "code",
   "execution_count": 58,
   "metadata": {},
   "outputs": [],
   "source": [
    "def plot_function(f, tx=None, ty=None, title=None, min=-2, max=2, figsize=(6,4)):\n",
    "    x = torch.linspace(min,max, 100)\n",
    "    fig,ax = plt.subplots(figsize=figsize)\n",
    "    ax.plot(x,f(x))\n",
    "    if tx is not None: ax.set_xlabel(tx)\n",
    "    if ty is not None: ax.set_ylabel(ty)\n",
    "    if title is not None: ax.set_title(title)"
   ]
  },
  {
   "cell_type": "markdown",
   "metadata": {},
   "source": [
    "In the next bloc, I defined a quadratic function to use the `plot_function` to plot it."
   ]
  },
  {
   "cell_type": "code",
   "execution_count": 59,
   "metadata": {},
   "outputs": [
    {
     "data": {
      "image/png": "[encoded data removed]",
      "text/plain": [
       "<Figure size 600x400 with 1 Axes>"
      ]
     },
     "metadata": {},
     "output_type": "display_data"
    }
   ],
   "source": [
    "def f(x):\n",
    "    return x**2\n",
    "\n",
    "plot_function(f, 'x', 'x**2')"
   ]
  },
  {
   "cell_type": "markdown",
   "metadata": {},
   "source": [
    "In the next bloc, I use the `plot_function` to plot the quadratic function and a point on it."
   ]
  },
  {
   "cell_type": "code",
   "execution_count": 60,
   "metadata": {},
   "outputs": [
    {
     "data": {
      "text/plain": [
       "<matplotlib.collections.PathCollection at 0x160f77089d0>"
      ]
     },
     "execution_count": 60,
     "metadata": {},
     "output_type": "execute_result"
    },
    {
     "data": {
      "image/png": "[encoded data removed]",
      "text/plain": [
       "<Figure size 600x400 with 1 Axes>"
      ]
     },
     "metadata": {},
     "output_type": "display_data"
    }
   ],
   "source": [
    "plot_function(f, 'x', 'x**2')\n",
    "plt.scatter(-1.5, f(-1.5), color='red')"
   ]
  },
  {
   "cell_type": "markdown",
   "metadata": {},
   "source": [
    "In the next bloc, I pick a tensor value at which I want calculate the gradient:"
   ]
  },
  {
   "cell_type": "code",
   "execution_count": 61,
   "metadata": {},
   "outputs": [],
   "source": [
    "xt = tensor(3.).requires_grad_()"
   ]
  },
  {
   "cell_type": "markdown",
   "metadata": {},
   "source": [
    "In the next bloc, I calculate my function with that value:"
   ]
  },
  {
   "cell_type": "code",
   "execution_count": 62,
   "metadata": {},
   "outputs": [
    {
     "name": "stdout",
     "output_type": "stream",
     "text": [
      "The y(x) is  tensor(9., grad_fn=<PowBackward0>)\n"
     ]
    }
   ],
   "source": [
    "yt = f(xt)\n",
    "print(\"The y(x) is \", yt)"
   ]
  },
  {
   "cell_type": "markdown",
   "metadata": {},
   "source": [
    "In the next bloc, finally I tell PyTorch to calculate the gradients for me:"
   ]
  },
  {
   "cell_type": "code",
   "execution_count": 63,
   "metadata": {},
   "outputs": [],
   "source": [
    "yt.backward()"
   ]
  },
  {
   "cell_type": "markdown",
   "metadata": {},
   "source": [
    "In the next bloc, I can now view the gradients by checking the grad attribute of my tensor:"
   ]
  },
  {
   "cell_type": "code",
   "execution_count": 64,
   "metadata": {},
   "outputs": [
    {
     "data": {
      "text/plain": [
       "tensor(6.)"
      ]
     },
     "execution_count": 64,
     "metadata": {},
     "output_type": "execute_result"
    }
   ],
   "source": [
    "xt.grad"
   ]
  },
  {
   "cell_type": "markdown",
   "metadata": {},
   "source": [
    "In the next bloc, I try the same procedure for a vecor argument:"
   ]
  },
  {
   "cell_type": "code",
   "execution_count": 65,
   "metadata": {},
   "outputs": [
    {
     "data": {
      "text/plain": [
       "tensor([ 3.,  4., 10.], requires_grad=True)"
      ]
     },
     "execution_count": 65,
     "metadata": {},
     "output_type": "execute_result"
    }
   ],
   "source": [
    "xt1 = tensor([3., 4., 10.]).requires_grad_()\n",
    "xt1"
   ]
  },
  {
   "cell_type": "markdown",
   "metadata": {},
   "source": [
    "In the next bloc, I wnat add sum to my function so it can take a vector (i.e., a rank-1 tensor) and return a scaler (i.e., a rank-0 tensor):"
   ]
  },
  {
   "cell_type": "code",
   "execution_count": 66,
   "metadata": {},
   "outputs": [
    {
     "data": {
      "text/plain": [
       "tensor(125., grad_fn=<SumBackward0>)"
      ]
     },
     "execution_count": 66,
     "metadata": {},
     "output_type": "execute_result"
    }
   ],
   "source": [
    "def f1(x):\n",
    "    return (x**2).sum()\n",
    "\n",
    "yt2 = f1(xt1)\n",
    "yt2"
   ]
  },
  {
   "cell_type": "markdown",
   "metadata": {},
   "source": [
    "In the next bloc, I calculate the gradients and the results are as I expect:"
   ]
  },
  {
   "cell_type": "code",
   "execution_count": 67,
   "metadata": {},
   "outputs": [],
   "source": [
    "yt2.backward()"
   ]
  },
  {
   "cell_type": "code",
   "execution_count": 68,
   "metadata": {},
   "outputs": [
    {
     "data": {
      "text/plain": [
       "tensor([ 6.,  8., 20.])"
      ]
     },
     "execution_count": 68,
     "metadata": {},
     "output_type": "execute_result"
    }
   ],
   "source": [
    "xt1.grad"
   ]
  },
  {
   "cell_type": "markdown",
   "metadata": {},
   "source": [
    "Now it's time to look at an SGD example and see how finding a minimum can be used to train a model to fit data better. In the next lines, I do this:\n",
    "\n",
    "Imagine you were measuring the speed of a roller coaster as it went over the top of a hump. It would start fast, and then get slower as it went up the hill; it would be slowest at the top, and it would then speed up again as it went downhill. I want to build a model of how the speed changes over time."
   ]
  },
  {
   "cell_type": "code",
   "execution_count": 69,
   "metadata": {},
   "outputs": [
    {
     "name": "stdout",
     "output_type": "stream",
     "text": [
      "tensor([ 0.,  1.,  2.,  3.,  4.,  5.,  6.,  7.,  8.,  9., 10., 11., 12., 13., 14., 15., 16., 17., 18., 19.])\n"
     ]
    }
   ],
   "source": [
    "time = torch.arange(0, 20).float();\n",
    "print(time)"
   ]
  },
  {
   "cell_type": "code",
   "execution_count": 71,
   "metadata": {},
   "outputs": [
    {
     "data": {
      "text/plain": [
       "<matplotlib.collections.PathCollection at 0x160f815baf0>"
      ]
     },
     "execution_count": 71,
     "metadata": {},
     "output_type": "execute_result"
    },
    {
     "data": {
      "image/png": "[encoded data removed]",
      "text/plain": [
       "<Figure size 640x480 with 1 Axes>"
      ]
     },
     "metadata": {},
     "output_type": "display_data"
    }
   ],
   "source": [
    "speed = torch.randn(20) * 3 + 0.75 * (time - 9.5)**2 + 1\n",
    "plt.scatter(time, speed)"
   ]
  },
  {
   "cell_type": "markdown",
   "metadata": {},
   "source": [
    "Le's guess a quadratic function for this data set:"
   ]
  },
  {
   "cell_type": "code",
   "execution_count": 72,
   "metadata": {},
   "outputs": [],
   "source": [
    "def f_training_quadratic_guess(t, params):\n",
    "    a, b, c = params\n",
    "    return a*(t**2) + (b*t) + c"
   ]
  },
  {
   "cell_type": "markdown",
   "metadata": {},
   "source": [
    "In the next line, I defined a mean square error function to see which weights or finding the quadratic parameters or constants are better:"
   ]
  },
  {
   "cell_type": "code",
   "execution_count": 73,
   "metadata": {},
   "outputs": [],
   "source": [
    "def mse(preds, targets):\n",
    "    return ((preds - targets)**2).mean()"
   ]
  },
  {
   "cell_type": "markdown",
   "metadata": {},
   "source": [
    "In the next lines, let's work through the seven-step process:"
   ]
  },
  {
   "cell_type": "markdown",
   "metadata": {},
   "source": [
    "**Step 1: Initialize the parameters**\n",
    "\n",
    "First, I initialize the parameters to random values and tell PyTorch that we want to track their gradients using `requires_grad_`:"
   ]
  },
  {
   "cell_type": "code",
   "execution_count": 76,
   "metadata": {},
   "outputs": [
    {
     "name": "stdout",
     "output_type": "stream",
     "text": [
      "tensor([0.2815, 0.0562, 0.5227], requires_grad=True)\n"
     ]
    }
   ],
   "source": [
    "params = torch.randn(3).requires_grad_()\n",
    "print(params)"
   ]
  },
  {
   "cell_type": "markdown",
   "metadata": {},
   "source": [
    "**Step 2: Calculate the predictions**\n",
    "\n",
    "Next, I calculate the predictions:"
   ]
  },
  {
   "cell_type": "code",
   "execution_count": 78,
   "metadata": {},
   "outputs": [
    {
     "data": {
      "text/plain": [
       "tensor([  0.5227,   0.8604,   1.7611,   3.2249,   5.2517,   7.8415,  10.9944,  14.7103,  18.9893,  23.8313,  29.2363,  35.2044,  41.7355,  48.8296,  56.4868,  64.7071,  73.4903,  82.8366,  92.7460,\n",
       "        103.2184], grad_fn=<AddBackward0>)"
      ]
     },
     "execution_count": 78,
     "metadata": {},
     "output_type": "execute_result"
    }
   ],
   "source": [
    "preds = f_training_quadratic_guess(time, params)\n",
    "preds"
   ]
  },
  {
   "cell_type": "markdown",
   "metadata": {},
   "source": [
    "In the next line, let's create a little function to see how close my predictions are to my targets, and take a look:"
   ]
  },
  {
   "cell_type": "code",
   "execution_count": 83,
   "metadata": {},
   "outputs": [
    {
     "data": {
      "image/png": "[encoded data removed]",
      "text/plain": [
       "<Figure size 640x480 with 1 Axes>"
      ]
     },
     "metadata": {},
     "output_type": "display_data"
    }
   ],
   "source": [
    "def show_preds(preds, ax=None):\n",
    "    if ax is None:\n",
    "        ax = plt.subplots()[1]\n",
    "    ax.scatter(time, speed)\n",
    "    ax.scatter(time, to_np(preds), color=\"orange\")\n",
    "    ax.set_ylim(-300, 100)\n",
    "    plt.ylabel(\"Velocity\")\n",
    "    plt.xlabel(\"X-axis\")\n",
    "    \n",
    "show_preds(preds)"
   ]
  },
  {
   "cell_type": "markdown",
   "metadata": {},
   "source": [
    "**Step 3: Calculate the loss**\n",
    "\n",
    "I calculate the loss as follows:"
   ]
  },
  {
   "cell_type": "code",
   "execution_count": 84,
   "metadata": {},
   "outputs": [
    {
     "data": {
      "text/plain": [
       "tensor(1325.5891, grad_fn=<MeanBackward0>)"
      ]
     },
     "execution_count": 84,
     "metadata": {},
     "output_type": "execute_result"
    }
   ],
   "source": [
    "loss = mse(preds, speed)\n",
    "loss"
   ]
  },
  {
   "cell_type": "markdown",
   "metadata": {},
   "source": [
    "**Step 4: Calculate the gradients**\n",
    "\n",
    "The next step is to calculate the gradients, or an approximation of how the parameters need to change:"
   ]
  },
  {
   "cell_type": "code",
   "execution_count": 85,
   "metadata": {},
   "outputs": [
    {
     "data": {
      "text/plain": [
       "tensor([8442.9541,  544.7577,   18.4759])"
      ]
     },
     "execution_count": 85,
     "metadata": {},
     "output_type": "execute_result"
    }
   ],
   "source": [
    "loss.backward()\n",
    "params.grad"
   ]
  },
  {
   "cell_type": "code",
   "execution_count": 86,
   "metadata": {},
   "outputs": [
    {
     "data": {
      "text/plain": [
       "tensor([0.8443, 0.0545, 0.0018])"
      ]
     },
     "execution_count": 86,
     "metadata": {},
     "output_type": "execute_result"
    }
   ],
   "source": [
    "params.grad*1e-4"
   ]
  },
  {
   "cell_type": "markdown",
   "metadata": {},
   "source": [
    "I can use these gradients to improve my parameters. I will need to pick a learning rate (I will discuss how to do that in practice in the next chapter; for now I will just use `1e-4`):"
   ]
  },
  {
   "cell_type": "code",
   "execution_count": 93,
   "metadata": {},
   "outputs": [
    {
     "data": {
      "text/plain": [
       "tensor([-0.5628,  0.0017,  0.5209], requires_grad=True)"
      ]
     },
     "execution_count": 93,
     "metadata": {},
     "output_type": "execute_result"
    }
   ],
   "source": [
    "params"
   ]
  },
  {
   "cell_type": "markdown",
   "metadata": {},
   "source": [
    "**Step 5: Step the weights**\n",
    "\n",
    "Now, I need to update the parameters based on the gradients I just calculated:"
   ]
  },
  {
   "cell_type": "code",
   "execution_count": 98,
   "metadata": {},
   "outputs": [
    {
     "data": {
      "text/plain": [
       "tensor([-0.5628,  0.0017,  0.5209], requires_grad=True)"
      ]
     },
     "execution_count": 98,
     "metadata": {},
     "output_type": "execute_result"
    }
   ],
   "source": [
    "lr = 1e-4 # The learning rate\n",
    "params.data = params.data - lr * params.grad.data\n",
    "params.grad = None"
   ]
  },
  {
   "cell_type": "markdown",
   "metadata": {},
   "source": [
    "Let's see if the loss has imporved:"
   ]
  },
  {
   "cell_type": "code",
   "execution_count": 99,
   "metadata": {},
   "outputs": [
    {
     "data": {
      "text/plain": [
       "tensor([ 5.2087e-01, -4.0220e-02, -1.7269e+00, -4.5391e+00, -8.4768e+00, -1.3540e+01, -1.9729e+01, -2.7043e+01, -3.5483e+01, -4.5049e+01, -5.5740e+01, -6.7556e+01, -8.0499e+01, -9.4566e+01,\n",
       "        -1.0976e+02, -1.2608e+02, -1.4352e+02, -1.6209e+02, -1.8179e+02, -2.0261e+02], grad_fn=<AddBackward0>)"
      ]
     },
     "execution_count": 99,
     "metadata": {},
     "output_type": "execute_result"
    }
   ],
   "source": [
    "preds = f_training_quadratic_guess(time, params)\n",
    "preds"
   ]
  },
  {
   "cell_type": "code",
   "execution_count": 100,
   "metadata": {},
   "outputs": [
    {
     "data": {
      "text/plain": [
       "tensor(14388.7158, grad_fn=<MeanBackward0>)"
      ]
     },
     "execution_count": 100,
     "metadata": {},
     "output_type": "execute_result"
    }
   ],
   "source": [
    "mse(preds, speed)"
   ]
  },
  {
   "cell_type": "code",
   "execution_count": 101,
   "metadata": {},
   "outputs": [
    {
     "data": {
      "image/png": "[encoded data removed]",
      "text/plain": [
       "<Figure size 640x480 with 1 Axes>"
      ]
     },
     "metadata": {},
     "output_type": "display_data"
    }
   ],
   "source": [
    "show_preds(preds)"
   ]
  },
  {
   "cell_type": "markdown",
   "metadata": {},
   "source": [
    "I need to repeat this a few times, so I will create a function to apply one step:"
   ]
  },
  {
   "cell_type": "code",
   "execution_count": 102,
   "metadata": {},
   "outputs": [],
   "source": [
    "def apply_step(params, prn=True):\n",
    "    preds = f_training_quadratic_guess(time, params)\n",
    "    loss = mse(preds, speed)\n",
    "    loss.backward()\n",
    "    params.data = params.data - lr * params.grad.data\n",
    "    params.grad = None\n",
    "    if prn:\n",
    "        print(loss.item())\n",
    "    return preds"
   ]
  },
  {
   "cell_type": "markdown",
   "metadata": {},
   "source": [
    "**Step 6: Repeat the process**\n",
    "\n",
    "Now I iterate. By looping and performing many improvements, I hope to reach a good result:"
   ]
  },
  {
   "cell_type": "code",
   "execution_count": 106,
   "metadata": {},
   "outputs": [
    {
     "name": "stdout",
     "output_type": "stream",
     "text": [
      "1751.866455078125\n",
      "892.3031005859375\n",
      "729.6446533203125\n",
      "698.8618774414062\n",
      "693.0339965820312\n",
      "691.9283447265625\n",
      "691.716064453125\n",
      "691.673095703125\n",
      "691.662109375\n",
      "691.6571655273438\n"
     ]
    }
   ],
   "source": [
    "lr = 1e-5 # Chaning the learning rate to 1e-5\n",
    "for i in range(10):\n",
    "    apply_step(params)"
   ]
  },
  {
   "cell_type": "markdown",
   "metadata": {},
   "source": [
    "Let's see the results visually:"
   ]
  },
  {
   "cell_type": "code",
   "execution_count": 110,
   "metadata": {},
   "outputs": [
    {
     "data": {
      "image/png": "[encoded data removed]",
      "text/plain": [
       "<Figure size 1200x300 with 4 Axes>"
      ]
     },
     "metadata": {},
     "output_type": "display_data"
    }
   ],
   "source": [
    "_, axs = plt.subplots(1, 4, figsize=(12, 3))\n",
    "for ax in axs:\n",
    "    show_preds(apply_step(params, False), ax)\n",
    "plt.tight_layout()"
   ]
  }
 ],
 "metadata": {
  "kernelspec": {
   "display_name": "Python 3 (ipykernel)",
   "language": "python",
   "name": "python3"
  },
  "language_info": {
   "codemirror_mode": {
    "name": "ipython",
    "version": 3
   },
   "file_extension": ".py",
   "mimetype": "text/x-python",
   "name": "python",
   "nbconvert_exporter": "python",
   "pygments_lexer": "ipython3",
   "version": "3.9.13"
  },
  "vscode": {
   "interpreter": {
    "hash": "9f50b64bbb53cbf9195567f7fc436db4d77eecb5b99418fc7175e635b7802c1a"
   }
  }
 },
 "nbformat": 4,
 "nbformat_minor": 2
}
