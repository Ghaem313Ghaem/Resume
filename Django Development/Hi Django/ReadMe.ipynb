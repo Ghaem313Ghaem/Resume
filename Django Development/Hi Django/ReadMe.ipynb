{
 "cells": [
  {
   "attachments": {},
   "cell_type": "markdown",
   "metadata": {},
   "source": [
    "# **Hi Django**"
   ]
  },
  {
   "attachments": {},
   "cell_type": "markdown",
   "metadata": {},
   "source": [
    "**Spent Times:**\n",
    "- Monday 13th Azar 1402 [4th December 2023]: 25 min"
   ]
  }
 ],
 "metadata": {
  "kernelspec": {
   "display_name": "Python 3",
   "language": "python",
   "name": "python3"
  },
  "language_info": {
   "name": "python",
   "version": "3.10.9 (tags/v3.10.9:1dd9be6, Dec  6 2022, 20:01:21) [MSC v.1934 64 bit (AMD64)]"
  },
  "orig_nbformat": 4,
  "vscode": {
   "interpreter": {
    "hash": "9f50b64bbb53cbf9195567f7fc436db4d77eecb5b99418fc7175e635b7802c1a"
   }
  }
 },
 "nbformat": 4,
 "nbformat_minor": 2
}
